{
 "cells": [
  {
   "cell_type": "code",
   "execution_count": null,
   "metadata": {
    "id": "APW_wSLeTljn"
   },
   "outputs": [],
   "source": [
    "!pip install pyIsoP"
   ]
  },
  {
   "cell_type": "code",
   "execution_count": null,
   "metadata": {
    "id": "Kkek08LrTwH4"
   },
   "outputs": [],
   "source": [
    "import pyIsoP.histo as histo\n",
    "import numpy as np\n",
    "import matplotlib.pyplot as plt\n",
    "import pyIsoP.grid3D as grid3D\n",
    "import pyIsoP.potentials as potentials\n",
    "import pyIsoP.forcefields as forcefields\n",
    "import pyIsoP.writer as writer\n",
    "from ase.atoms import string2symbols"
   ]
  },
  {
   "cell_type": "code",
   "execution_count": null,
   "metadata": {
    "id": "NmRYWdmTT0JA"
   },
   "outputs": [],
   "source": [
    "def fuckyoubitch(x):\n",
    "  t1=grid3D.grid3D('/____your_path_____/mof_unit_'+str(x)+'.cif',spacing=0.5)          # Intialize grid3D object\n",
    "  f1=forcefields.forcefields(t1, forcefield='C:/PyIsoP/forcefield/UFF', sigma=3.95, epsilon=46)      # Update the force field details to grid obj. t1\n",
    "  t1= grid3D.grid3D.grid_calc(t1,\"lj\",f1)\n",
    "  h = histo.histo(12)                            # Overwrite the existing object with computed 3D grid.\n",
    "  h = histo.histo.grid2histo(t1, h) \n",
    "  return h.RhoE"
   ]
  },
  {
   "cell_type": "code",
   "execution_count": null,
   "metadata": {
    "id": "65v0kksmT2gv"
   },
   "outputs": [],
   "source": [
    "lis = \n",
    "for j in range(1,68614):\n",
    "  lis.append(fuckyoubitch(j))"
   ]
  }
 ],
 "metadata": {
  "colab": {
   "collapsed_sections": [],
   "name": "pyisop.ipynb",
   "provenance": []
  },
  "kernelspec": {
   "display_name": "Python 3 (ipykernel)",
   "language": "python",
   "name": "python3"
  },
  "language_info": {
   "codemirror_mode": {
    "name": "ipython",
    "version": 3
   },
   "file_extension": ".py",
   "mimetype": "text/x-python",
   "name": "python",
   "nbconvert_exporter": "python",
   "pygments_lexer": "ipython3",
   "version": "3.7.9"
  }
 },
 "nbformat": 4,
 "nbformat_minor": 4
}

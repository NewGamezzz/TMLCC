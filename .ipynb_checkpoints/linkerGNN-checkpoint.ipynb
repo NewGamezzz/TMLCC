{
 "cells": [
  {
   "cell_type": "markdown",
   "id": "b08d8716-5267-467e-8fbf-f956bfbeeaca",
   "metadata": {},
   "source": [
    "# Import Library"
   ]
  },
  {
   "cell_type": "code",
   "execution_count": 4,
   "id": "38601030-b6e2-4ea2-9844-49c943334f6d",
   "metadata": {},
   "outputs": [],
   "source": [
    "from rdkit import Chem\n",
    "import math\n",
    "import pandas as pd\n",
    "import pickle\n",
    "import torch\n",
    "from sklearn.model_selection import train_test_split\n",
    "from sklearn.preprocessing import StandardScaler\n",
    "from torch_geometric.data import Data, Dataset\n",
    "from torch_geometric.loader import DataLoader\n",
    "import numpy as np\n",
    "from torch_geometric.nn import GINConv, GINEConv, GCNConv, GraphConv, SAGEConv, ChebConv, TopKPooling, global_add_pool, global_mean_pool\n",
    "from torch.nn import Sequential, Linear, BatchNorm1d, ReLU, Dropout\n",
    "import torch.nn.functional as F\n",
    "import torch.nn as nn\n",
    "from torch.optim.lr_scheduler import ReduceLROnPlateau\n",
    "from utils.utils import generate_graph"
   ]
  },
  {
   "cell_type": "markdown",
   "id": "4b376f8b-82c5-40bb-ba48-0dedd85f7591",
   "metadata": {},
   "source": [
    "# Run Pytorch on CUDA"
   ]
  },
  {
   "cell_type": "code",
   "execution_count": 5,
   "id": "f424459d-d858-4255-9250-1f940079f474",
   "metadata": {},
   "outputs": [
    {
     "data": {
      "text/plain": [
       "device(type='cuda')"
      ]
     },
     "execution_count": 5,
     "metadata": {},
     "output_type": "execute_result"
    }
   ],
   "source": [
    "def format_pytorch_version(version):\n",
    "    return version.split('+')[0]\n",
    "\n",
    "TORCH_version = torch.__version__\n",
    "TORCH = format_pytorch_version(TORCH_version)\n",
    "\n",
    "def format_cuda_version(version):\n",
    "    return 'cu' + version.replace('.', '')\n",
    "\n",
    "CUDA_version = torch.version.cuda\n",
    "CUDA = format_cuda_version(CUDA_version)\n",
    "\n",
    "device = torch.device('cuda' if torch.cuda.is_available() else 'cpu')\n",
    "device"
   ]
  },
  {
   "cell_type": "markdown",
   "id": "6b34ea2e-7a10-4e27-8fe3-29fb7b0132a6",
   "metadata": {},
   "source": [
    "# DataSet & DataLoader"
   ]
  },
  {
   "cell_type": "markdown",
   "id": "649af641-29ad-4fa4-a247-173f109ad226",
   "metadata": {},
   "source": [
    "## Create Custom Data Class"
   ]
  },
  {
   "cell_type": "code",
   "execution_count": 6,
   "id": "e08c1f42-8508-4aac-a893-e69000ffb77c",
   "metadata": {},
   "outputs": [],
   "source": [
    "class MOFData(Data):\n",
    "    def __init__(self, mof_node = None, mof_edge_index = None, mof_edge_attr = None,\n",
    "                        metal_node = None, metal_edge_index = None, metal_edge_attr = None,\n",
    "                        organ1_node = None, organ1_edge_index = None, organ1_edge_attr = None,\n",
    "                        organ2_node = None, organ2_edge_index = None, organ2_edge_attr = None,\n",
    "                        mofname = None, x_feat = None, y = None):\n",
    "        super().__init__()\n",
    "        self.mof_node = mof_node\n",
    "        self.mof_edge_index = mof_edge_index\n",
    "        self.mof_edge_attr = mof_edge_attr\n",
    "        \n",
    "        self.metal_node = metal_node\n",
    "        self.metal_edge_index = metal_edge_index\n",
    "        self.metal_edge_attr = metal_edge_attr\n",
    "        \n",
    "        self.organ1_node = organ1_node\n",
    "        self.organ1_edge_index = organ1_edge_index\n",
    "        self.organ1_edge_attr = organ1_edge_attr\n",
    "        \n",
    "        self.organ2_node = organ2_node\n",
    "        self.organ2_edge_index = organ2_edge_index\n",
    "        self.organ2_edge_attr = organ2_edge_attr\n",
    "        \n",
    "        self.mofname = mofname\n",
    "        self.x_feat = x_feat\n",
    "        self.y = y\n",
    "        \n",
    "    def __inc__(self, key, value, *args, **kwargs):\n",
    "        if key == 'mof_edge_index':\n",
    "            return self.mof_node.size(0)\n",
    "        if key == 'metal_edge_index':\n",
    "            return self.metal_node.size(0)\n",
    "        if key == 'organ1_edge_index':\n",
    "            return self.organ1_node.size(0)\n",
    "        if key == 'organ2_edge_index':\n",
    "            return self.organ2_node.size(0)\n",
    "        else:\n",
    "            return super().__inc__(key, value, *args, **kwargs)"
   ]
  },
  {
   "cell_type": "markdown",
   "id": "ac311ce8-9e84-4c67-8d4e-2d8f8659cbf2",
   "metadata": {},
   "source": [
    "## Generate Data"
   ]
  },
  {
   "cell_type": "code",
   "execution_count": 102,
   "id": "b6066e87-d49c-4207-8c46-cb7983177cb0",
   "metadata": {},
   "outputs": [
    {
     "name": "stdout",
     "output_type": "stream",
     "text": [
      "MOFname                                          0\n",
      "topo_0                                           0\n",
      "topo_1                                           0\n",
      "topo_2                                           0\n",
      "topo_3                                           0\n",
      "topo_4                                           0\n",
      "topo_5                                           0\n",
      "topo_6                                           0\n",
      "topo_7                                           0\n",
      "topo_8                                           0\n",
      "topo_9                                           0\n",
      "volume [A^3]                                     0\n",
      "weight [u]                                       0\n",
      "density [g/cm^3]                                 0\n",
      "surface_area [m^2/g]                             0\n",
      "void_fraction                                    0\n",
      "void_volume [cm^3/g]                             0\n",
      "functional_groups                                0\n",
      "metal_linker                                     0\n",
      "organic_linker1                                  0\n",
      "organic_linker2                                  0\n",
      "catalog CO2/N2                                   0\n",
      "CO2/N2_selectivity                               0\n",
      "heat_adsorption_CO2_P0.15bar_T298K [kcal/mol]    0\n",
      "CO2_working_capacity [mL/g]                      0\n",
      "Smiles                                           0\n",
      "0                                                0\n",
      "1                                                0\n",
      "2                                                0\n",
      "3                                                0\n",
      "4                                                0\n",
      "5                                                0\n",
      "6                                                0\n",
      "7                                                0\n",
      "8                                                0\n",
      "9                                                0\n",
      "10                                               0\n",
      "11                                               0\n",
      "dtype: int64\n",
      "(66835, 38)\n"
     ]
    }
   ],
   "source": [
    "df = pd.read_csv('data/train/clean_train_linker_edited.csv')\n",
    "gridhist = pd.read_csv('data/train/last_hope_train.csv')\n",
    "smiles = pd.read_csv('data/train/smiles_train.csv')\n",
    "data = df.join(smiles.set_index('MOFname'), on='MOFname')\n",
    "data = data.join(gridhist.set_index('name'), on='MOFname')\n",
    "\n",
    "data = data.dropna(subset=['Smiles'])\n",
    "data = data.dropna(subset=['0'])\n",
    "data = data.reset_index(drop=True)\n",
    "data = data.drop('Unnamed: 0', axis=1)\n",
    "print(data.isnull().sum())\n",
    "print(data.shape)"
   ]
  },
  {
   "cell_type": "code",
   "execution_count": 103,
   "id": "cc54ebf3-b60c-40b5-97cc-2d12fb058556",
   "metadata": {},
   "outputs": [
    {
     "name": "stdout",
     "output_type": "stream",
     "text": [
      "done: 10000\n",
      "done: 20000\n",
      "done: 30000\n",
      "done: 40000\n",
      "done: 50000\n",
      "done: 60000\n"
     ]
    }
   ],
   "source": [
    "data_list = []\n",
    "data_dict = []\n",
    "drop_feat = ['MOFname', 'weight [u]', 'functional_groups', 'Smiles', 'metal_linker', 'organic_linker1', 'organic_linker2', 'CO2_working_capacity [mL/g]'] #, 'CO2_working_capacity [mL/g]'\n",
    "c = 1\n",
    "for _, line in data.iterrows():\n",
    "    mof = Chem.MolFromSmiles(line['Smiles'])\n",
    "    metal = Chem.MolFromSmiles(line['metal_linker'])\n",
    "    organ1 = Chem.MolFromSmiles(line['organic_linker1'])\n",
    "    organ2 = Chem.MolFromSmiles(line['organic_linker2'])\n",
    "    \n",
    "    if mof == None or metal == None or organ1 == None or organ2 == None:  #or metal == None or organ1 == None or organ2 == None\n",
    "        continue\n",
    "    \n",
    "    mof_node, mof_edge_index, mof_edge_attr = generate_graph(mof)\n",
    "    metal_node, metal_edge_index, metal_edge_attr = generate_graph(metal)\n",
    "    organ1_node, organ1_edge_index, organ1_edge_attr = generate_graph(organ1)\n",
    "    organ2_node, organ2_edge_index, organ2_edge_attr = generate_graph(organ2)\n",
    "\n",
    "\n",
    "    x_feat = line.drop(drop_feat).values.astype(float)\n",
    "    x_feat = np.expand_dims(x_feat, axis=0)\n",
    "    x_feat = torch.tensor(x_feat)\n",
    "    y=torch.tensor([line['CO2_working_capacity [mL/g]']], dtype=torch.float).view(1, -1)\n",
    "    \n",
    "    data_d = MOFData(mof_node = mof_node, mof_edge_index = mof_edge_index, mof_edge_attr = mof_edge_attr,\n",
    "                  metal_node = metal_node, metal_edge_index = metal_edge_index, metal_edge_attr = metal_edge_attr,\n",
    "                  organ1_node = organ1_node, organ1_edge_index = organ1_edge_index, organ1_edge_attr = organ1_edge_attr,\n",
    "                  organ2_node = organ2_node, organ2_edge_index = organ2_edge_index, organ2_edge_attr = organ2_edge_attr,\n",
    "                  mofname=line['MOFname'], x_feat=x_feat, y=y) #, y=y\n",
    "#     data_d.mof_num_nodes = len(mof.GetAtoms())\n",
    "    data_list.append(data_d)\n",
    "    data_dict.append(line['MOFname'])\n",
    "    \n",
    "    if(c%10000==0):\n",
    "        print('done:',c)\n",
    "    c=c+1"
   ]
  },
  {
   "cell_type": "code",
   "execution_count": 104,
   "id": "b1a7bec5-0a3e-4bce-a13a-912a88970f8b",
   "metadata": {},
   "outputs": [],
   "source": [
    "pickle.dump(data_list, open('data/train/graph_concat_linker_last_hope_replace_surface.pkl', 'wb'))"
   ]
  },
  {
   "cell_type": "markdown",
   "id": "3a94bd46-dbbc-4b35-8136-4cbdf8b6630d",
   "metadata": {},
   "source": [
    "## Load Data"
   ]
  },
  {
   "cell_type": "code",
   "execution_count": 7,
   "id": "aa0214f3-676a-4117-a494-237cab095356",
   "metadata": {},
   "outputs": [],
   "source": [
    "data_list = pickle.load(open('data/train/graph_concat_linker_last_hope_replace_surface.pkl', 'rb'))"
   ]
  },
  {
   "cell_type": "code",
   "execution_count": 8,
   "id": "d9e88aa4-e0cf-42cb-917c-f666281c8f55",
   "metadata": {},
   "outputs": [
    {
     "name": "stdout",
     "output_type": "stream",
     "text": [
      "Number of training graphs: 53738\n",
      "Number of test graphs: 10236\n"
     ]
    }
   ],
   "source": [
    "import random\n",
    "random.seed(10)\n",
    "\n",
    "datasets = data_list\n",
    "\n",
    "train_dataset, test_dataset = train_test_split(datasets, test_size=0.16, random_state = 1, shuffle=True)\n",
    "# val_dataset, test_dataset = train_test_split(test_dataset, test_size=0.2, random_state = 1, shuffle=True)\n",
    "\n",
    "print(f'Number of training graphs: {len(train_dataset)}')\n",
    "# print(f'Number of validate graphs: {len(val_dataset)}')\n",
    "print(f'Number of test graphs: {len(test_dataset)}')"
   ]
  },
  {
   "cell_type": "code",
   "execution_count": 9,
   "id": "c803d206-82dc-46b1-a86a-3dfbb2364d8e",
   "metadata": {},
   "outputs": [],
   "source": [
    "train_feat = []\n",
    "test_feat = []\n",
    "val_feat = []\n",
    "\n",
    "for train_data in train_dataset:\n",
    "    train_feat.append(train_data.x_feat)\n",
    "    \n",
    "for test_data in test_dataset:\n",
    "    test_feat.append(test_data.x_feat)\n",
    "    \n",
    "# for val_data in val_dataset:\n",
    "#     val_feat.append(val_data.x_feat)\n",
    "\n",
    "\n",
    "train_feat = torch.cat(train_feat, axis=0)\n",
    "test_feat = torch.cat(test_feat, axis=0)\n",
    "# val_feat = torch.cat(val_feat, axis=0)\n",
    "\n",
    "sc = StandardScaler()\n",
    "train_feat = torch.from_numpy(sc.fit_transform(train_feat))\n",
    "test_feat = torch.from_numpy(sc.transform(test_feat))\n",
    "# val_feat = torch.from_numpy(sc.transform(val_feat))\n",
    "\n",
    "for i, data in enumerate(train_dataset):\n",
    "    data.x_feat = train_feat[i].unsqueeze(0)\n",
    "\n",
    "for i, data in enumerate(test_dataset):\n",
    "    data.x_feat = test_feat[i].unsqueeze(0)\n",
    "    \n",
    "# for i, data in enumerate(val_dataset):\n",
    "#     data.x_feat = val_feat[i].unsqueeze(0)"
   ]
  },
  {
   "cell_type": "code",
   "execution_count": 10,
   "id": "167bf06b-c717-477f-bfcb-251a0fc2bde1",
   "metadata": {},
   "outputs": [],
   "source": [
    "from torch_geometric.loader import DataLoader\n",
    "import numpy as np\n",
    "\n",
    "train_loader = DataLoader(train_dataset, batch_size=128, follow_batch=['mof_node', 'metal_node', 'organ1_node', 'organ2_node'], shuffle=True)\n",
    "test_loader = DataLoader(test_dataset, batch_size=128, follow_batch=['mof_node', 'metal_node', 'organ1_node', 'organ2_node'], shuffle=False)\n",
    "# val_loader = DataLoader(val_dataset, batch_size=128, follow_batch=['mof_node', 'metal_node', 'organ1_node', 'organ2_node'], shuffle=False)"
   ]
  },
  {
   "cell_type": "markdown",
   "id": "bdb4fcce-2a3b-4868-94cf-9d941c63fded",
   "metadata": {},
   "source": [
    "# Model"
   ]
  },
  {
   "cell_type": "markdown",
   "id": "fde77d00-5597-4195-9fa5-96acd3649773",
   "metadata": {
    "tags": []
   },
   "source": [
    "## GINE Model"
   ]
  },
  {
   "cell_type": "code",
   "execution_count": 30,
   "id": "fb7735e0-f581-4bd5-97a8-ca21042e8186",
   "metadata": {},
   "outputs": [],
   "source": [
    "class GINE(torch.nn.Module):\n",
    "    def __init__(self, in_channels, in_attr, dim, out_channels):\n",
    "        super(GINE, self).__init__()\n",
    "\n",
    "        self.attr1 = Sequential(Linear(in_attr, in_channels), BatchNorm1d(in_channels), ReLU())\n",
    "        self.conv1 = GINEConv(\n",
    "            Sequential(Linear(in_channels, dim), BatchNorm1d(dim), ReLU(),\n",
    "                       Linear(dim, dim), ReLU()))\n",
    "\n",
    "        self.attr2 = Sequential(Linear(in_channels, dim), BatchNorm1d(dim), ReLU())\n",
    "        self.conv2 = GINEConv(\n",
    "            Sequential(Linear(dim, dim), BatchNorm1d(dim), ReLU(),\n",
    "                       Linear(dim, dim), ReLU()))\n",
    "\n",
    "        self.attr3 = Sequential(Linear(dim, dim), BatchNorm1d(dim), ReLU())\n",
    "        self.conv3 = GINEConv(\n",
    "            Sequential(Linear(dim, dim), BatchNorm1d(dim), ReLU(),\n",
    "                       Linear(dim, dim), ReLU()))\n",
    "\n",
    "        self.attr4 = Sequential(Linear(dim, dim), BatchNorm1d(dim), ReLU())\n",
    "        self.conv4 = GINEConv(\n",
    "            Sequential(Linear(dim, dim), BatchNorm1d(dim), ReLU(),\n",
    "                       Linear(dim, dim), ReLU()))\n",
    "\n",
    "        self.attr5 = Sequential(Linear(dim, dim), BatchNorm1d(dim), ReLU())\n",
    "        self.conv5 = GINEConv(\n",
    "            Sequential(Linear(dim, dim), BatchNorm1d(dim), ReLU(),\n",
    "                       Linear(dim, dim), ReLU()))\n",
    "\n",
    "        self.lin1 = Sequential(Linear(dim, dim), BatchNorm1d(dim), ReLU())\n",
    "        self.lin2 = Linear(dim, out_channels)\n",
    "\n",
    "    def forward(self, x, edge_index, edge_attr, batch):\n",
    "        edge_attr = self.attr1(edge_attr)\n",
    "        x = self.conv1(x, edge_index, edge_attr)\n",
    "        \n",
    "        edge_attr = self.attr2(edge_attr)\n",
    "        x = self.conv2(x, edge_index, edge_attr)\n",
    "        \n",
    "        edge_attr = self.attr3(edge_attr)\n",
    "        x = self.conv3(x, edge_index, edge_attr)\n",
    "        \n",
    "        edge_attr = self.attr4(edge_attr)\n",
    "        x = self.conv4(x, edge_index, edge_attr)\n",
    "        \n",
    "        edge_attr = self.attr5(edge_attr)\n",
    "        x = self.conv5(x, edge_index, edge_attr)\n",
    "        \n",
    "        x = global_add_pool(x, batch)\n",
    "        x = self.lin1(x)\n",
    "        x = F.dropout(x, p=0.5, training=self.training)\n",
    "        x = self.lin2(x)\n",
    "        return x"
   ]
  },
  {
   "cell_type": "code",
   "execution_count": 31,
   "id": "5b59b767-83ce-4ca5-b20a-2fd757af246a",
   "metadata": {},
   "outputs": [],
   "source": [
    "class GIN(torch.nn.Module):\n",
    "    def __init__(self, in_channels, dim, out_channels):\n",
    "        super(GIN, self).__init__()\n",
    "\n",
    "        self.conv1 = GINConv(\n",
    "            Sequential(Linear(in_channels, dim), BatchNorm1d(dim), ReLU(),\n",
    "                       Linear(dim, dim), ReLU()))\n",
    "\n",
    "        self.conv2 = GINConv(\n",
    "            Sequential(Linear(dim, dim), BatchNorm1d(dim), ReLU(),\n",
    "                       Linear(dim, dim), ReLU()))\n",
    "\n",
    "        self.conv3 = GINConv(\n",
    "            Sequential(Linear(dim, dim), BatchNorm1d(dim), ReLU(),\n",
    "                       Linear(dim, dim), ReLU()))\n",
    "\n",
    "        self.conv4 = GINConv(\n",
    "            Sequential(Linear(dim, dim), BatchNorm1d(dim), ReLU(),\n",
    "                       Linear(dim, dim), ReLU()))\n",
    "\n",
    "        self.conv5 = GINConv(\n",
    "            Sequential(Linear(dim, dim), BatchNorm1d(dim), ReLU(),\n",
    "                       Linear(dim, dim), ReLU()))\n",
    "\n",
    "        self.lin1 = Linear(dim, dim)\n",
    "        self.lin2 = Linear(dim, out_channels)\n",
    "        self.lin3 = Linear(out_channels, out_channels)\n",
    "\n",
    "\n",
    "\n",
    "    def forward(self, x, edge_index, batch):\n",
    "        x = self.conv1(x, edge_index)\n",
    "        x = self.conv2(x, edge_index)\n",
    "        x = self.conv3(x, edge_index)\n",
    "        x = self.conv4(x, edge_index)\n",
    "        x = self.conv5(x, edge_index)\n",
    "        x = global_add_pool(x, batch)\n",
    "        x = self.lin1(x).relu()\n",
    "        x = F.dropout(x, p=0.5, training=self.training)\n",
    "        x = self.lin2(x).relu()\n",
    "        x = F.dropout(x, p=0.5, training=self.training)\n",
    "        x = self.lin3(x)\n",
    "        return x"
   ]
  },
  {
   "cell_type": "code",
   "execution_count": 32,
   "id": "6fafd152-2a49-4276-85de-06958a565f63",
   "metadata": {},
   "outputs": [],
   "source": [
    "class GCN(torch.nn.Module):\n",
    "    def __init__(self, in_channels, dim, out_channels):\n",
    "        super(GCN, self).__init__()\n",
    "\n",
    "        self.conv1 = GCNConv(in_channels, dim)\n",
    "        self.conv2 = GCNConv(dim, dim)\n",
    "        self.conv3 = GCNConv(dim, dim)\n",
    "        self.conv4 = GCNConv(dim, dim)\n",
    "        self.lin = Linear(dim, out_channels)\n",
    "\n",
    "    def forward(self, x, edge_index, batch):\n",
    "        x = self.conv1(x, edge_index).relu()\n",
    "        x = self.conv2(x, edge_index).relu()\n",
    "        x = self.conv3(x, edge_index).relu()\n",
    "        x = self.conv4(x, edge_index).relu()\n",
    "        x = global_mean_pool(x, batch)\n",
    "        x = self.lin(x).relu()\n",
    "        return x"
   ]
  },
  {
   "cell_type": "code",
   "execution_count": 33,
   "id": "789f7ab1-9725-4307-86d6-c64800f952e6",
   "metadata": {},
   "outputs": [],
   "source": [
    "class SAGE(torch.nn.Module):\n",
    "    def __init__(self, in_channels, dim, out_channels):\n",
    "        super(SAGE, self).__init__()\n",
    "        self.conv1 = SAGEConv(in_channels, dim)\n",
    "        self.conv2 = SAGEConv(dim, dim)\n",
    "        self.conv3 = SAGEConv(dim, dim)\n",
    "        self.conv4 = SAGEConv(dim, dim)\n",
    "        self.lin = Linear(dim, out_channels)\n",
    "\n",
    "    def forward(self, x, edge_index, batch):\n",
    "        x = self.conv1(x, edge_index).relu()\n",
    "        x = self.conv2(x, edge_index).relu()\n",
    "        x = self.conv3(x, edge_index).relu()\n",
    "        x = self.conv4(x, edge_index).relu()\n",
    "        x = global_mean_pool(x, batch)\n",
    "        x = self.lin(x).relu()\n",
    "        return x"
   ]
  },
  {
   "cell_type": "code",
   "execution_count": 34,
   "id": "6ffba7f3-45e4-495d-a44d-8c9bd2fb90bb",
   "metadata": {},
   "outputs": [],
   "source": [
    "class Graph(torch.nn.Module):\n",
    "    def __init__(self, in_channels, dim, out_channels):\n",
    "        super(Graph, self).__init__()\n",
    "        self.conv1 = GraphConv(in_channels, dim)\n",
    "        self.conv2 = GraphConv(dim, dim)\n",
    "        self.conv3 = GraphConv(dim, dim)\n",
    "        self.conv4 = GraphConv(dim, dim)\n",
    "        self.lin = Linear(dim, out_channels)\n",
    "\n",
    "    def forward(self, x, edge_index, batch):\n",
    "        x = self.conv1(x, edge_index).relu()\n",
    "        x = self.conv2(x, edge_index).relu()\n",
    "        x = self.conv3(x, edge_index).relu()\n",
    "        x = self.conv4(x, edge_index).relu()\n",
    "        x = global_mean_pool(x, batch)\n",
    "        x = self.lin(x).relu()\n",
    "        return x"
   ]
  },
  {
   "cell_type": "markdown",
   "id": "9377f1cd-b88e-4662-831b-4480b173f1b4",
   "metadata": {},
   "source": [
    "## MLP Model"
   ]
  },
  {
   "cell_type": "code",
   "execution_count": 35,
   "id": "4a9fc53d-c55d-41a4-8083-e1aabf5fb818",
   "metadata": {},
   "outputs": [],
   "source": [
    "class MLP(torch.nn.Module):\n",
    "    def __init__(self, in_channels, dim, out_channels):\n",
    "        super(MLP, self).__init__()\n",
    "\n",
    "        self.lin1 = Linear(in_channels, dim)\n",
    "        self.lin2 = Linear(dim, dim)\n",
    "        self.lin3 = Linear(dim, dim)\n",
    "        self.lin4 = Linear(dim, out_channels)\n",
    "\n",
    "    def forward(self, x):\n",
    "        x = self.lin1(x).relu()\n",
    "        x = self.lin2(x).relu()\n",
    "#         x = self.lin3(x).relu()\n",
    "        x = self.lin4(x).relu()\n",
    "        return x"
   ]
  },
  {
   "cell_type": "markdown",
   "id": "58a19426-45fa-4120-bc5e-e46b44a7f5c2",
   "metadata": {
    "tags": []
   },
   "source": [
    "## Cross Network"
   ]
  },
  {
   "cell_type": "code",
   "execution_count": 36,
   "id": "cb2dbed4-82bb-45f7-9cc1-ef577c1b1d0f",
   "metadata": {},
   "outputs": [],
   "source": [
    "class CrossNet(nn.Module):\n",
    "\n",
    "    def __init__(self, in_features, layer_num=2):\n",
    "        super(CrossNet, self).__init__()\n",
    "        self.layer_num = layer_num\n",
    "        self.kernels = nn.Parameter(torch.Tensor(self.layer_num, in_features, 1))\n",
    "        self.bias = nn.Parameter(torch.Tensor(self.layer_num, in_features, 1))\n",
    "\n",
    "        for i in range(self.kernels.shape[0]):\n",
    "            nn.init.xavier_normal_(self.kernels[i])\n",
    "        for i in range(self.bias.shape[0]):\n",
    "            nn.init.zeros_(self.bias[i])\n",
    "\n",
    "        self.to(device)\n",
    "\n",
    "    def forward(self, inputs):\n",
    "        x_0 = inputs.unsqueeze(2)\n",
    "        x_l = x_0\n",
    "        for i in range(self.layer_num):\n",
    "            xl_w = torch.tensordot(x_l, self.kernels[i], dims=([1], [0]))\n",
    "            dot_ = torch.matmul(x_0, xl_w)\n",
    "            x_l = dot_ + self.bias[i] + x_l\n",
    "        x_l = torch.squeeze(x_l, dim=2)\n",
    "        return x_l"
   ]
  },
  {
   "cell_type": "markdown",
   "id": "df82eb29-3e47-45f7-afd4-3c28c6963fd7",
   "metadata": {
    "tags": []
   },
   "source": [
    "## Multi Input Model"
   ]
  },
  {
   "cell_type": "code",
   "execution_count": 38,
   "id": "14c8bc7f-07c8-43d0-94c8-3b60f56ce02e",
   "metadata": {},
   "outputs": [],
   "source": [
    "class Net(torch.nn.Module):\n",
    "    def __init__(self, in_mof, in_metal, in_organ1, in_organ2, in_xfeats, dim, out_channels):\n",
    "        super(Net, self).__init__()\n",
    "\n",
    "        self.mof_g = SAGE(in_mof, dim, 128) # SAGE\n",
    "        self.metal_g = Graph(in_metal, dim, 128)\n",
    "        self.organ1_g = Graph(in_organ1, dim, 128)\n",
    "        self.organ2_g = Graph(in_organ2, dim, 128)\n",
    "        self.mlp = MLP(in_xfeats, dim, 128)\n",
    "        self.lin = Linear(256, 128)\n",
    "        self.lin2 = Linear(128, 128)\n",
    "        self.cross = CrossNet(128, layer_num=2)\n",
    "        self.mlp_cross = MLP(128, 128, 128)\n",
    "        self.mlp_out = MLP(256 + 128*3, 256, 256)\n",
    "        self.out = Linear(256, out_channels)\n",
    "\n",
    "    def forward(self, mof_node, mof_edge_index, mof_node_batch, \n",
    "                      metal_node, metal_edge_index, metal_node_batch,\n",
    "                      organ1_node, organ1_edge_index, organ1_node_batch,\n",
    "                      organ2_node, organ2_edge_index, organ2_node_batch, x_feat):\n",
    "        \n",
    "        mof = self.mof_g(mof_node, mof_edge_index, mof_node_batch)\n",
    "        metal = self.metal_g(metal_node, metal_edge_index, metal_node_batch)\n",
    "        organ1 = self.organ1_g(organ1_node, organ1_edge_index, organ1_node_batch)\n",
    "        organ2 = self.organ2_g(organ2_node, organ2_edge_index, organ2_node_batch)\n",
    "        x_feat = self.mlp(x_feat)\n",
    "        \n",
    "        concat = torch.cat((mof, x_feat), dim=1)\n",
    "        x = self.lin(concat)\n",
    "        x = F.dropout(x, p=0.3, training=self.training) # SAGE: 0.3\n",
    "        x = self.lin2(x).relu()\n",
    "        \n",
    "        cross = self.cross(x)\n",
    "        mlp_cross = self.mlp_cross(x)\n",
    "        concat2 = torch.cat((cross, mlp_cross, metal, organ1, organ2), dim=1)\n",
    "        \n",
    "        x = self.mlp_out(concat2)\n",
    "        x = F.dropout(x, p=0.3, training=self.training) # SAGE: 0.3\n",
    "        out = self.out(x)\n",
    "        return out"
   ]
  },
  {
   "cell_type": "code",
   "execution_count": 19,
   "id": "974be5e2-41c0-43d5-ab95-328c925a18e5",
   "metadata": {},
   "outputs": [],
   "source": [
    "num_mof_node = 9\n",
    "num_metal_node = 9\n",
    "num_organ1_node = 9\n",
    "num_organ2_node = 9\n",
    "hidden_channels = 32 # SAGE: 32\n",
    "num_feats = 30\n",
    "num_classes = 1\n",
    "num_attr = 3\n",
    "\n",
    "model = Net(num_mof_node, num_metal_node, num_organ1_node, num_organ2_node, num_feats, hidden_channels, num_classes).to(device)\n",
    "optimizer = torch.optim.Adam(model.parameters(), lr=0.001) #0.001\n",
    "criterion = torch.nn.L1Loss()\n",
    "scheduler = ReduceLROnPlateau(optimizer, 'min', factor=0.85, patience=3, min_lr=0.000001) #factor=0.85"
   ]
  },
  {
   "cell_type": "code",
   "execution_count": 26,
   "id": "904e9ee2-2c80-4914-9a2f-a54e54815783",
   "metadata": {},
   "outputs": [],
   "source": [
    "data = next(iter(train_loader))\n",
    "data.to(device)\n",
    "batch = (data.mof_node, data.mof_edge_index, data.mof_node_batch,\n",
    "                    data.metal_node, data.metal_edge_index, data.metal_node_batch,\n",
    "                    data.organ1_node, data.organ1_edge_index, data.organ1_node_batch,\n",
    "                    data.organ2_node, data.organ2_edge_index, data.organ2_node_batch, data.x_feat.float())\n",
    "yhat = model(data.mof_node, data.mof_edge_index, data.mof_node_batch,\n",
    "                    data.metal_node, data.metal_edge_index, data.metal_node_batch,\n",
    "                    data.organ1_node, data.organ1_edge_index, data.organ1_node_batch,\n",
    "                    data.organ2_node, data.organ2_edge_index, data.organ2_node_batch, data.x_feat.float()) # Give dummy batch to forward()."
   ]
  },
  {
   "cell_type": "code",
   "execution_count": 29,
   "id": "df659806-badd-4b22-9001-1a128ab0ed7d",
   "metadata": {},
   "outputs": [
    {
     "ename": "RuntimeError",
     "evalue": "Unsupported: ONNX export of index_put in opset 9. Please try opset version 11.",
     "output_type": "error",
     "traceback": [
      "\u001b[1;31m---------------------------------------------------------------------------\u001b[0m",
      "\u001b[1;31mRuntimeError\u001b[0m                              Traceback (most recent call last)",
      "\u001b[1;32m~\\AppData\\Local\\Temp/ipykernel_19632/4282114119.py\u001b[0m in \u001b[0;36m<module>\u001b[1;34m\u001b[0m\n\u001b[0;32m      3\u001b[0m \u001b[0mtransforms\u001b[0m \u001b[1;33m=\u001b[0m \u001b[1;33m[\u001b[0m \u001b[0mhl\u001b[0m\u001b[1;33m.\u001b[0m\u001b[0mtransforms\u001b[0m\u001b[1;33m.\u001b[0m\u001b[0mPrune\u001b[0m\u001b[1;33m(\u001b[0m\u001b[1;34m'Constant'\u001b[0m\u001b[1;33m)\u001b[0m \u001b[1;33m]\u001b[0m \u001b[1;31m# Removes Constant nodes from graph.\u001b[0m\u001b[1;33m\u001b[0m\u001b[1;33m\u001b[0m\u001b[0m\n\u001b[0;32m      4\u001b[0m \u001b[1;33m\u001b[0m\u001b[0m\n\u001b[1;32m----> 5\u001b[1;33m \u001b[0mgraph\u001b[0m \u001b[1;33m=\u001b[0m \u001b[0mhl\u001b[0m\u001b[1;33m.\u001b[0m\u001b[0mbuild_graph\u001b[0m\u001b[1;33m(\u001b[0m\u001b[0mmodel\u001b[0m\u001b[1;33m,\u001b[0m \u001b[0mbatch\u001b[0m\u001b[1;33m,\u001b[0m \u001b[0mtransforms\u001b[0m\u001b[1;33m=\u001b[0m\u001b[0mtransforms\u001b[0m\u001b[1;33m)\u001b[0m\u001b[1;33m\u001b[0m\u001b[1;33m\u001b[0m\u001b[0m\n\u001b[0m\u001b[0;32m      6\u001b[0m \u001b[0mgraph\u001b[0m\u001b[1;33m.\u001b[0m\u001b[0mtheme\u001b[0m \u001b[1;33m=\u001b[0m \u001b[0mhl\u001b[0m\u001b[1;33m.\u001b[0m\u001b[0mgraph\u001b[0m\u001b[1;33m.\u001b[0m\u001b[0mTHEMES\u001b[0m\u001b[1;33m[\u001b[0m\u001b[1;34m'blue'\u001b[0m\u001b[1;33m]\u001b[0m\u001b[1;33m.\u001b[0m\u001b[0mcopy\u001b[0m\u001b[1;33m(\u001b[0m\u001b[1;33m)\u001b[0m\u001b[1;33m\u001b[0m\u001b[1;33m\u001b[0m\u001b[0m\n\u001b[0;32m      7\u001b[0m \u001b[0mgraph\u001b[0m\u001b[1;33m.\u001b[0m\u001b[0msave\u001b[0m\u001b[1;33m(\u001b[0m\u001b[1;34m'rnn_hiddenlayer'\u001b[0m\u001b[1;33m,\u001b[0m \u001b[0mformat\u001b[0m\u001b[1;33m=\u001b[0m\u001b[1;34m'png'\u001b[0m\u001b[1;33m)\u001b[0m\u001b[1;33m\u001b[0m\u001b[1;33m\u001b[0m\u001b[0m\n",
      "\u001b[1;32m~\\anaconda3\\envs\\TMLCC_CUDA\\lib\\site-packages\\hiddenlayer\\graph.py\u001b[0m in \u001b[0;36mbuild_graph\u001b[1;34m(model, args, input_names, transforms, framework_transforms)\u001b[0m\n\u001b[0;32m    141\u001b[0m         \u001b[1;32mfrom\u001b[0m \u001b[1;33m.\u001b[0m\u001b[0mpytorch_builder\u001b[0m \u001b[1;32mimport\u001b[0m \u001b[0mimport_graph\u001b[0m\u001b[1;33m,\u001b[0m \u001b[0mFRAMEWORK_TRANSFORMS\u001b[0m\u001b[1;33m\u001b[0m\u001b[1;33m\u001b[0m\u001b[0m\n\u001b[0;32m    142\u001b[0m         \u001b[1;32massert\u001b[0m \u001b[0margs\u001b[0m \u001b[1;32mis\u001b[0m \u001b[1;32mnot\u001b[0m \u001b[1;32mNone\u001b[0m\u001b[1;33m,\u001b[0m \u001b[1;34m\"Argument args must be provided for Pytorch models.\"\u001b[0m\u001b[1;33m\u001b[0m\u001b[1;33m\u001b[0m\u001b[0m\n\u001b[1;32m--> 143\u001b[1;33m         \u001b[0mimport_graph\u001b[0m\u001b[1;33m(\u001b[0m\u001b[0mg\u001b[0m\u001b[1;33m,\u001b[0m \u001b[0mmodel\u001b[0m\u001b[1;33m,\u001b[0m \u001b[0margs\u001b[0m\u001b[1;33m)\u001b[0m\u001b[1;33m\u001b[0m\u001b[1;33m\u001b[0m\u001b[0m\n\u001b[0m\u001b[0;32m    144\u001b[0m     \u001b[1;32melif\u001b[0m \u001b[0mframework\u001b[0m \u001b[1;33m==\u001b[0m \u001b[1;34m\"tensorflow\"\u001b[0m\u001b[1;33m:\u001b[0m\u001b[1;33m\u001b[0m\u001b[1;33m\u001b[0m\u001b[0m\n\u001b[0;32m    145\u001b[0m         \u001b[1;32mfrom\u001b[0m \u001b[1;33m.\u001b[0m\u001b[0mtf_builder\u001b[0m \u001b[1;32mimport\u001b[0m \u001b[0mimport_graph\u001b[0m\u001b[1;33m,\u001b[0m \u001b[0mFRAMEWORK_TRANSFORMS\u001b[0m\u001b[1;33m\u001b[0m\u001b[1;33m\u001b[0m\u001b[0m\n",
      "\u001b[1;32m~\\anaconda3\\envs\\TMLCC_CUDA\\lib\\site-packages\\hiddenlayer\\pytorch_builder.py\u001b[0m in \u001b[0;36mimport_graph\u001b[1;34m(hl_graph, model, args, input_names, verbose)\u001b[0m\n\u001b[0;32m     69\u001b[0m     \u001b[1;31m# Run the Pytorch graph to get a trace and generate a graph from it\u001b[0m\u001b[1;33m\u001b[0m\u001b[1;33m\u001b[0m\u001b[1;33m\u001b[0m\u001b[0m\n\u001b[0;32m     70\u001b[0m     \u001b[0mtrace\u001b[0m\u001b[1;33m,\u001b[0m \u001b[0mout\u001b[0m \u001b[1;33m=\u001b[0m \u001b[0mtorch\u001b[0m\u001b[1;33m.\u001b[0m\u001b[0mjit\u001b[0m\u001b[1;33m.\u001b[0m\u001b[0m_get_trace_graph\u001b[0m\u001b[1;33m(\u001b[0m\u001b[0mmodel\u001b[0m\u001b[1;33m,\u001b[0m \u001b[0margs\u001b[0m\u001b[1;33m)\u001b[0m\u001b[1;33m\u001b[0m\u001b[1;33m\u001b[0m\u001b[0m\n\u001b[1;32m---> 71\u001b[1;33m     \u001b[0mtorch_graph\u001b[0m \u001b[1;33m=\u001b[0m \u001b[0mtorch\u001b[0m\u001b[1;33m.\u001b[0m\u001b[0monnx\u001b[0m\u001b[1;33m.\u001b[0m\u001b[0m_optimize_trace\u001b[0m\u001b[1;33m(\u001b[0m\u001b[0mtrace\u001b[0m\u001b[1;33m,\u001b[0m \u001b[0mtorch\u001b[0m\u001b[1;33m.\u001b[0m\u001b[0monnx\u001b[0m\u001b[1;33m.\u001b[0m\u001b[0mOperatorExportTypes\u001b[0m\u001b[1;33m.\u001b[0m\u001b[0mONNX\u001b[0m\u001b[1;33m)\u001b[0m\u001b[1;33m\u001b[0m\u001b[1;33m\u001b[0m\u001b[0m\n\u001b[0m\u001b[0;32m     72\u001b[0m \u001b[1;33m\u001b[0m\u001b[0m\n\u001b[0;32m     73\u001b[0m     \u001b[1;31m# Dump list of nodes (DEBUG only)\u001b[0m\u001b[1;33m\u001b[0m\u001b[1;33m\u001b[0m\u001b[1;33m\u001b[0m\u001b[0m\n",
      "\u001b[1;32m~\\anaconda3\\envs\\TMLCC_CUDA\\lib\\site-packages\\torch\\onnx\\__init__.py\u001b[0m in \u001b[0;36m_optimize_trace\u001b[1;34m(graph, operator_export_type)\u001b[0m\n\u001b[0;32m    293\u001b[0m \u001b[1;32mdef\u001b[0m \u001b[0m_optimize_trace\u001b[0m\u001b[1;33m(\u001b[0m\u001b[0mgraph\u001b[0m\u001b[1;33m,\u001b[0m \u001b[0moperator_export_type\u001b[0m\u001b[1;33m)\u001b[0m\u001b[1;33m:\u001b[0m\u001b[1;33m\u001b[0m\u001b[1;33m\u001b[0m\u001b[0m\n\u001b[0;32m    294\u001b[0m     \u001b[1;32mfrom\u001b[0m \u001b[0mtorch\u001b[0m\u001b[1;33m.\u001b[0m\u001b[0monnx\u001b[0m \u001b[1;32mimport\u001b[0m \u001b[0mutils\u001b[0m\u001b[1;33m\u001b[0m\u001b[1;33m\u001b[0m\u001b[0m\n\u001b[1;32m--> 295\u001b[1;33m     \u001b[1;32mreturn\u001b[0m \u001b[0mutils\u001b[0m\u001b[1;33m.\u001b[0m\u001b[0m_optimize_graph\u001b[0m\u001b[1;33m(\u001b[0m\u001b[0mgraph\u001b[0m\u001b[1;33m,\u001b[0m \u001b[0moperator_export_type\u001b[0m\u001b[1;33m)\u001b[0m\u001b[1;33m\u001b[0m\u001b[1;33m\u001b[0m\u001b[0m\n\u001b[0m\u001b[0;32m    296\u001b[0m \u001b[1;33m\u001b[0m\u001b[0m\n\u001b[0;32m    297\u001b[0m \u001b[1;33m\u001b[0m\u001b[0m\n",
      "\u001b[1;32m~\\anaconda3\\envs\\TMLCC_CUDA\\lib\\site-packages\\torch\\onnx\\utils.py\u001b[0m in \u001b[0;36m_optimize_graph\u001b[1;34m(graph, operator_export_type, _disable_torch_constant_prop, fixed_batch_size, params_dict, dynamic_axes, input_names, module)\u001b[0m\n\u001b[0;32m    198\u001b[0m             \u001b[0mdynamic_axes\u001b[0m \u001b[1;33m=\u001b[0m \u001b[1;33m{\u001b[0m\u001b[1;33m}\u001b[0m \u001b[1;32mif\u001b[0m \u001b[0mdynamic_axes\u001b[0m \u001b[1;32mis\u001b[0m \u001b[1;32mNone\u001b[0m \u001b[1;32melse\u001b[0m \u001b[0mdynamic_axes\u001b[0m\u001b[1;33m\u001b[0m\u001b[1;33m\u001b[0m\u001b[0m\n\u001b[0;32m    199\u001b[0m             \u001b[0mtorch\u001b[0m\u001b[1;33m.\u001b[0m\u001b[0m_C\u001b[0m\u001b[1;33m.\u001b[0m\u001b[0m_jit_pass_onnx_set_dynamic_input_shape\u001b[0m\u001b[1;33m(\u001b[0m\u001b[0mgraph\u001b[0m\u001b[1;33m,\u001b[0m \u001b[0mdynamic_axes\u001b[0m\u001b[1;33m,\u001b[0m \u001b[0minput_names\u001b[0m\u001b[1;33m)\u001b[0m\u001b[1;33m\u001b[0m\u001b[1;33m\u001b[0m\u001b[0m\n\u001b[1;32m--> 200\u001b[1;33m         \u001b[0mgraph\u001b[0m \u001b[1;33m=\u001b[0m \u001b[0mtorch\u001b[0m\u001b[1;33m.\u001b[0m\u001b[0m_C\u001b[0m\u001b[1;33m.\u001b[0m\u001b[0m_jit_pass_onnx\u001b[0m\u001b[1;33m(\u001b[0m\u001b[0mgraph\u001b[0m\u001b[1;33m,\u001b[0m \u001b[0moperator_export_type\u001b[0m\u001b[1;33m)\u001b[0m\u001b[1;33m\u001b[0m\u001b[1;33m\u001b[0m\u001b[0m\n\u001b[0m\u001b[0;32m    201\u001b[0m         \u001b[0mtorch\u001b[0m\u001b[1;33m.\u001b[0m\u001b[0m_C\u001b[0m\u001b[1;33m.\u001b[0m\u001b[0m_jit_pass_lint\u001b[0m\u001b[1;33m(\u001b[0m\u001b[0mgraph\u001b[0m\u001b[1;33m)\u001b[0m\u001b[1;33m\u001b[0m\u001b[1;33m\u001b[0m\u001b[0m\n\u001b[0;32m    202\u001b[0m \u001b[1;33m\u001b[0m\u001b[0m\n",
      "\u001b[1;32m~\\anaconda3\\envs\\TMLCC_CUDA\\lib\\site-packages\\torch\\onnx\\__init__.py\u001b[0m in \u001b[0;36m_run_symbolic_function\u001b[1;34m(*args, **kwargs)\u001b[0m\n\u001b[0;32m    311\u001b[0m \u001b[1;32mdef\u001b[0m \u001b[0m_run_symbolic_function\u001b[0m\u001b[1;33m(\u001b[0m\u001b[1;33m*\u001b[0m\u001b[0margs\u001b[0m\u001b[1;33m,\u001b[0m \u001b[1;33m**\u001b[0m\u001b[0mkwargs\u001b[0m\u001b[1;33m)\u001b[0m\u001b[1;33m:\u001b[0m\u001b[1;33m\u001b[0m\u001b[1;33m\u001b[0m\u001b[0m\n\u001b[0;32m    312\u001b[0m     \u001b[1;32mfrom\u001b[0m \u001b[0mtorch\u001b[0m\u001b[1;33m.\u001b[0m\u001b[0monnx\u001b[0m \u001b[1;32mimport\u001b[0m \u001b[0mutils\u001b[0m\u001b[1;33m\u001b[0m\u001b[1;33m\u001b[0m\u001b[0m\n\u001b[1;32m--> 313\u001b[1;33m     \u001b[1;32mreturn\u001b[0m \u001b[0mutils\u001b[0m\u001b[1;33m.\u001b[0m\u001b[0m_run_symbolic_function\u001b[0m\u001b[1;33m(\u001b[0m\u001b[1;33m*\u001b[0m\u001b[0margs\u001b[0m\u001b[1;33m,\u001b[0m \u001b[1;33m**\u001b[0m\u001b[0mkwargs\u001b[0m\u001b[1;33m)\u001b[0m\u001b[1;33m\u001b[0m\u001b[1;33m\u001b[0m\u001b[0m\n\u001b[0m\u001b[0;32m    314\u001b[0m \u001b[1;33m\u001b[0m\u001b[0m\n\u001b[0;32m    315\u001b[0m \u001b[1;33m\u001b[0m\u001b[0m\n",
      "\u001b[1;32m~\\anaconda3\\envs\\TMLCC_CUDA\\lib\\site-packages\\torch\\onnx\\utils.py\u001b[0m in \u001b[0;36m_run_symbolic_function\u001b[1;34m(g, block, n, inputs, env, operator_export_type)\u001b[0m\n\u001b[0;32m    969\u001b[0m         \u001b[1;32mif\u001b[0m \u001b[0mns\u001b[0m \u001b[1;33m==\u001b[0m \u001b[1;34m\"onnx\"\u001b[0m\u001b[1;33m:\u001b[0m\u001b[1;33m\u001b[0m\u001b[1;33m\u001b[0m\u001b[0m\n\u001b[0;32m    970\u001b[0m             \u001b[1;32mif\u001b[0m \u001b[0mop_name\u001b[0m \u001b[1;33m==\u001b[0m \u001b[1;34m\"Placeholder\"\u001b[0m\u001b[1;33m:\u001b[0m\u001b[1;33m\u001b[0m\u001b[1;33m\u001b[0m\u001b[0m\n\u001b[1;32m--> 971\u001b[1;33m                 \u001b[1;32mreturn\u001b[0m \u001b[0mtorch\u001b[0m\u001b[1;33m.\u001b[0m\u001b[0m_C\u001b[0m\u001b[1;33m.\u001b[0m\u001b[0m_jit_onnx_convert_pattern_from_subblock\u001b[0m\u001b[1;33m(\u001b[0m\u001b[0mblock\u001b[0m\u001b[1;33m,\u001b[0m \u001b[0mn\u001b[0m\u001b[1;33m,\u001b[0m \u001b[0menv\u001b[0m\u001b[1;33m)\u001b[0m\u001b[1;33m\u001b[0m\u001b[1;33m\u001b[0m\u001b[0m\n\u001b[0m\u001b[0;32m    972\u001b[0m             \u001b[1;32melse\u001b[0m\u001b[1;33m:\u001b[0m\u001b[1;33m\u001b[0m\u001b[1;33m\u001b[0m\u001b[0m\n\u001b[0;32m    973\u001b[0m                 \u001b[1;31m# Use the original node directly\u001b[0m\u001b[1;33m\u001b[0m\u001b[1;33m\u001b[0m\u001b[1;33m\u001b[0m\u001b[0m\n",
      "\u001b[1;32m~\\anaconda3\\envs\\TMLCC_CUDA\\lib\\site-packages\\torch\\onnx\\__init__.py\u001b[0m in \u001b[0;36m_run_symbolic_function\u001b[1;34m(*args, **kwargs)\u001b[0m\n\u001b[0;32m    311\u001b[0m \u001b[1;32mdef\u001b[0m \u001b[0m_run_symbolic_function\u001b[0m\u001b[1;33m(\u001b[0m\u001b[1;33m*\u001b[0m\u001b[0margs\u001b[0m\u001b[1;33m,\u001b[0m \u001b[1;33m**\u001b[0m\u001b[0mkwargs\u001b[0m\u001b[1;33m)\u001b[0m\u001b[1;33m:\u001b[0m\u001b[1;33m\u001b[0m\u001b[1;33m\u001b[0m\u001b[0m\n\u001b[0;32m    312\u001b[0m     \u001b[1;32mfrom\u001b[0m \u001b[0mtorch\u001b[0m\u001b[1;33m.\u001b[0m\u001b[0monnx\u001b[0m \u001b[1;32mimport\u001b[0m \u001b[0mutils\u001b[0m\u001b[1;33m\u001b[0m\u001b[1;33m\u001b[0m\u001b[0m\n\u001b[1;32m--> 313\u001b[1;33m     \u001b[1;32mreturn\u001b[0m \u001b[0mutils\u001b[0m\u001b[1;33m.\u001b[0m\u001b[0m_run_symbolic_function\u001b[0m\u001b[1;33m(\u001b[0m\u001b[1;33m*\u001b[0m\u001b[0margs\u001b[0m\u001b[1;33m,\u001b[0m \u001b[1;33m**\u001b[0m\u001b[0mkwargs\u001b[0m\u001b[1;33m)\u001b[0m\u001b[1;33m\u001b[0m\u001b[1;33m\u001b[0m\u001b[0m\n\u001b[0m\u001b[0;32m    314\u001b[0m \u001b[1;33m\u001b[0m\u001b[0m\n\u001b[0;32m    315\u001b[0m \u001b[1;33m\u001b[0m\u001b[0m\n",
      "\u001b[1;32m~\\anaconda3\\envs\\TMLCC_CUDA\\lib\\site-packages\\torch\\onnx\\utils.py\u001b[0m in \u001b[0;36m_run_symbolic_function\u001b[1;34m(g, block, n, inputs, env, operator_export_type)\u001b[0m\n\u001b[0;32m    992\u001b[0m                     \u001b[1;32mreturn\u001b[0m \u001b[1;32mNone\u001b[0m\u001b[1;33m\u001b[0m\u001b[1;33m\u001b[0m\u001b[0m\n\u001b[0;32m    993\u001b[0m                 \u001b[0mattrs\u001b[0m \u001b[1;33m=\u001b[0m \u001b[1;33m{\u001b[0m\u001b[0mk\u001b[0m\u001b[1;33m:\u001b[0m \u001b[0mn\u001b[0m\u001b[1;33m[\u001b[0m\u001b[0mk\u001b[0m\u001b[1;33m]\u001b[0m \u001b[1;32mfor\u001b[0m \u001b[0mk\u001b[0m \u001b[1;32min\u001b[0m \u001b[0mn\u001b[0m\u001b[1;33m.\u001b[0m\u001b[0mattributeNames\u001b[0m\u001b[1;33m(\u001b[0m\u001b[1;33m)\u001b[0m\u001b[1;33m}\u001b[0m\u001b[1;33m\u001b[0m\u001b[1;33m\u001b[0m\u001b[0m\n\u001b[1;32m--> 994\u001b[1;33m                 \u001b[1;32mreturn\u001b[0m \u001b[0msymbolic_fn\u001b[0m\u001b[1;33m(\u001b[0m\u001b[0mg\u001b[0m\u001b[1;33m,\u001b[0m \u001b[1;33m*\u001b[0m\u001b[0minputs\u001b[0m\u001b[1;33m,\u001b[0m \u001b[1;33m**\u001b[0m\u001b[0mattrs\u001b[0m\u001b[1;33m)\u001b[0m\u001b[1;33m\u001b[0m\u001b[1;33m\u001b[0m\u001b[0m\n\u001b[0m\u001b[0;32m    995\u001b[0m \u001b[1;33m\u001b[0m\u001b[0m\n\u001b[0;32m    996\u001b[0m         \u001b[1;32melif\u001b[0m \u001b[0mns\u001b[0m \u001b[1;33m==\u001b[0m \u001b[1;34m\"prim\"\u001b[0m\u001b[1;33m:\u001b[0m\u001b[1;33m\u001b[0m\u001b[1;33m\u001b[0m\u001b[0m\n",
      "\u001b[1;32m~\\anaconda3\\envs\\TMLCC_CUDA\\lib\\site-packages\\torch\\onnx\\symbolic_opset9.py\u001b[0m in \u001b[0;36mindex_put\u001b[1;34m(g, self, indices_list_value, values, accumulate)\u001b[0m\n\u001b[0;32m   1486\u001b[0m             \u001b[1;32mreturn\u001b[0m \u001b[0mvalues\u001b[0m\u001b[1;33m\u001b[0m\u001b[1;33m\u001b[0m\u001b[0m\n\u001b[0;32m   1487\u001b[0m     \u001b[1;32melse\u001b[0m\u001b[1;33m:\u001b[0m\u001b[1;33m\u001b[0m\u001b[1;33m\u001b[0m\u001b[0m\n\u001b[1;32m-> 1488\u001b[1;33m         \u001b[0msym_help\u001b[0m\u001b[1;33m.\u001b[0m\u001b[0m_onnx_opset_unsupported\u001b[0m\u001b[1;33m(\u001b[0m\u001b[1;34m'index_put'\u001b[0m\u001b[1;33m,\u001b[0m \u001b[1;36m9\u001b[0m\u001b[1;33m,\u001b[0m \u001b[1;36m11\u001b[0m\u001b[1;33m)\u001b[0m\u001b[1;33m\u001b[0m\u001b[1;33m\u001b[0m\u001b[0m\n\u001b[0m\u001b[0;32m   1489\u001b[0m \u001b[1;33m\u001b[0m\u001b[0m\n\u001b[0;32m   1490\u001b[0m \u001b[1;33m\u001b[0m\u001b[0m\n",
      "\u001b[1;32m~\\anaconda3\\envs\\TMLCC_CUDA\\lib\\site-packages\\torch\\onnx\\symbolic_helper.py\u001b[0m in \u001b[0;36m_onnx_opset_unsupported\u001b[1;34m(op_name, current_opset, supported_opset)\u001b[0m\n\u001b[0;32m    251\u001b[0m \u001b[1;32mdef\u001b[0m \u001b[0m_onnx_opset_unsupported\u001b[0m\u001b[1;33m(\u001b[0m\u001b[0mop_name\u001b[0m\u001b[1;33m,\u001b[0m \u001b[0mcurrent_opset\u001b[0m\u001b[1;33m,\u001b[0m \u001b[0msupported_opset\u001b[0m\u001b[1;33m)\u001b[0m\u001b[1;33m:\u001b[0m\u001b[1;33m\u001b[0m\u001b[1;33m\u001b[0m\u001b[0m\n\u001b[0;32m    252\u001b[0m     raise RuntimeError('Unsupported: ONNX export of {} in '\n\u001b[1;32m--> 253\u001b[1;33m                        'opset {}. Please try opset version {}.'.format(op_name, current_opset, supported_opset))\n\u001b[0m\u001b[0;32m    254\u001b[0m \u001b[1;33m\u001b[0m\u001b[0m\n\u001b[0;32m    255\u001b[0m \u001b[1;32mdef\u001b[0m \u001b[0m_onnx_opset_unsupported_detailed\u001b[0m\u001b[1;33m(\u001b[0m\u001b[0mop_name\u001b[0m\u001b[1;33m,\u001b[0m \u001b[0mcurrent_opset\u001b[0m\u001b[1;33m,\u001b[0m \u001b[0msupported_opset\u001b[0m\u001b[1;33m,\u001b[0m \u001b[0mreason\u001b[0m\u001b[1;33m)\u001b[0m\u001b[1;33m:\u001b[0m\u001b[1;33m\u001b[0m\u001b[1;33m\u001b[0m\u001b[0m\n",
      "\u001b[1;31mRuntimeError\u001b[0m: Unsupported: ONNX export of index_put in opset 9. Please try opset version 11."
     ]
    }
   ],
   "source": [
    "import hiddenlayer as hl\n",
    "\n",
    "transforms = [ hl.transforms.Prune('Constant') ] # Removes Constant nodes from graph.\n",
    "\n",
    "graph = hl.build_graph(model, batch, transforms=transforms)\n",
    "graph.theme = hl.graph.THEMES['blue'].copy()\n",
    "graph.save('rnn_hiddenlayer', format='png')"
   ]
  },
  {
   "cell_type": "markdown",
   "id": "0436d70d-f407-4829-bc1a-70ff24aef54d",
   "metadata": {},
   "source": [
    "# Train"
   ]
  },
  {
   "cell_type": "code",
   "execution_count": 16,
   "id": "711f76cb-8705-4ebf-a0ce-2b21ac50f74d",
   "metadata": {},
   "outputs": [],
   "source": [
    "def train(train_loader):\n",
    "    model.train()\n",
    "    c=0\n",
    "    correct=0\n",
    "    for data in train_loader:  # Iterate in batches over the training dataset.\n",
    "        data.to(device)\n",
    "        out = model(data.mof_node, data.mof_edge_index, data.mof_node_batch,\n",
    "                    data.metal_node, data.metal_edge_index, data.metal_node_batch,\n",
    "                    data.organ1_node, data.organ1_edge_index, data.organ1_node_batch,\n",
    "                    data.organ2_node, data.organ2_edge_index, data.organ2_node_batch, data.x_feat.float())  # Perform a single forward pass. , data.edge_attr.float()\n",
    "    \n",
    "        loss = criterion(out, data.y)  # Compute the loss.\n",
    "        loss.backward()  # Derive gradients.\n",
    "        optimizer.step()  # Update parameters based on gradients.\n",
    "        optimizer.zero_grad()  # Clear gradients.\n",
    "\n",
    "        c=c+1\n",
    "        correct+=loss.cpu().detach().numpy()\n",
    "    return correct/c\n",
    "\n",
    "def test(loader):\n",
    "    model.eval()\n",
    "    correct = 0\n",
    "    c=0\n",
    "    for data in loader:  # Iterate in batches over the training/test dataset.\n",
    "        data.to(device)\n",
    "        out = model(data.mof_node, data.mof_edge_index, data.mof_node_batch,\n",
    "                    data.metal_node, data.metal_edge_index, data.metal_node_batch,\n",
    "                    data.organ1_node, data.organ1_edge_index, data.organ1_node_batch,\n",
    "                    data.organ2_node, data.organ2_edge_index, data.organ2_node_batch, data.x_feat.float()) # , data.edge_attr.float()\n",
    "    \n",
    "        loss = criterion(out, data.y)  # Compute the loss.\n",
    "        correct += loss.cpu().detach().numpy()  # Check against ground-truth labels.\n",
    "        c=c+1\n",
    "    return correct / c  # Derive ratio of correct predictions."
   ]
  },
  {
   "cell_type": "code",
   "execution_count": 17,
   "id": "08571f39-3903-4f7a-8fa8-769e373c125e",
   "metadata": {},
   "outputs": [],
   "source": [
    "num_mof_node = 9\n",
    "num_metal_node = 9\n",
    "num_organ1_node = 9\n",
    "num_organ2_node = 9\n",
    "hidden_channels = 32 # SAGE: 32\n",
    "num_feats = 30\n",
    "num_classes = 1\n",
    "num_attr = 3\n",
    "\n",
    "model = Net(num_mof_node, num_metal_node, num_organ1_node, num_organ2_node, num_feats, hidden_channels, num_classes).to(device)\n",
    "optimizer = torch.optim.Adam(model.parameters(), lr=0.001) #0.001\n",
    "criterion = torch.nn.L1Loss()\n",
    "scheduler = ReduceLROnPlateau(optimizer, 'min', factor=0.85, patience=3, min_lr=0.000001) #factor=0.85"
   ]
  },
  {
   "cell_type": "code",
   "execution_count": 46,
   "id": "fbf307aa-531c-49ac-87f3-b48da24513e9",
   "metadata": {},
   "outputs": [
    {
     "name": "stdout",
     "output_type": "stream",
     "text": [
      "start train\n"
     ]
    },
    {
     "name": "stderr",
     "output_type": "stream",
     "text": [
      "C:\\Users\\User\\anaconda3\\envs\\TMLCC_CUDA\\lib\\site-packages\\torch_geometric\\data\\storage.py:249: UserWarning: Unable to accurately infer 'num_nodes' from the attribute set '{'metal_node', 'x_feat', 'metal_edge_index', 'mof_edge_index', 'mof_node', 'organ1_edge_index', 'organ2_edge_index', 'organ1_edge_attr', 'mofname', 'organ2_edge_attr', 'organ2_node', 'organ1_node', 'y', 'mof_edge_attr', 'metal_edge_attr'}'. Please explicitly set 'num_nodes' as an attribute of 'data' to suppress this warning\n",
      "  \" to suppress this warning\")\n"
     ]
    },
    {
     "name": "stdout",
     "output_type": "stream",
     "text": [
      "Epoch: 001, Train MAE: 39.1682, Test MAE: 23.8756\n",
      "Minimum Loss: 23.875576519966124\n",
      "Epoch: 002, Train MAE: 24.7616, Test MAE: 21.1653\n",
      "Minimum Loss: 21.16526930332184\n",
      "Epoch: 003, Train MAE: 23.9829, Test MAE: 21.1203\n",
      "Minimum Loss: 21.12034401893616\n",
      "Epoch: 004, Train MAE: 22.3773, Test MAE: 22.3833\n",
      "Epoch: 005, Train MAE: 21.5449, Test MAE: 19.9143\n",
      "Minimum Loss: 19.914318192005158\n",
      "Epoch: 006, Train MAE: 21.2232, Test MAE: 19.4692\n",
      "Minimum Loss: 19.469204437732696\n",
      "Epoch: 007, Train MAE: 21.3430, Test MAE: 19.7400\n",
      "Epoch: 008, Train MAE: 21.0387, Test MAE: 19.4437\n",
      "Minimum Loss: 19.44367152452469\n",
      "Epoch: 009, Train MAE: 20.9952, Test MAE: 20.4787\n",
      "Epoch: 010, Train MAE: 20.8791, Test MAE: 20.6142\n",
      "Epoch: 011, Train MAE: 20.6863, Test MAE: 19.1860\n",
      "Minimum Loss: 19.185954892635344\n",
      "Epoch: 012, Train MAE: 20.4405, Test MAE: 19.0216\n",
      "Minimum Loss: 19.021605563163757\n",
      "Epoch: 013, Train MAE: 20.6692, Test MAE: 18.6066\n",
      "Minimum Loss: 18.606565046310426\n",
      "Epoch: 014, Train MAE: 20.3504, Test MAE: 18.5789\n",
      "Minimum Loss: 18.578915977478026\n",
      "Epoch: 015, Train MAE: 20.2181, Test MAE: 19.0963\n",
      "Epoch: 016, Train MAE: 20.2676, Test MAE: 18.5609\n",
      "Minimum Loss: 18.56092767715454\n",
      "Epoch: 017, Train MAE: 20.1809, Test MAE: 19.5566\n",
      "Epoch: 018, Train MAE: 19.9840, Test MAE: 18.5900\n",
      "Epoch: 019, Train MAE: 20.1670, Test MAE: 18.6232\n",
      "Epoch: 020, Train MAE: 19.9101, Test MAE: 23.7455\n",
      "Epoch: 021, Train MAE: 19.9626, Test MAE: 18.3900\n",
      "Minimum Loss: 18.389978730678557\n",
      "Epoch: 022, Train MAE: 19.5095, Test MAE: 18.3821\n",
      "Minimum Loss: 18.38207938671112\n",
      "Epoch: 023, Train MAE: 19.7096, Test MAE: 18.5383\n",
      "Epoch: 024, Train MAE: 19.5621, Test MAE: 18.3857\n",
      "Epoch: 025, Train MAE: 19.5251, Test MAE: 18.1727\n",
      "Minimum Loss: 18.172731804847718\n",
      "Epoch: 026, Train MAE: 19.4671, Test MAE: 18.6706\n",
      "Epoch: 027, Train MAE: 19.6081, Test MAE: 18.4544\n",
      "Epoch: 028, Train MAE: 19.4765, Test MAE: 19.1233\n",
      "Epoch: 029, Train MAE: 19.4635, Test MAE: 19.0809\n",
      "Epoch: 030, Train MAE: 19.2865, Test MAE: 18.1740\n",
      "Epoch: 031, Train MAE: 19.3612, Test MAE: 18.8011\n",
      "Epoch: 032, Train MAE: 19.1533, Test MAE: 18.1818\n",
      "Epoch: 033, Train MAE: 19.2726, Test MAE: 18.0073\n",
      "Minimum Loss: 18.00728186368942\n",
      "Epoch: 034, Train MAE: 19.1820, Test MAE: 18.3507\n",
      "Epoch: 035, Train MAE: 19.0986, Test MAE: 18.5847\n",
      "Epoch: 036, Train MAE: 19.2536, Test MAE: 18.9950\n",
      "Epoch: 037, Train MAE: 19.3097, Test MAE: 17.9384\n",
      "Minimum Loss: 17.9383802652359\n",
      "Epoch: 038, Train MAE: 19.0952, Test MAE: 18.5743\n",
      "Epoch: 039, Train MAE: 19.0146, Test MAE: 18.1414\n",
      "Epoch: 040, Train MAE: 19.0322, Test MAE: 18.7271\n",
      "Epoch: 041, Train MAE: 18.9507, Test MAE: 18.9562\n",
      "Epoch: 042, Train MAE: 18.9329, Test MAE: 18.0276\n",
      "Epoch: 043, Train MAE: 18.8925, Test MAE: 17.8643\n",
      "Minimum Loss: 17.864253950119018\n",
      "Epoch: 044, Train MAE: 18.8498, Test MAE: 17.7130\n",
      "Minimum Loss: 17.713020050525664\n",
      "Epoch: 045, Train MAE: 18.7945, Test MAE: 17.9162\n",
      "Epoch: 046, Train MAE: 18.8249, Test MAE: 18.3978\n",
      "Epoch: 047, Train MAE: 18.7335, Test MAE: 18.0190\n",
      "Epoch: 048, Train MAE: 18.9195, Test MAE: 17.9622\n",
      "Epoch: 049, Train MAE: 18.5362, Test MAE: 17.7629\n",
      "Epoch: 050, Train MAE: 18.4968, Test MAE: 17.6200\n",
      "Minimum Loss: 17.619955909252166\n",
      "Epoch: 051, Train MAE: 18.5508, Test MAE: 18.0105\n",
      "Epoch: 052, Train MAE: 18.5855, Test MAE: 17.5797\n",
      "Minimum Loss: 17.579716527462004\n",
      "Epoch: 053, Train MAE: 18.5849, Test MAE: 17.8486\n",
      "Epoch: 054, Train MAE: 18.5566, Test MAE: 17.8260\n",
      "Epoch: 055, Train MAE: 18.5461, Test MAE: 18.1541\n",
      "Epoch: 056, Train MAE: 18.6065, Test MAE: 18.5890\n",
      "Epoch: 057, Train MAE: 18.3847, Test MAE: 17.7940\n",
      "Epoch: 058, Train MAE: 18.4328, Test MAE: 17.9731\n",
      "Epoch: 059, Train MAE: 18.3647, Test MAE: 17.7948\n",
      "Epoch: 060, Train MAE: 18.3913, Test MAE: 18.3201\n",
      "Epoch: 061, Train MAE: 18.2821, Test MAE: 17.5460\n",
      "Minimum Loss: 17.545960116386414\n",
      "Epoch: 062, Train MAE: 18.2737, Test MAE: 17.8299\n",
      "Epoch: 063, Train MAE: 18.2445, Test MAE: 17.6219\n",
      "Epoch: 064, Train MAE: 18.1724, Test MAE: 17.8984\n",
      "Epoch: 065, Train MAE: 18.1689, Test MAE: 17.7264\n",
      "Epoch: 066, Train MAE: 18.1081, Test MAE: 17.7447\n",
      "Epoch: 067, Train MAE: 18.0827, Test MAE: 17.6747\n",
      "Epoch: 068, Train MAE: 18.0934, Test MAE: 17.9746\n",
      "Epoch: 069, Train MAE: 18.0751, Test MAE: 18.2754\n",
      "Epoch: 070, Train MAE: 18.0083, Test MAE: 17.7923\n",
      "Epoch: 071, Train MAE: 17.9492, Test MAE: 17.5741\n",
      "Epoch: 072, Train MAE: 17.9264, Test MAE: 17.6842\n",
      "Epoch: 073, Train MAE: 17.9583, Test MAE: 17.6150\n",
      "Epoch: 074, Train MAE: 17.8913, Test MAE: 17.8492\n",
      "Epoch: 075, Train MAE: 17.8472, Test MAE: 17.8420\n",
      "Epoch: 076, Train MAE: 17.8396, Test MAE: 17.8363\n",
      "Epoch: 077, Train MAE: 17.8190, Test MAE: 17.5544\n",
      "Epoch: 078, Train MAE: 17.8228, Test MAE: 17.5418\n",
      "Minimum Loss: 17.541758477687836\n",
      "Epoch: 079, Train MAE: 17.7792, Test MAE: 17.7170\n",
      "Epoch: 080, Train MAE: 17.8223, Test MAE: 17.4892\n",
      "Minimum Loss: 17.489217877388\n",
      "Epoch: 081, Train MAE: 17.7230, Test MAE: 17.6672\n",
      "Epoch: 082, Train MAE: 17.7510, Test MAE: 17.7164\n",
      "Epoch: 083, Train MAE: 17.6634, Test MAE: 17.6654\n",
      "Epoch: 084, Train MAE: 17.7233, Test MAE: 17.9492\n",
      "Epoch: 085, Train MAE: 17.6781, Test MAE: 17.5396\n",
      "Epoch: 086, Train MAE: 17.6687, Test MAE: 17.5166\n",
      "Epoch: 087, Train MAE: 17.6725, Test MAE: 17.7500\n",
      "Epoch: 088, Train MAE: 17.6226, Test MAE: 17.5398\n",
      "Epoch: 089, Train MAE: 17.5639, Test MAE: 17.5862\n",
      "Epoch: 090, Train MAE: 17.5961, Test MAE: 17.5714\n",
      "Epoch: 091, Train MAE: 17.5923, Test MAE: 17.6150\n",
      "Epoch: 092, Train MAE: 17.5947, Test MAE: 17.6375\n",
      "Epoch: 093, Train MAE: 17.5126, Test MAE: 17.6402\n",
      "Epoch: 094, Train MAE: 17.4806, Test MAE: 17.5522\n",
      "Epoch: 095, Train MAE: 17.5391, Test MAE: 17.5330\n",
      "Epoch: 096, Train MAE: 17.5221, Test MAE: 17.6236\n",
      "Epoch: 097, Train MAE: 17.5157, Test MAE: 17.7770\n",
      "Epoch: 098, Train MAE: 17.4124, Test MAE: 17.5264\n",
      "Epoch: 099, Train MAE: 17.4899, Test MAE: 17.5142\n",
      "Epoch: 100, Train MAE: 17.4466, Test MAE: 17.5692\n",
      "Epoch: 101, Train MAE: 17.4283, Test MAE: 17.5335\n",
      "Epoch: 102, Train MAE: 17.4295, Test MAE: 17.5522\n",
      "Epoch: 103, Train MAE: 17.4126, Test MAE: 17.5435\n",
      "Epoch: 104, Train MAE: 17.3179, Test MAE: 17.5329\n",
      "Epoch: 105, Train MAE: 17.3946, Test MAE: 17.5384\n",
      "Epoch: 106, Train MAE: 17.4008, Test MAE: 17.5282\n",
      "Epoch: 107, Train MAE: 17.3860, Test MAE: 17.5438\n",
      "Epoch: 108, Train MAE: 17.4477, Test MAE: 17.5246\n",
      "Epoch: 109, Train MAE: 17.3764, Test MAE: 17.5160\n",
      "Epoch: 110, Train MAE: 17.3784, Test MAE: 17.5293\n",
      "Epoch: 111, Train MAE: 17.3391, Test MAE: 17.5280\n",
      "Epoch: 112, Train MAE: 17.3301, Test MAE: 17.5211\n",
      "Epoch: 113, Train MAE: 17.2767, Test MAE: 17.5169\n",
      "Epoch: 114, Train MAE: 17.2909, Test MAE: 17.5323\n",
      "Epoch: 115, Train MAE: 17.2695, Test MAE: 17.5056\n",
      "Epoch: 116, Train MAE: 17.2526, Test MAE: 17.4960\n",
      "Epoch: 117, Train MAE: 17.3305, Test MAE: 17.5196\n",
      "Epoch: 118, Train MAE: 17.3284, Test MAE: 17.5834\n",
      "Epoch: 119, Train MAE: 17.2575, Test MAE: 17.6169\n",
      "Epoch: 120, Train MAE: 17.2531, Test MAE: 17.5406\n",
      "Epoch: 121, Train MAE: 17.2519, Test MAE: 17.5250\n",
      "Epoch: 122, Train MAE: 17.2668, Test MAE: 17.5315\n",
      "Epoch: 123, Train MAE: 17.2943, Test MAE: 17.5336\n",
      "Epoch: 124, Train MAE: 17.1965, Test MAE: 17.5508\n",
      "Epoch: 125, Train MAE: 17.1672, Test MAE: 17.5491\n",
      "Epoch: 126, Train MAE: 17.1730, Test MAE: 17.5495\n",
      "Epoch: 127, Train MAE: 17.2248, Test MAE: 17.5244\n",
      "Epoch: 128, Train MAE: 17.2137, Test MAE: 17.5732\n",
      "Epoch: 129, Train MAE: 17.2257, Test MAE: 17.5633\n",
      "Epoch: 130, Train MAE: 17.2615, Test MAE: 17.5180\n",
      "Epoch: 131, Train MAE: 17.2153, Test MAE: 17.5145\n",
      "Epoch: 132, Train MAE: 17.1433, Test MAE: 17.5178\n",
      "Epoch: 133, Train MAE: 17.2467, Test MAE: 17.5060\n",
      "Epoch: 134, Train MAE: 17.1894, Test MAE: 17.5034\n",
      "Epoch: 135, Train MAE: 17.2070, Test MAE: 17.5270\n",
      "Epoch: 136, Train MAE: 17.2911, Test MAE: 17.5227\n",
      "Epoch: 137, Train MAE: 17.0659, Test MAE: 17.5102\n",
      "Epoch: 138, Train MAE: 17.1606, Test MAE: 17.5310\n",
      "Epoch: 139, Train MAE: 17.2160, Test MAE: 17.5333\n",
      "Epoch: 140, Train MAE: 17.2371, Test MAE: 17.5217\n",
      "Epoch: 141, Train MAE: 17.1573, Test MAE: 17.5328\n",
      "Epoch: 142, Train MAE: 17.1387, Test MAE: 17.5153\n",
      "Epoch: 143, Train MAE: 17.1808, Test MAE: 17.5432\n",
      "Epoch: 144, Train MAE: 17.1032, Test MAE: 17.5301\n",
      "Epoch: 145, Train MAE: 17.1340, Test MAE: 17.5253\n",
      "Epoch: 146, Train MAE: 17.1061, Test MAE: 17.5354\n",
      "Epoch: 147, Train MAE: 17.1562, Test MAE: 17.5387\n",
      "Epoch: 148, Train MAE: 17.1224, Test MAE: 17.5271\n",
      "Epoch: 149, Train MAE: 17.1079, Test MAE: 17.5237\n",
      "Epoch: 150, Train MAE: 17.1717, Test MAE: 17.5278\n"
     ]
    }
   ],
   "source": [
    "train_loss = []\n",
    "val_loss = []\n",
    "test_loss = []\n",
    "epochs = 150\n",
    "min_loss = 100\n",
    "print('start train')\n",
    "\n",
    "for epoch in range(epochs):\n",
    "    train_acc = train(train_loader)\n",
    "#     val_acc = test(val_loader)\n",
    "    test_acc = test(test_loader)\n",
    "    train_loss.append(train_acc)\n",
    "#     val_loss.append(val_acc)\n",
    "    test_loss.append(test_acc)\n",
    "    scheduler.step(test_acc)\n",
    "    print(f'Epoch: {epoch+1:03d}, Train MAE: {train_acc:.4f}, Test MAE: {test_acc:.4f}')\n",
    "    if min_loss > test_acc:\n",
    "        min_loss = test_acc\n",
    "        print('Minimum Loss: {}'.format(min_loss))\n",
    "        torch.save(model.state_dict(), \"model/best_test_linkerGNN_rhoE_replace_surface2.pt\")"
   ]
  },
  {
   "cell_type": "code",
   "execution_count": 47,
   "id": "35131580-625c-463b-ae2d-9d78aec742df",
   "metadata": {},
   "outputs": [
    {
     "data": {
      "image/png": "[encoded data removed]",
      "text/plain": [
       "<Figure size 432x288 with 1 Axes>"
      ]
     },
     "metadata": {
      "needs_background": "light"
     },
     "output_type": "display_data"
    }
   ],
   "source": [
    "import matplotlib.pyplot as plt\n",
    "\n",
    "plt.title('loss')\n",
    "plt.plot(np.arange(epochs), train_loss, label='train loss')\n",
    "plt.plot(np.arange(epochs), test_loss, label='val loss')\n",
    "\n",
    "plt.legend()\n",
    "plt.show()"
   ]
  },
  {
   "cell_type": "code",
   "execution_count": 59,
   "id": "b497b990-bad4-4a60-a567-4fb855089f6f",
   "metadata": {},
   "outputs": [],
   "source": [
    "save = False\n",
    "if save:\n",
    "    torch.save(model.state_dict(), \"model/best_linkerGNN_rhoE.pt\")"
   ]
  },
  {
   "cell_type": "markdown",
   "id": "eea24b96-0bb4-4825-8511-025d23c07178",
   "metadata": {},
   "source": [
    "# Inference"
   ]
  },
  {
   "cell_type": "markdown",
   "id": "01d2b58b-befe-46af-9ac2-cb889717fceb",
   "metadata": {},
   "source": [
    "## Preprocess Data"
   ]
  },
  {
   "cell_type": "code",
   "execution_count": 76,
   "id": "8e876ea1-3a3e-4f5d-bfa6-420b19b1c83f",
   "metadata": {},
   "outputs": [
    {
     "name": "stdout",
     "output_type": "stream",
     "text": [
      "Number of training graphs: 63974\n",
      "Number of test graphs: 16235\n"
     ]
    }
   ],
   "source": [
    "train_dataset = pickle.load(open('data/train/graph_concat_linker_last_hope_replace_surface.pkl', 'rb'))\n",
    "test_dataset = pickle.load(open('data/test/graph_concat_linker_last_hope.pkl', 'rb'))\n",
    "\n",
    "print(f'Number of training graphs: {len(train_dataset)}')\n",
    "print(f'Number of test graphs: {len(test_dataset)}')"
   ]
  },
  {
   "cell_type": "code",
   "execution_count": 77,
   "id": "b15ad756-929a-4341-a850-2443109b32f8",
   "metadata": {},
   "outputs": [],
   "source": [
    "train_feat = []\n",
    "test_feat = []\n",
    "\n",
    "for train_data in train_dataset:\n",
    "    train_feat.append(train_data.x_feat)\n",
    "    \n",
    "for test_data in test_dataset:\n",
    "    test_feat.append(test_data.x_feat)\n",
    "\n",
    "\n",
    "train_feat = torch.cat(train_feat, axis=0)\n",
    "test_feat = torch.cat(test_feat, axis=0)\n",
    "\n",
    "sc = StandardScaler()\n",
    "train_feat = torch.from_numpy(sc.fit_transform(train_feat))\n",
    "test_feat = torch.from_numpy(sc.transform(test_feat))\n",
    "\n",
    "for i, data in enumerate(train_dataset):\n",
    "    data.x_feat = train_feat[i].unsqueeze(0)\n",
    "\n",
    "for i, data in enumerate(test_dataset):\n",
    "    data.x_feat = test_feat[i].unsqueeze(0)"
   ]
  },
  {
   "cell_type": "code",
   "execution_count": 78,
   "id": "a8c5717e-5674-4121-966a-c3babae5999e",
   "metadata": {},
   "outputs": [],
   "source": [
    "train_loader = DataLoader(train_dataset, batch_size=128, follow_batch=['mof_node', 'metal_node', 'organ1_node', 'organ2_node'], shuffle=False)\n",
    "test_loader = DataLoader(test_dataset, batch_size=128, follow_batch=['mof_node', 'metal_node', 'organ1_node', 'organ2_node'], shuffle=False)"
   ]
  },
  {
   "cell_type": "code",
   "execution_count": 20,
   "id": "10dc71d4-697d-4e6a-911f-a70063834f65",
   "metadata": {},
   "outputs": [
    {
     "name": "stderr",
     "output_type": "stream",
     "text": [
      "C:\\Users\\User\\anaconda3\\envs\\TMLCC_CUDA\\lib\\site-packages\\torch_geometric\\data\\storage.py:249: UserWarning: Unable to accurately infer 'num_nodes' from the attribute set '{'metal_edge_attr', 'x_feat', 'metal_node', 'organ1_edge_attr', 'organ1_edge_index', 'metal_edge_index', 'organ2_node', 'organ1_node', 'y', 'organ2_edge_attr', 'mof_edge_attr', 'mof_edge_index', 'mof_node', 'organ2_edge_index', 'mofname'}'. Please explicitly set 'num_nodes' as an attribute of 'data' to suppress this warning\n",
      "  \" to suppress this warning\")\n"
     ]
    },
    {
     "data": {
      "text/plain": [
       "16.605871655885675"
      ]
     },
     "execution_count": 20,
     "metadata": {},
     "output_type": "execute_result"
    }
   ],
   "source": [
    "test(train_loader)"
   ]
  },
  {
   "cell_type": "markdown",
   "id": "eea2ece4-05e7-469a-a880-0eb27fe99531",
   "metadata": {},
   "source": [
    "## Load Model"
   ]
  },
  {
   "cell_type": "code",
   "execution_count": 93,
   "id": "160f8d28-db63-4202-ab0f-64e030d9b4de",
   "metadata": {},
   "outputs": [
    {
     "data": {
      "text/plain": [
       "Net(\n",
       "  (mof_g): SAGE(\n",
       "    (conv1): SAGEConv(9, 45)\n",
       "    (conv2): SAGEConv(45, 45)\n",
       "    (conv3): SAGEConv(45, 45)\n",
       "    (conv4): SAGEConv(45, 45)\n",
       "    (lin): Linear(in_features=45, out_features=128, bias=True)\n",
       "  )\n",
       "  (metal_g): Graph(\n",
       "    (conv1): GraphConv(9, 45)\n",
       "    (conv2): GraphConv(45, 45)\n",
       "    (conv3): GraphConv(45, 45)\n",
       "    (conv4): GraphConv(45, 45)\n",
       "    (lin): Linear(in_features=45, out_features=128, bias=True)\n",
       "  )\n",
       "  (organ1_g): Graph(\n",
       "    (conv1): GraphConv(9, 45)\n",
       "    (conv2): GraphConv(45, 45)\n",
       "    (conv3): GraphConv(45, 45)\n",
       "    (conv4): GraphConv(45, 45)\n",
       "    (lin): Linear(in_features=45, out_features=128, bias=True)\n",
       "  )\n",
       "  (organ2_g): Graph(\n",
       "    (conv1): GraphConv(9, 45)\n",
       "    (conv2): GraphConv(45, 45)\n",
       "    (conv3): GraphConv(45, 45)\n",
       "    (conv4): GraphConv(45, 45)\n",
       "    (lin): Linear(in_features=45, out_features=128, bias=True)\n",
       "  )\n",
       "  (mlp): MLP(\n",
       "    (lin1): Linear(in_features=30, out_features=45, bias=True)\n",
       "    (lin2): Linear(in_features=45, out_features=45, bias=True)\n",
       "    (lin3): Linear(in_features=45, out_features=45, bias=True)\n",
       "    (lin4): Linear(in_features=45, out_features=128, bias=True)\n",
       "  )\n",
       "  (lin): Linear(in_features=256, out_features=128, bias=True)\n",
       "  (lin2): Linear(in_features=128, out_features=128, bias=True)\n",
       "  (cross): CrossNet()\n",
       "  (mlp_cross): MLP(\n",
       "    (lin1): Linear(in_features=128, out_features=128, bias=True)\n",
       "    (lin2): Linear(in_features=128, out_features=128, bias=True)\n",
       "    (lin3): Linear(in_features=128, out_features=128, bias=True)\n",
       "    (lin4): Linear(in_features=128, out_features=128, bias=True)\n",
       "  )\n",
       "  (mlp_out): MLP(\n",
       "    (lin1): Linear(in_features=640, out_features=256, bias=True)\n",
       "    (lin2): Linear(in_features=256, out_features=256, bias=True)\n",
       "    (lin3): Linear(in_features=256, out_features=256, bias=True)\n",
       "    (lin4): Linear(in_features=256, out_features=256, bias=True)\n",
       "  )\n",
       "  (out): Linear(in_features=256, out_features=1, bias=True)\n",
       ")"
      ]
     },
     "execution_count": 93,
     "metadata": {},
     "output_type": "execute_result"
    }
   ],
   "source": [
    "num_mof_node = 9\n",
    "num_metal_node = 9\n",
    "num_organ1_node = 9\n",
    "num_organ2_node = 9\n",
    "hidden_channels = 45 # SAGE: 32\n",
    "num_feats = 30\n",
    "num_classes = 1\n",
    "num_attr = 3\n",
    "\n",
    "model = Net(num_mof_node, num_metal_node, num_organ1_node, num_organ2_node, num_feats, hidden_channels, num_classes).to(device)\n",
    "optimizer = torch.optim.Adam(model.parameters(), lr=0.001) #0.001\n",
    "criterion = torch.nn.L1Loss()\n",
    "scheduler = ReduceLROnPlateau(optimizer, 'min', factor=0.85, patience=3, min_lr=0.000001) #factor=0.85\n",
    "\n",
    "model.load_state_dict(torch.load('model/best_test_linkerGNN_rhoE_replace_surface.pt'))\n",
    "model.eval()"
   ]
  },
  {
   "cell_type": "markdown",
   "id": "253f3c94-3bb9-44c0-acc4-8e582aeac2d3",
   "metadata": {},
   "source": [
    "## Evaluate Test"
   ]
  },
  {
   "cell_type": "code",
   "execution_count": 94,
   "id": "35b0b9ff-5788-47ec-a798-27ac83cac519",
   "metadata": {},
   "outputs": [
    {
     "name": "stderr",
     "output_type": "stream",
     "text": [
      "C:\\Users\\User\\anaconda3\\envs\\TMLCC_CUDA\\lib\\site-packages\\torch_geometric\\data\\storage.py:249: UserWarning: Unable to accurately infer 'num_nodes' from the attribute set '{'mofname', 'organ1_edge_attr', 'metal_edge_index', 'organ2_node', 'organ1_edge_index', 'organ2_edge_attr', 'organ1_node', 'organ2_edge_index', 'x_feat', 'mof_edge_attr', 'mof_node', 'metal_edge_attr', 'metal_node', 'mof_edge_index'}'. Please explicitly set 'num_nodes' as an attribute of 'data' to suppress this warning\n",
      "  \" to suppress this warning\")\n"
     ]
    }
   ],
   "source": [
    "mofname = []\n",
    "co2_select = []\n",
    "\n",
    "for data in test_loader:  # Iterate in batches over the training dataset.\n",
    "    data.to(device)\n",
    "    \n",
    "    out = model(data.mof_node, data.mof_edge_index, data.mof_node_batch,\n",
    "                data.metal_node, data.metal_edge_index, data.metal_node_batch,\n",
    "                data.organ1_node, data.organ1_edge_index, data.organ1_node_batch,\n",
    "                data.organ2_node, data.organ2_edge_index, data.organ2_node_batch, data.x_feat.float()).cpu().detach().numpy()\n",
    "    mofname.append(data.mofname)\n",
    "    co2_select.append(out)\n",
    "    \n",
    "mofname = np.concatenate(mofname)\n",
    "co2_select = np.concatenate(co2_select).flatten()\n",
    "\n",
    "cut_mof_unit = lambda x: x.split('_')[-1]\n",
    "id_ = np.array(list(map(cut_mof_unit, mofname)))"
   ]
  },
  {
   "cell_type": "code",
   "execution_count": 95,
   "id": "9db2345b-cf9e-43c3-bc68-67993c405a5a",
   "metadata": {},
   "outputs": [],
   "source": [
    "d = {'id': id_, 'CO2_working_capacity [mL/g]': co2_select}\n",
    "\n",
    "df_inference = pd.DataFrame(d)"
   ]
  },
  {
   "cell_type": "code",
   "execution_count": 96,
   "id": "7435fc60-3757-427b-a8c1-bffe25e4fbe1",
   "metadata": {},
   "outputs": [],
   "source": [
    "df_xgboost = pd.read_csv('xgboost_submission_hist.csv')\n",
    "df_xgboost = df_xgboost.set_index('id')\n",
    "\n",
    "df_xgboost.loc[df_inference.id.values.astype(int)] = np.expand_dims(df_inference['CO2_working_capacity [mL/g]'].values, axis=1)\n",
    "df_xgboost = df_xgboost.reset_index()"
   ]
  },
  {
   "cell_type": "code",
   "execution_count": 56,
   "id": "efb0471b-287b-4ffa-b888-f363e344f9a0",
   "metadata": {},
   "outputs": [],
   "source": [
    "df_xgboost.to_csv('submission.csv', index=False)"
   ]
  },
  {
   "cell_type": "code",
   "execution_count": 97,
   "id": "1fb8d3ae-2411-4ea2-856f-fe7cd2c5d9ac",
   "metadata": {},
   "outputs": [
    {
     "data": {
      "text/html": [
       "<div>\n",
       "<style scoped>\n",
       "    .dataframe tbody tr th:only-of-type {\n",
       "        vertical-align: middle;\n",
       "    }\n",
       "\n",
       "    .dataframe tbody tr th {\n",
       "        vertical-align: top;\n",
       "    }\n",
       "\n",
       "    .dataframe thead th {\n",
       "        text-align: right;\n",
       "    }\n",
       "</style>\n",
       "<table border=\"1\" class=\"dataframe\">\n",
       "  <thead>\n",
       "    <tr style=\"text-align: right;\">\n",
       "      <th></th>\n",
       "      <th>id</th>\n",
       "      <th>CO2_working_capacity [mL/g]</th>\n",
       "    </tr>\n",
       "  </thead>\n",
       "  <tbody>\n",
       "    <tr>\n",
       "      <th>0</th>\n",
       "      <td>68614</td>\n",
       "      <td>208.582764</td>\n",
       "    </tr>\n",
       "    <tr>\n",
       "      <th>1</th>\n",
       "      <td>68615</td>\n",
       "      <td>76.425903</td>\n",
       "    </tr>\n",
       "    <tr>\n",
       "      <th>2</th>\n",
       "      <td>68616</td>\n",
       "      <td>68.022125</td>\n",
       "    </tr>\n",
       "    <tr>\n",
       "      <th>3</th>\n",
       "      <td>68617</td>\n",
       "      <td>55.167507</td>\n",
       "    </tr>\n",
       "    <tr>\n",
       "      <th>4</th>\n",
       "      <td>68618</td>\n",
       "      <td>63.628239</td>\n",
       "    </tr>\n",
       "    <tr>\n",
       "      <th>...</th>\n",
       "      <td>...</td>\n",
       "      <td>...</td>\n",
       "    </tr>\n",
       "    <tr>\n",
       "      <th>16995</th>\n",
       "      <td>85609</td>\n",
       "      <td>-6.286825</td>\n",
       "    </tr>\n",
       "    <tr>\n",
       "      <th>16996</th>\n",
       "      <td>85610</td>\n",
       "      <td>1.665041</td>\n",
       "    </tr>\n",
       "    <tr>\n",
       "      <th>16997</th>\n",
       "      <td>85611</td>\n",
       "      <td>0.451034</td>\n",
       "    </tr>\n",
       "    <tr>\n",
       "      <th>16998</th>\n",
       "      <td>85612</td>\n",
       "      <td>-0.632289</td>\n",
       "    </tr>\n",
       "    <tr>\n",
       "      <th>16999</th>\n",
       "      <td>85613</td>\n",
       "      <td>-3.927843</td>\n",
       "    </tr>\n",
       "  </tbody>\n",
       "</table>\n",
       "<p>17000 rows × 2 columns</p>\n",
       "</div>"
      ],
      "text/plain": [
       "          id  CO2_working_capacity [mL/g]\n",
       "0      68614                   208.582764\n",
       "1      68615                    76.425903\n",
       "2      68616                    68.022125\n",
       "3      68617                    55.167507\n",
       "4      68618                    63.628239\n",
       "...      ...                          ...\n",
       "16995  85609                    -6.286825\n",
       "16996  85610                     1.665041\n",
       "16997  85611                     0.451034\n",
       "16998  85612                    -0.632289\n",
       "16999  85613                    -3.927843\n",
       "\n",
       "[17000 rows x 2 columns]"
      ]
     },
     "execution_count": 97,
     "metadata": {},
     "output_type": "execute_result"
    }
   ],
   "source": [
    "df_xgboost"
   ]
  },
  {
   "cell_type": "markdown",
   "id": "d95120c4-23ac-477f-ab2a-79f4c633b99c",
   "metadata": {},
   "source": [
    "## Error Analysis"
   ]
  },
  {
   "cell_type": "code",
   "execution_count": 109,
   "id": "257568ea-e979-4d54-9922-e08599871a37",
   "metadata": {},
   "outputs": [],
   "source": [
    "data_list = pickle.load(open('data/train/graph_concat_linker_last_hope_replace_surface.pkl', 'rb'))"
   ]
  },
  {
   "cell_type": "code",
   "execution_count": 110,
   "id": "6fb2cc22-8ed8-49cd-8601-7444b6790a13",
   "metadata": {},
   "outputs": [
    {
     "name": "stdout",
     "output_type": "stream",
     "text": [
      "Number of training graphs: 53738\n",
      "Number of test graphs: 10236\n"
     ]
    }
   ],
   "source": [
    "import random\n",
    "random.seed(10)\n",
    "\n",
    "datasets = data_list\n",
    "\n",
    "train_dataset, test_dataset = train_test_split(datasets, test_size=0.16, random_state = 1, shuffle=True)\n",
    "# val_dataset, test_dataset = train_test_split(test_dataset, test_size=0.2, random_state = 1, shuffle=True)\n",
    "\n",
    "print(f'Number of training graphs: {len(train_dataset)}')\n",
    "# print(f'Number of validate graphs: {len(val_dataset)}')\n",
    "print(f'Number of test graphs: {len(test_dataset)}')"
   ]
  },
  {
   "cell_type": "code",
   "execution_count": 111,
   "id": "1e125012-8b9e-4e2d-b4db-af15c2660f2d",
   "metadata": {},
   "outputs": [],
   "source": [
    "train_feat = []\n",
    "test_feat = []\n",
    "val_feat = []\n",
    "\n",
    "for train_data in train_dataset:\n",
    "    train_feat.append(train_data.x_feat)\n",
    "    \n",
    "for test_data in test_dataset:\n",
    "    test_feat.append(test_data.x_feat)\n",
    "\n",
    "\n",
    "train_feat = torch.cat(train_feat, axis=0)\n",
    "test_feat = torch.cat(test_feat, axis=0)\n",
    "\n",
    "sc = StandardScaler()\n",
    "train_feat = torch.from_numpy(sc.fit_transform(train_feat))\n",
    "test_feat = torch.from_numpy(sc.transform(test_feat))\n",
    "\n",
    "for i, data in enumerate(train_dataset):\n",
    "    data.x_feat = train_feat[i].unsqueeze(0)\n",
    "\n",
    "for i, data in enumerate(test_dataset):\n",
    "    data.x_feat = test_feat[i].unsqueeze(0)"
   ]
  },
  {
   "cell_type": "code",
   "execution_count": 112,
   "id": "15dad2dd-f8eb-4178-a40b-d25882196470",
   "metadata": {},
   "outputs": [],
   "source": [
    "from torch_geometric.loader import DataLoader\n",
    "import numpy as np\n",
    "\n",
    "train_loader = DataLoader(train_dataset, batch_size=128, follow_batch=['mof_node', 'metal_node', 'organ1_node', 'organ2_node'], shuffle=True)\n",
    "test_loader = DataLoader(test_dataset, batch_size=128, follow_batch=['mof_node', 'metal_node', 'organ1_node', 'organ2_node'], shuffle=False)\n",
    "# val_loader = DataLoader(val_dataset, batch_size=128, follow_batch=['mof_node', 'metal_node', 'organ1_node', 'organ2_node'], shuffle=False)"
   ]
  },
  {
   "cell_type": "code",
   "execution_count": 113,
   "id": "e29ce7d3-6fff-49ae-910f-e0c29ecfe40d",
   "metadata": {},
   "outputs": [
    {
     "name": "stderr",
     "output_type": "stream",
     "text": [
      "C:\\Users\\User\\anaconda3\\envs\\TMLCC_CUDA\\lib\\site-packages\\torch_geometric\\data\\storage.py:249: UserWarning: Unable to accurately infer 'num_nodes' from the attribute set '{'mofname', 'organ1_edge_attr', 'metal_edge_index', 'organ2_node', 'organ1_edge_index', 'organ2_edge_attr', 'organ1_node', 'organ2_edge_index', 'x_feat', 'mof_edge_attr', 'mof_node', 'metal_edge_attr', 'y', 'metal_node', 'mof_edge_index'}'. Please explicitly set 'num_nodes' as an attribute of 'data' to suppress this warning\n",
      "  \" to suppress this warning\")\n"
     ]
    }
   ],
   "source": [
    "predict_train = []\n",
    "actual_train = []\n",
    "\n",
    "for data in train_loader:  # Iterate in batches over the training dataset.\n",
    "    data.to(device)\n",
    "    \n",
    "    out = model(data.mof_node, data.mof_edge_index, data.mof_node_batch,\n",
    "                data.metal_node, data.metal_edge_index, data.metal_node_batch,\n",
    "                data.organ1_node, data.organ1_edge_index, data.organ1_node_batch,\n",
    "                data.organ2_node, data.organ2_edge_index, data.organ2_node_batch, data.x_feat.float()).cpu().detach().numpy()\n",
    "    actual_train.append(data.y.cpu().detach().numpy())\n",
    "    predict_train.append(out)\n",
    "    \n",
    "actual_train = np.concatenate(actual_train).flatten()\n",
    "predict_train = np.concatenate(predict_train).flatten()\n",
    "\n",
    "predict_test = []\n",
    "actual_test = []\n",
    "\n",
    "for data in test_loader:  # Iterate in batches over the training dataset.\n",
    "    data.to(device)\n",
    "    \n",
    "    out = model(data.mof_node, data.mof_edge_index, data.mof_node_batch,\n",
    "                data.metal_node, data.metal_edge_index, data.metal_node_batch,\n",
    "                data.organ1_node, data.organ1_edge_index, data.organ1_node_batch,\n",
    "                data.organ2_node, data.organ2_edge_index, data.organ2_node_batch, data.x_feat.float()).cpu().detach().numpy()\n",
    "    actual_test.append(data.y.cpu().detach().numpy())\n",
    "    predict_test.append(out)\n",
    "    \n",
    "actual_test = np.concatenate(actual_test).flatten()\n",
    "predict_test = np.concatenate(predict_test).flatten()"
   ]
  },
  {
   "cell_type": "code",
   "execution_count": 115,
   "id": "92da8f00-8e6d-45ce-8210-575ab80d4090",
   "metadata": {},
   "outputs": [
    {
     "data": {
      "image/png": "[encoded data removed]",
      "text/plain": [
       "<Figure size 1332x756 with 1 Axes>"
      ]
     },
     "metadata": {
      "needs_background": "light"
     },
     "output_type": "display_data"
    }
   ],
   "source": [
    "import matplotlib.pyplot as plt\n",
    "import matplotlib\n",
    "from numpy.polynomial.polynomial import polyfit\n",
    "\n",
    "fig = matplotlib.pyplot.gcf()\n",
    "fig.set_size_inches(18.5, 10.5)\n",
    "\n",
    "x1=np.array(actual_train)\n",
    "y1=predict_train\n",
    "x2=np.array(actual_test)\n",
    "y2=predict_test\n",
    "\n",
    "b1, m1 = polyfit(x1, y1, 1)\n",
    "b2, m2 = polyfit(x2, y2, 1)\n",
    "\n",
    "plt.plot(x1, y1, '.', alpha=0.3,label = \"train\")\n",
    "plt.plot(x1, b1 + m1 * x1, '-')\n",
    "plt.plot(x2, y2, '.', alpha=0.3,label = \"test\")\n",
    "plt.plot(x2, b2 + m2 * x2, '-')\n",
    "plt.xlabel('Actual')\n",
    "plt.ylabel('predicted')\n",
    "plt.title('train/test')\n",
    "# show a legend on the plot\n",
    "plt.legend()\n",
    "plt.show()"
   ]
  },
  {
   "cell_type": "code",
   "execution_count": 121,
   "id": "6eac6d5e-743b-4fed-a05d-0fc6ecbf1481",
   "metadata": {},
   "outputs": [
    {
     "data": {
      "image/png": "[encoded data removed]",
      "text/plain": [
       "<Figure size 432x288 with 1 Axes>"
      ]
     },
     "metadata": {
      "needs_background": "light"
     },
     "output_type": "display_data"
    },
    {
     "data": {
      "image/png": "[encoded data removed]",
      "text/plain": [
       "<Figure size 432x288 with 1 Axes>"
      ]
     },
     "metadata": {
      "needs_background": "light"
     },
     "output_type": "display_data"
    }
   ],
   "source": [
    "error_train = np.abs(predict_train-actual_train)\n",
    "error_test = np.abs(predict_test-actual_test)\n",
    "\n",
    "plt.hist(error_train, bins=100)\n",
    "plt.title(\"Train MAE\")\n",
    "plt.show()\n",
    "plt.hist(error_test, bins=100)\n",
    "plt.title(\"Test MAE\")\n",
    "plt.show()"
   ]
  },
  {
   "cell_type": "markdown",
   "id": "4ccfd22f-5ebe-43cd-9621-06a0ddcd6f37",
   "metadata": {},
   "source": [
    "## Create Latent Space for AutoML"
   ]
  },
  {
   "cell_type": "code",
   "execution_count": 83,
   "id": "3da5e7a7-88cc-46b5-a7e5-2aca58e7215b",
   "metadata": {},
   "outputs": [
    {
     "data": {
      "text/plain": [
       "Net(\n",
       "  (mof_g): SAGE(\n",
       "    (conv1): SAGEConv(9, 45)\n",
       "    (conv2): SAGEConv(45, 45)\n",
       "    (conv3): SAGEConv(45, 45)\n",
       "    (conv4): SAGEConv(45, 45)\n",
       "    (lin): Linear(in_features=45, out_features=128, bias=True)\n",
       "  )\n",
       "  (metal_g): Graph(\n",
       "    (conv1): GraphConv(9, 45)\n",
       "    (conv2): GraphConv(45, 45)\n",
       "    (conv3): GraphConv(45, 45)\n",
       "    (conv4): GraphConv(45, 45)\n",
       "    (lin): Linear(in_features=45, out_features=128, bias=True)\n",
       "  )\n",
       "  (organ1_g): Graph(\n",
       "    (conv1): GraphConv(9, 45)\n",
       "    (conv2): GraphConv(45, 45)\n",
       "    (conv3): GraphConv(45, 45)\n",
       "    (conv4): GraphConv(45, 45)\n",
       "    (lin): Linear(in_features=45, out_features=128, bias=True)\n",
       "  )\n",
       "  (organ2_g): Graph(\n",
       "    (conv1): GraphConv(9, 45)\n",
       "    (conv2): GraphConv(45, 45)\n",
       "    (conv3): GraphConv(45, 45)\n",
       "    (conv4): GraphConv(45, 45)\n",
       "    (lin): Linear(in_features=45, out_features=128, bias=True)\n",
       "  )\n",
       "  (mlp): MLP(\n",
       "    (lin1): Linear(in_features=30, out_features=45, bias=True)\n",
       "    (lin2): Linear(in_features=45, out_features=45, bias=True)\n",
       "    (lin3): Linear(in_features=45, out_features=45, bias=True)\n",
       "    (lin4): Linear(in_features=45, out_features=128, bias=True)\n",
       "  )\n",
       "  (lin): Linear(in_features=256, out_features=128, bias=True)\n",
       "  (lin2): Linear(in_features=128, out_features=128, bias=True)\n",
       "  (cross): CrossNet()\n",
       "  (mlp_cross): MLP(\n",
       "    (lin1): Linear(in_features=128, out_features=128, bias=True)\n",
       "    (lin2): Linear(in_features=128, out_features=128, bias=True)\n",
       "    (lin3): Linear(in_features=128, out_features=128, bias=True)\n",
       "    (lin4): Linear(in_features=128, out_features=128, bias=True)\n",
       "  )\n",
       "  (mlp_out): MLP(\n",
       "    (lin1): Linear(in_features=640, out_features=256, bias=True)\n",
       "    (lin2): Linear(in_features=256, out_features=256, bias=True)\n",
       "    (lin3): Linear(in_features=256, out_features=256, bias=True)\n",
       "    (lin4): Linear(in_features=256, out_features=256, bias=True)\n",
       "  )\n",
       "  (out): Sequential()\n",
       ")"
      ]
     },
     "execution_count": 83,
     "metadata": {},
     "output_type": "execute_result"
    }
   ],
   "source": [
    "model.out=nn.Sequential(*list(model.out.children())[:-1])\n",
    "model.eval()\n",
    "model.to(device)"
   ]
  },
  {
   "cell_type": "code",
   "execution_count": 85,
   "id": "91628a15-bd6f-4df6-812e-d86634bc8e6d",
   "metadata": {},
   "outputs": [
    {
     "name": "stderr",
     "output_type": "stream",
     "text": [
      "C:\\Users\\User\\anaconda3\\envs\\TMLCC_CUDA\\lib\\site-packages\\torch_geometric\\data\\storage.py:249: UserWarning: Unable to accurately infer 'num_nodes' from the attribute set '{'mofname', 'organ1_edge_attr', 'metal_edge_index', 'organ2_node', 'organ1_edge_index', 'organ2_edge_attr', 'organ1_node', 'organ2_edge_index', 'x_feat', 'mof_edge_attr', 'mof_node', 'metal_edge_attr', 'y', 'metal_node', 'mof_edge_index'}'. Please explicitly set 'num_nodes' as an attribute of 'data' to suppress this warning\n",
      "  \" to suppress this warning\")\n"
     ]
    },
    {
     "name": "stdout",
     "output_type": "stream",
     "text": [
      "done: 100\n",
      "done: 200\n",
      "done: 300\n",
      "done: 400\n",
      "done: 500\n"
     ]
    }
   ],
   "source": [
    "c=0\n",
    "train_x = []\n",
    "train_y = []\n",
    "train_mofname = []\n",
    "\n",
    "for data in train_loader:  # Iterate in batches over the training dataset.\n",
    "    data.to(device)\n",
    "    out = model(data.mof_node, data.mof_edge_index, data.mof_node_batch,\n",
    "                data.metal_node, data.metal_edge_index, data.metal_node_batch,\n",
    "                data.organ1_node, data.organ1_edge_index, data.organ1_node_batch,\n",
    "                data.organ2_node, data.organ2_edge_index, data.organ2_node_batch, data.x_feat.float()).cpu().detach().numpy()\n",
    "    x_feat = data.x_feat.cpu().detach().numpy()\n",
    "\n",
    "    out = np.concatenate((out, x_feat), axis=1)\n",
    "    train_x.append(out)\n",
    "    train_y.append(data.y.cpu().detach().numpy())\n",
    "    train_mofname.append(data.mofname)\n",
    "    c=c+1\n",
    "    if(c%100==0):\n",
    "        print('done:',c)\n",
    "\n",
    "train_x = np.concatenate(train_x, axis=0)\n",
    "train_y = np.concatenate(train_y, axis=0)\n",
    "train_mofname = np.concatenate(train_mofname, axis=0)"
   ]
  },
  {
   "cell_type": "code",
   "execution_count": 86,
   "id": "00dc8e64-9c19-401b-864d-13b4539fa5c2",
   "metadata": {},
   "outputs": [
    {
     "name": "stdout",
     "output_type": "stream",
     "text": [
      "done: 100\n"
     ]
    }
   ],
   "source": [
    "c=0\n",
    "test_x = []\n",
    "test_mofname = []\n",
    "\n",
    "for data in test_loader:  # Iterate in batches over the training dataset.\n",
    "    data.to(device)\n",
    "    out = model(data.mof_node, data.mof_edge_index, data.mof_node_batch,\n",
    "                data.metal_node, data.metal_edge_index, data.metal_node_batch,\n",
    "                data.organ1_node, data.organ1_edge_index, data.organ1_node_batch,\n",
    "                data.organ2_node, data.organ2_edge_index, data.organ2_node_batch, data.x_feat.float()).cpu().detach().numpy()\n",
    "    x_feat = data.x_feat.cpu().detach().numpy()\n",
    "\n",
    "    out = np.concatenate((out, x_feat), axis=1)\n",
    "    test_x.append(out)\n",
    "    test_mofname.append(data.mofname)\n",
    "    c=c+1\n",
    "    if(c%100==0):\n",
    "        print('done:',c)\n",
    "\n",
    "test_x = np.concatenate(test_x, axis=0)\n",
    "test_mofname = np.concatenate(test_mofname, axis=0)"
   ]
  },
  {
   "cell_type": "code",
   "execution_count": 87,
   "id": "a8b951cd-46fd-4d9a-b530-cdf6e6cfc44d",
   "metadata": {},
   "outputs": [],
   "source": [
    "train_df = pd.DataFrame(train_x)\n",
    "test_df = pd.DataFrame(test_x)\n",
    "\n",
    "train_df['target'] = train_y.flatten()\n",
    "train_df['mofname'] = train_mofname.flatten()\n",
    "test_df['mofname'] = test_mofname.flatten()"
   ]
  },
  {
   "cell_type": "code",
   "execution_count": 92,
   "id": "9c59a166-f0e8-438e-95fb-49c5fa3af489",
   "metadata": {},
   "outputs": [],
   "source": [
    "train_df.to_csv('data/train/Latent_feat_last_hope_train.csv',index=False)\n",
    "# test_df.to_csv('data/test/Latent_feat_last_hope_test.csv',index=False)"
   ]
  },
  {
   "cell_type": "code",
   "execution_count": 81,
   "id": "8d6c7ad2-3eb5-4cdc-9abd-325e0d960ad9",
   "metadata": {},
   "outputs": [],
   "source": [
    "d = {'mofname': mofname, 'predict': co2_select}\n",
    "\n",
    "df_inference = pd.DataFrame(d)"
   ]
  },
  {
   "cell_type": "code",
   "execution_count": 89,
   "id": "49e634a0-04fd-4330-b1bd-4ad89c04f38a",
   "metadata": {},
   "outputs": [
    {
     "data": {
      "text/html": [
       "<div>\n",
       "<style scoped>\n",
       "    .dataframe tbody tr th:only-of-type {\n",
       "        vertical-align: middle;\n",
       "    }\n",
       "\n",
       "    .dataframe tbody tr th {\n",
       "        vertical-align: top;\n",
       "    }\n",
       "\n",
       "    .dataframe thead th {\n",
       "        text-align: right;\n",
       "    }\n",
       "</style>\n",
       "<table border=\"1\" class=\"dataframe\">\n",
       "  <thead>\n",
       "    <tr style=\"text-align: right;\">\n",
       "      <th></th>\n",
       "      <th>mofname</th>\n",
       "      <th>predict</th>\n",
       "    </tr>\n",
       "  </thead>\n",
       "  <tbody>\n",
       "    <tr>\n",
       "      <th>0</th>\n",
       "      <td>mof_unit_2</td>\n",
       "      <td>99.015335</td>\n",
       "    </tr>\n",
       "    <tr>\n",
       "      <th>1</th>\n",
       "      <td>mof_unit_4</td>\n",
       "      <td>138.597061</td>\n",
       "    </tr>\n",
       "    <tr>\n",
       "      <th>2</th>\n",
       "      <td>mof_unit_5</td>\n",
       "      <td>91.900406</td>\n",
       "    </tr>\n",
       "    <tr>\n",
       "      <th>3</th>\n",
       "      <td>mof_unit_6</td>\n",
       "      <td>68.625175</td>\n",
       "    </tr>\n",
       "    <tr>\n",
       "      <th>4</th>\n",
       "      <td>mof_unit_7</td>\n",
       "      <td>78.363464</td>\n",
       "    </tr>\n",
       "    <tr>\n",
       "      <th>...</th>\n",
       "      <td>...</td>\n",
       "      <td>...</td>\n",
       "    </tr>\n",
       "    <tr>\n",
       "      <th>63969</th>\n",
       "      <td>mof_unit_68609</td>\n",
       "      <td>0.086228</td>\n",
       "    </tr>\n",
       "    <tr>\n",
       "      <th>63970</th>\n",
       "      <td>mof_unit_68610</td>\n",
       "      <td>0.065204</td>\n",
       "    </tr>\n",
       "    <tr>\n",
       "      <th>63971</th>\n",
       "      <td>mof_unit_68611</td>\n",
       "      <td>14.137242</td>\n",
       "    </tr>\n",
       "    <tr>\n",
       "      <th>63972</th>\n",
       "      <td>mof_unit_68612</td>\n",
       "      <td>3.378223</td>\n",
       "    </tr>\n",
       "    <tr>\n",
       "      <th>63973</th>\n",
       "      <td>mof_unit_68613</td>\n",
       "      <td>2.289888</td>\n",
       "    </tr>\n",
       "  </tbody>\n",
       "</table>\n",
       "<p>63974 rows × 2 columns</p>\n",
       "</div>"
      ],
      "text/plain": [
       "              mofname     predict\n",
       "0          mof_unit_2   99.015335\n",
       "1          mof_unit_4  138.597061\n",
       "2          mof_unit_5   91.900406\n",
       "3          mof_unit_6   68.625175\n",
       "4          mof_unit_7   78.363464\n",
       "...               ...         ...\n",
       "63969  mof_unit_68609    0.086228\n",
       "63970  mof_unit_68610    0.065204\n",
       "63971  mof_unit_68611   14.137242\n",
       "63972  mof_unit_68612    3.378223\n",
       "63973  mof_unit_68613    2.289888\n",
       "\n",
       "[63974 rows x 2 columns]"
      ]
     },
     "execution_count": 89,
     "metadata": {},
     "output_type": "execute_result"
    }
   ],
   "source": [
    "df_inference"
   ]
  },
  {
   "cell_type": "code",
   "execution_count": 90,
   "id": "9370d310-f991-426a-954e-afd61a44035a",
   "metadata": {},
   "outputs": [],
   "source": [
    "train_df = train_df.join(df_inference.set_index('mofname'), on='mofname')\n",
    "train_df = train_df.set_index('mofname')\n",
    "train_df = train_df.reset_index()"
   ]
  },
  {
   "cell_type": "code",
   "execution_count": null,
   "id": "6da11018-4090-4e48-bbac-c68533c8177c",
   "metadata": {},
   "outputs": [],
   "source": []
  }
 ],
 "metadata": {
  "kernelspec": {
   "display_name": "TMLCC_CUDA",
   "language": "python",
   "name": "tmlcc_cuda"
  },
  "language_info": {
   "codemirror_mode": {
    "name": "ipython",
    "version": 3
   },
   "file_extension": ".py",
   "mimetype": "text/x-python",
   "name": "python",
   "nbconvert_exporter": "python",
   "pygments_lexer": "ipython3",
   "version": "3.7.11"
  }
 },
 "nbformat": 4,
 "nbformat_minor": 5
}

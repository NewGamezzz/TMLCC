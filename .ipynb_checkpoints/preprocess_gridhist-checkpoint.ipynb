{
 "cells": [
  {
   "cell_type": "code",
   "execution_count": 25,
   "id": "a6a20283-f5c7-428d-b731-e7979b778231",
   "metadata": {},
   "outputs": [],
   "source": [
    "from rdkit import Chem\n",
    "import math\n",
    "import pandas as pd\n",
    "import pickle\n",
    "import torch\n",
    "from sklearn.model_selection import train_test_split\n",
    "from sklearn.preprocessing import StandardScaler\n",
    "from torch_geometric.data import Data, Dataset\n",
    "import pandas as pd\n",
    "import numpy as np\n",
    "import seaborn as sns\n",
    "import pandas_profiling\n",
    "import joblib\n",
    "import matplotlib.pyplot as plt\n",
    "import xgboost as xgb\n",
    "import json\n",
    "import pickle\n",
    "import category_encoders as ce\n",
    "import openbabel.pybel as pybel\n",
    "from sklearn.metrics import mean_absolute_error\n",
    "from sklearn.model_selection import train_test_split\n",
    "from sklearn.preprocessing import StandardScaler\n",
    "from utils.utils import *\n",
    "from utils.surface_area import *\n",
    "%matplotlib inline"
   ]
  },
  {
   "cell_type": "code",
   "execution_count": 5,
   "id": "93c8d5e3-9663-47f3-a65a-60a94d36960a",
   "metadata": {},
   "outputs": [],
   "source": [
    "base_path = 'data/test/gridhist'\n",
    "filenames = os.listdir(base_path)"
   ]
  },
  {
   "cell_type": "code",
   "execution_count": 9,
   "id": "3cb8e5b8-8389-4cc6-8133-a48be3f50f80",
   "metadata": {},
   "outputs": [],
   "source": [
    "feat = []\n",
    "mof_names = []\n",
    "\n",
    "for idx, filename in enumerate(filenames):\n",
    "    mof_name = filename.split('.')[0]\n",
    "    mof_names.append(mof_name)\n",
    "    \n",
    "    with open(os.path.join(base_path, filename), \"r\") as f:\n",
    "        feat_list = list(map(float, f.read().split(',')))\n",
    "        feat.append(feat_list)"
   ]
  },
  {
   "cell_type": "code",
   "execution_count": 17,
   "id": "d0c793bf-fd0d-4030-9f71-e8ad9ecc9d82",
   "metadata": {},
   "outputs": [],
   "source": [
    "df_mofname = pd.DataFrame({'MOFname': mof_names})\n",
    "df_feat = pd.DataFrame(feat)\n",
    "df = pd.concat([df_mofname, df_feat],axis=1)"
   ]
  },
  {
   "cell_type": "code",
   "execution_count": 19,
   "id": "76606807-9d5d-42ca-a85c-d2f552810e4d",
   "metadata": {},
   "outputs": [],
   "source": [
    "df.to_csv('data/test/last_hope_test.csv', index=False)"
   ]
  },
  {
   "cell_type": "markdown",
   "id": "175314f8-cb36-40b5-903f-051d79a45fb8",
   "metadata": {},
   "source": [
    "# Generate Graph"
   ]
  },
  {
   "cell_type": "code",
   "execution_count": 26,
   "id": "c16b068f-ff05-483e-9685-b415c4ac3846",
   "metadata": {},
   "outputs": [],
   "source": [
    "class MOFData(Data):\n",
    "    def __init__(self, mof_node = None, mof_edge_index = None, mof_edge_attr = None,\n",
    "                        metal_node = None, metal_edge_index = None, metal_edge_attr = None,\n",
    "                        organ1_node = None, organ1_edge_index = None, organ1_edge_attr = None,\n",
    "                        organ2_node = None, organ2_edge_index = None, organ2_edge_attr = None,\n",
    "                        mofname = None, x_feat = None, y = None):\n",
    "        super().__init__()\n",
    "        self.mof_node = mof_node\n",
    "        self.mof_edge_index = mof_edge_index\n",
    "        self.mof_edge_attr = mof_edge_attr\n",
    "        \n",
    "        self.metal_node = metal_node\n",
    "        self.metal_edge_index = metal_edge_index\n",
    "        self.metal_edge_attr = metal_edge_attr\n",
    "        \n",
    "        self.organ1_node = organ1_node\n",
    "        self.organ1_edge_index = organ1_edge_index\n",
    "        self.organ1_edge_attr = organ1_edge_attr\n",
    "        \n",
    "        self.organ2_node = organ2_node\n",
    "        self.organ2_edge_index = organ2_edge_index\n",
    "        self.organ2_edge_attr = organ2_edge_attr\n",
    "        \n",
    "        self.mofname = mofname\n",
    "        self.x_feat = x_feat\n",
    "        self.y = y\n",
    "        \n",
    "    def __inc__(self, key, value, *args, **kwargs):\n",
    "        if key == 'mof_edge_index':\n",
    "            return self.mof_node.size(0)\n",
    "        if key == 'metal_edge_index':\n",
    "            return self.metal_node.size(0)\n",
    "        if key == 'organ1_edge_index':\n",
    "            return self.organ1_node.size(0)\n",
    "        if key == 'organ2_edge_index':\n",
    "            return self.organ2_node.size(0)\n",
    "        else:\n",
    "            return super().__inc__(key, value, *args, **kwargs)"
   ]
  },
  {
   "cell_type": "code",
   "execution_count": 27,
   "id": "d2fea56b-0bcc-4b1f-a3f1-a70f3a979289",
   "metadata": {},
   "outputs": [
    {
     "name": "stdout",
     "output_type": "stream",
     "text": [
      "MOFname                                          0\n",
      "topo_0                                           0\n",
      "topo_1                                           0\n",
      "topo_2                                           0\n",
      "topo_3                                           0\n",
      "topo_4                                           0\n",
      "topo_5                                           0\n",
      "topo_6                                           0\n",
      "topo_7                                           0\n",
      "topo_8                                           0\n",
      "topo_9                                           0\n",
      "volume [A^3]                                     0\n",
      "weight [u]                                       0\n",
      "density [g/cm^3]                                 0\n",
      "surface_area [m^2/g]                             0\n",
      "void_fraction                                    0\n",
      "void_volume [cm^3/g]                             0\n",
      "functional_groups                                0\n",
      "metal_linker                                     0\n",
      "organic_linker1                                  0\n",
      "organic_linker2                                  0\n",
      "catalog CO2/N2                                   0\n",
      "CO2/N2_selectivity                               0\n",
      "heat_adsorption_CO2_P0.15bar_T298K [kcal/mol]    0\n",
      "Smiles                                           0\n",
      "0                                                0\n",
      "1                                                0\n",
      "2                                                0\n",
      "3                                                0\n",
      "4                                                0\n",
      "5                                                0\n",
      "6                                                0\n",
      "7                                                0\n",
      "8                                                0\n",
      "9                                                0\n",
      "10                                               0\n",
      "11                                               0\n",
      "dtype: int64\n",
      "(17000, 37)\n"
     ]
    }
   ],
   "source": [
    "df = pd.read_csv('data/test/clean_test_linker.csv')\n",
    "gridhist = pd.read_csv('data/test/last_hope_test.csv')\n",
    "smiles = pd.read_csv('data/test/smiles_test.csv')\n",
    "data = df.join(smiles.set_index('MOFname'), on='MOFname')\n",
    "data = data.join(gridhist.set_index('MOFname'), on='MOFname')\n",
    "\n",
    "data = data.dropna(subset=['Smiles'])\n",
    "data = data.dropna(subset=['0'])\n",
    "data = data.reset_index(drop=True)\n",
    "# data = data.drop('Unnamed: 0', axis=1)\n",
    "print(data.isnull().sum())\n",
    "print(data.shape)"
   ]
  },
  {
   "cell_type": "code",
   "execution_count": 28,
   "id": "ab778e45-bb8a-43ca-908e-9a531b73e9cc",
   "metadata": {},
   "outputs": [
    {
     "name": "stdout",
     "output_type": "stream",
     "text": [
      "done: 10000\n"
     ]
    }
   ],
   "source": [
    "data_list = []\n",
    "data_dict = []\n",
    "drop_feat = ['MOFname', 'weight [u]', 'functional_groups', 'Smiles', 'metal_linker', 'organic_linker1', 'organic_linker2'] #, 'CO2_working_capacity [mL/g]'\n",
    "c = 1\n",
    "for _, line in data.iterrows():\n",
    "    mof = Chem.MolFromSmiles(line['Smiles'])\n",
    "    metal = Chem.MolFromSmiles(line['metal_linker'])\n",
    "    organ1 = Chem.MolFromSmiles(line['organic_linker1'])\n",
    "    organ2 = Chem.MolFromSmiles(line['organic_linker2'])\n",
    "    \n",
    "    if mof == None or metal == None or organ1 == None or organ2 == None:  #or metal == None or organ1 == None or organ2 == None\n",
    "        continue\n",
    "    \n",
    "    mof_node, mof_edge_index, mof_edge_attr = generate_graph(mof)\n",
    "    metal_node, metal_edge_index, metal_edge_attr = generate_graph(metal)\n",
    "    organ1_node, organ1_edge_index, organ1_edge_attr = generate_graph(organ1)\n",
    "    organ2_node, organ2_edge_index, organ2_edge_attr = generate_graph(organ2)\n",
    "\n",
    "\n",
    "    x_feat = line.drop(drop_feat).values.astype(float)\n",
    "    x_feat = np.expand_dims(x_feat, axis=0)\n",
    "    x_feat = torch.tensor(x_feat)\n",
    "    \n",
    "    data_d = MOFData(mof_node = mof_node, mof_edge_index = mof_edge_index, mof_edge_attr = mof_edge_attr,\n",
    "                  metal_node = metal_node, metal_edge_index = metal_edge_index, metal_edge_attr = metal_edge_attr,\n",
    "                  organ1_node = organ1_node, organ1_edge_index = organ1_edge_index, organ1_edge_attr = organ1_edge_attr,\n",
    "                  organ2_node = organ2_node, organ2_edge_index = organ2_edge_index, organ2_edge_attr = organ2_edge_attr,\n",
    "                  mofname=line['MOFname'], x_feat=x_feat) #, y=y\n",
    "#     data_d.mof_num_nodes = len(mof.GetAtoms())\n",
    "    data_list.append(data_d)\n",
    "    data_dict.append(line['MOFname'])\n",
    "    \n",
    "    if(c%10000==0):\n",
    "        print('done:',c)\n",
    "    c=c+1"
   ]
  },
  {
   "cell_type": "code",
   "execution_count": 29,
   "id": "05cec26e-c6f4-4c3b-9ecc-b00cf61d1191",
   "metadata": {},
   "outputs": [],
   "source": [
    "pickle.dump(data_list, open('data/test/graph_concat_linker_last_hope.pkl', 'wb'))"
   ]
  },
  {
   "cell_type": "code",
   "execution_count": null,
   "id": "6f44eee2-dbd6-4ddc-8d3f-2a90ad6eee50",
   "metadata": {},
   "outputs": [],
   "source": []
  }
 ],
 "metadata": {
  "kernelspec": {
   "display_name": "TMLCC_CUDA",
   "language": "python",
   "name": "tmlcc_cuda"
  },
  "language_info": {
   "codemirror_mode": {
    "name": "ipython",
    "version": 3
   },
   "file_extension": ".py",
   "mimetype": "text/x-python",
   "name": "python",
   "nbconvert_exporter": "python",
   "pygments_lexer": "ipython3",
   "version": "3.7.11"
  }
 },
 "nbformat": 4,
 "nbformat_minor": 5
}

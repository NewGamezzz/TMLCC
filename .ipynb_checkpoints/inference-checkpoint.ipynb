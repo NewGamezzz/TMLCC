{
 "cells": [
  {
   "cell_type": "markdown",
   "id": "0eaa4a4d-5bd6-4672-974f-04d9f9ed8cfc",
   "metadata": {},
   "source": [
    "# Import Library"
   ]
  },
  {
   "cell_type": "code",
   "execution_count": 1,
   "id": "57c7df4a-f5c9-4ea3-89d3-c78c57ecb218",
   "metadata": {},
   "outputs": [],
   "source": [
    "import numpy as np\n",
    "import pandas as pd\n",
    "import json\n",
    "from utils.utils import *\n",
    "\n",
    "import xgboost as xgb\n",
    "from sklearn.metrics import mean_absolute_error\n",
    "from sklearn.model_selection import train_test_split, GridSearchCV, KFold\n",
    "from sklearn.preprocessing import StandardScaler\n",
    "import pandas as pd\n",
    "import numpy as np\n",
    "import pickle\n",
    "import seaborn as sns"
   ]
  },
  {
   "cell_type": "markdown",
   "id": "90522daf-7746-4f93-9465-7badd7dfb7e3",
   "metadata": {},
   "source": [
    "# Load Data"
   ]
  },
  {
   "cell_type": "code",
   "execution_count": 2,
   "id": "f9d435ec-1fae-42c6-99a8-be5fc1e32b11",
   "metadata": {},
   "outputs": [
    {
     "name": "stdout",
     "output_type": "stream",
     "text": [
      "MOFname                                           object\n",
      "volume [A^3]                                     float64\n",
      "weight [u]                                       float64\n",
      "surface_area [m^2/g]                             float64\n",
      "void_fraction                                    float64\n",
      "void_volume [cm^3/g]                             float64\n",
      "functional_groups                                 object\n",
      "metal_linker                                       int64\n",
      "organic_linker1                                    int64\n",
      "organic_linker2                                    int64\n",
      "topology                                          object\n",
      "CO2/N2_selectivity                               float64\n",
      "heat_adsorption_CO2_P0.15bar_T298K [kcal/mol]    float64\n",
      "dtype: object\n"
     ]
    }
   ],
   "source": [
    "df_test = pd.read_csv('data/pretest/pretest.csv')\n",
    "print(df_test.dtypes)"
   ]
  },
  {
   "cell_type": "code",
   "execution_count": 3,
   "id": "2a884c38-9c92-4754-b1ab-5f953faf70d4",
   "metadata": {},
   "outputs": [
    {
     "data": {
      "text/plain": [
       "MOFname                                           0\n",
       "volume [A^3]                                      0\n",
       "weight [u]                                        0\n",
       "surface_area [m^2/g]                              0\n",
       "void_fraction                                     0\n",
       "void_volume [cm^3/g]                              0\n",
       "functional_groups                                21\n",
       "metal_linker                                      0\n",
       "organic_linker1                                   0\n",
       "organic_linker2                                   0\n",
       "topology                                          0\n",
       "CO2/N2_selectivity                                0\n",
       "heat_adsorption_CO2_P0.15bar_T298K [kcal/mol]     0\n",
       "dtype: int64"
      ]
     },
     "execution_count": 3,
     "metadata": {},
     "output_type": "execute_result"
    }
   ],
   "source": [
    "df_test.isna().sum()"
   ]
  },
  {
   "cell_type": "markdown",
   "id": "21a81435-4577-40b8-a060-8215261318d2",
   "metadata": {},
   "source": [
    "# Load dependent data"
   ]
  },
  {
   "cell_type": "code",
   "execution_count": 4,
   "id": "7e2aa3af-6886-4d4b-820b-6a196bae3b16",
   "metadata": {},
   "outputs": [],
   "source": [
    "features = json.load(open('data/general/features.json', 'r'))\n",
    "features_idx = json.load(open('data/general/features_idx.json', 'r'))\n",
    "\n",
    "topo_encoder = json.load(open('data/general/encoder/topology_encoder.json', 'r'))\n",
    "func_encoder = json.load(open('data/general/encoder/functional_groups_encoder.json', 'r'))"
   ]
  },
  {
   "cell_type": "markdown",
   "id": "a6872204-1bfe-4c58-8693-aa75dde71709",
   "metadata": {},
   "source": [
    "# Preprocessing Data"
   ]
  },
  {
   "cell_type": "markdown",
   "id": "da2328c6-f2b7-4f44-b1ba-09ff93b29662",
   "metadata": {},
   "source": [
    "## Encode Data"
   ]
  },
  {
   "cell_type": "code",
   "execution_count": 5,
   "id": "df166798-a5f6-4eeb-a42d-e929a8d126b4",
   "metadata": {},
   "outputs": [
    {
     "name": "stdout",
     "output_type": "stream",
     "text": [
      "MOFname                                           object\n",
      "volume [A^3]                                     float64\n",
      "weight [u]                                       float64\n",
      "surface_area [m^2/g]                             float64\n",
      "void_fraction                                    float64\n",
      "void_volume [cm^3/g]                             float64\n",
      "functional_groups                                float64\n",
      "metal_linker                                       int64\n",
      "organic_linker1                                    int64\n",
      "organic_linker2                                    int64\n",
      "topology                                           int64\n",
      "CO2/N2_selectivity                               float64\n",
      "heat_adsorption_CO2_P0.15bar_T298K [kcal/mol]    float64\n",
      "dtype: object\n"
     ]
    }
   ],
   "source": [
    "encoder = {'topology': topo_encoder, 'functional_groups': func_encoder}\n",
    "df_test = df_test.replace(encoder)\n",
    "print(df_test.dtypes)"
   ]
  },
  {
   "cell_type": "markdown",
   "id": "5e3af768-6c7d-4224-901e-5e212004d149",
   "metadata": {},
   "source": [
    "## Generate catalog"
   ]
  },
  {
   "cell_type": "code",
   "execution_count": 6,
   "id": "3a256e8c-fb1b-4477-9bd5-2b0b3cddb0a3",
   "metadata": {},
   "outputs": [
    {
     "data": {
      "text/html": [
       "<div>\n",
       "<style scoped>\n",
       "    .dataframe tbody tr th:only-of-type {\n",
       "        vertical-align: middle;\n",
       "    }\n",
       "\n",
       "    .dataframe tbody tr th {\n",
       "        vertical-align: top;\n",
       "    }\n",
       "\n",
       "    .dataframe thead th {\n",
       "        text-align: right;\n",
       "    }\n",
       "</style>\n",
       "<table border=\"1\" class=\"dataframe\">\n",
       "  <thead>\n",
       "    <tr style=\"text-align: right;\">\n",
       "      <th></th>\n",
       "      <th>MOFname</th>\n",
       "      <th>volume [A^3]</th>\n",
       "      <th>weight [u]</th>\n",
       "      <th>surface_area [m^2/g]</th>\n",
       "      <th>void_fraction</th>\n",
       "      <th>void_volume [cm^3/g]</th>\n",
       "      <th>functional_groups</th>\n",
       "      <th>metal_linker</th>\n",
       "      <th>organic_linker1</th>\n",
       "      <th>organic_linker2</th>\n",
       "      <th>topology</th>\n",
       "      <th>catalog CO2/N2</th>\n",
       "      <th>CO2/N2_selectivity</th>\n",
       "      <th>heat_adsorption_CO2_P0.15bar_T298K [kcal/mol]</th>\n",
       "    </tr>\n",
       "  </thead>\n",
       "  <tbody>\n",
       "    <tr>\n",
       "      <th>0</th>\n",
       "      <td>mof_unit_pretest_1</td>\n",
       "      <td>6288.293858</td>\n",
       "      <td>2271.687140</td>\n",
       "      <td>4148.48</td>\n",
       "      <td>0.41225</td>\n",
       "      <td>0.6872</td>\n",
       "      <td>41.0</td>\n",
       "      <td>4</td>\n",
       "      <td>7</td>\n",
       "      <td>27</td>\n",
       "      <td>3</td>\n",
       "      <td>1.0</td>\n",
       "      <td>14.048791</td>\n",
       "      <td>5.604779</td>\n",
       "    </tr>\n",
       "    <tr>\n",
       "      <th>1</th>\n",
       "      <td>mof_unit_pretest_2</td>\n",
       "      <td>1790.506437</td>\n",
       "      <td>887.747320</td>\n",
       "      <td>2191.34</td>\n",
       "      <td>0.30231</td>\n",
       "      <td>0.3672</td>\n",
       "      <td>230.0</td>\n",
       "      <td>2</td>\n",
       "      <td>4</td>\n",
       "      <td>26</td>\n",
       "      <td>0</td>\n",
       "      <td>1.0</td>\n",
       "      <td>20.217222</td>\n",
       "      <td>6.148776</td>\n",
       "    </tr>\n",
       "    <tr>\n",
       "      <th>2</th>\n",
       "      <td>mof_unit_pretest_3</td>\n",
       "      <td>2348.969203</td>\n",
       "      <td>1239.765880</td>\n",
       "      <td>2030.88</td>\n",
       "      <td>0.28533</td>\n",
       "      <td>0.3256</td>\n",
       "      <td>228.0</td>\n",
       "      <td>3</td>\n",
       "      <td>18</td>\n",
       "      <td>22</td>\n",
       "      <td>0</td>\n",
       "      <td>1.0</td>\n",
       "      <td>33.108662</td>\n",
       "      <td>6.164397</td>\n",
       "    </tr>\n",
       "    <tr>\n",
       "      <th>3</th>\n",
       "      <td>mof_unit_pretest_4</td>\n",
       "      <td>2941.571525</td>\n",
       "      <td>1147.951400</td>\n",
       "      <td>3587.13</td>\n",
       "      <td>0.41963</td>\n",
       "      <td>0.6475</td>\n",
       "      <td>20.0</td>\n",
       "      <td>2</td>\n",
       "      <td>8</td>\n",
       "      <td>15</td>\n",
       "      <td>0</td>\n",
       "      <td>1.0</td>\n",
       "      <td>12.800562</td>\n",
       "      <td>5.164957</td>\n",
       "    </tr>\n",
       "    <tr>\n",
       "      <th>4</th>\n",
       "      <td>mof_unit_pretest_5</td>\n",
       "      <td>705.397601</td>\n",
       "      <td>643.270740</td>\n",
       "      <td>0.00</td>\n",
       "      <td>0.07060</td>\n",
       "      <td>0.0466</td>\n",
       "      <td>193.0</td>\n",
       "      <td>3</td>\n",
       "      <td>10</td>\n",
       "      <td>22</td>\n",
       "      <td>0</td>\n",
       "      <td>1.0</td>\n",
       "      <td>23.395617</td>\n",
       "      <td>7.090687</td>\n",
       "    </tr>\n",
       "    <tr>\n",
       "      <th>...</th>\n",
       "      <td>...</td>\n",
       "      <td>...</td>\n",
       "      <td>...</td>\n",
       "      <td>...</td>\n",
       "      <td>...</td>\n",
       "      <td>...</td>\n",
       "      <td>...</td>\n",
       "      <td>...</td>\n",
       "      <td>...</td>\n",
       "      <td>...</td>\n",
       "      <td>...</td>\n",
       "      <td>...</td>\n",
       "      <td>...</td>\n",
       "      <td>...</td>\n",
       "    </tr>\n",
       "    <tr>\n",
       "      <th>1995</th>\n",
       "      <td>mof_unit_pretest_1996</td>\n",
       "      <td>5111.109714</td>\n",
       "      <td>1578.082220</td>\n",
       "      <td>3630.31</td>\n",
       "      <td>0.58981</td>\n",
       "      <td>1.1504</td>\n",
       "      <td>161.0</td>\n",
       "      <td>2</td>\n",
       "      <td>1</td>\n",
       "      <td>14</td>\n",
       "      <td>6</td>\n",
       "      <td>0.0</td>\n",
       "      <td>4.778698</td>\n",
       "      <td>3.675003</td>\n",
       "    </tr>\n",
       "    <tr>\n",
       "      <th>1996</th>\n",
       "      <td>mof_unit_pretest_1997</td>\n",
       "      <td>911.269336</td>\n",
       "      <td>481.279680</td>\n",
       "      <td>2546.02</td>\n",
       "      <td>0.36132</td>\n",
       "      <td>0.4120</td>\n",
       "      <td>208.0</td>\n",
       "      <td>2</td>\n",
       "      <td>10</td>\n",
       "      <td>20</td>\n",
       "      <td>0</td>\n",
       "      <td>0.0</td>\n",
       "      <td>6.883387</td>\n",
       "      <td>3.732121</td>\n",
       "    </tr>\n",
       "    <tr>\n",
       "      <th>1997</th>\n",
       "      <td>mof_unit_pretest_1998</td>\n",
       "      <td>4236.596494</td>\n",
       "      <td>1127.792600</td>\n",
       "      <td>4296.42</td>\n",
       "      <td>0.60298</td>\n",
       "      <td>1.3641</td>\n",
       "      <td>143.0</td>\n",
       "      <td>2</td>\n",
       "      <td>7</td>\n",
       "      <td>20</td>\n",
       "      <td>0</td>\n",
       "      <td>0.0</td>\n",
       "      <td>5.270734</td>\n",
       "      <td>3.354425</td>\n",
       "    </tr>\n",
       "    <tr>\n",
       "      <th>1998</th>\n",
       "      <td>mof_unit_pretest_1999</td>\n",
       "      <td>22861.645381</td>\n",
       "      <td>3492.712720</td>\n",
       "      <td>6252.01</td>\n",
       "      <td>0.75732</td>\n",
       "      <td>2.9852</td>\n",
       "      <td>94.0</td>\n",
       "      <td>2</td>\n",
       "      <td>6</td>\n",
       "      <td>11</td>\n",
       "      <td>6</td>\n",
       "      <td>0.0</td>\n",
       "      <td>3.172914</td>\n",
       "      <td>2.643592</td>\n",
       "    </tr>\n",
       "    <tr>\n",
       "      <th>1999</th>\n",
       "      <td>mof_unit_pretest_2000</td>\n",
       "      <td>1959.675947</td>\n",
       "      <td>1725.765236</td>\n",
       "      <td>0.00</td>\n",
       "      <td>0.02102</td>\n",
       "      <td>0.0144</td>\n",
       "      <td>361.0</td>\n",
       "      <td>10</td>\n",
       "      <td>47</td>\n",
       "      <td>50</td>\n",
       "      <td>1</td>\n",
       "      <td>1.0</td>\n",
       "      <td>9.704604</td>\n",
       "      <td>7.289342</td>\n",
       "    </tr>\n",
       "  </tbody>\n",
       "</table>\n",
       "<p>2000 rows × 14 columns</p>\n",
       "</div>"
      ],
      "text/plain": [
       "                    MOFname  volume [A^3]   weight [u]  surface_area [m^2/g]  \\\n",
       "0        mof_unit_pretest_1   6288.293858  2271.687140               4148.48   \n",
       "1        mof_unit_pretest_2   1790.506437   887.747320               2191.34   \n",
       "2        mof_unit_pretest_3   2348.969203  1239.765880               2030.88   \n",
       "3        mof_unit_pretest_4   2941.571525  1147.951400               3587.13   \n",
       "4        mof_unit_pretest_5    705.397601   643.270740                  0.00   \n",
       "...                     ...           ...          ...                   ...   \n",
       "1995  mof_unit_pretest_1996   5111.109714  1578.082220               3630.31   \n",
       "1996  mof_unit_pretest_1997    911.269336   481.279680               2546.02   \n",
       "1997  mof_unit_pretest_1998   4236.596494  1127.792600               4296.42   \n",
       "1998  mof_unit_pretest_1999  22861.645381  3492.712720               6252.01   \n",
       "1999  mof_unit_pretest_2000   1959.675947  1725.765236                  0.00   \n",
       "\n",
       "      void_fraction  void_volume [cm^3/g]  functional_groups  metal_linker  \\\n",
       "0           0.41225                0.6872               41.0             4   \n",
       "1           0.30231                0.3672              230.0             2   \n",
       "2           0.28533                0.3256              228.0             3   \n",
       "3           0.41963                0.6475               20.0             2   \n",
       "4           0.07060                0.0466              193.0             3   \n",
       "...             ...                   ...                ...           ...   \n",
       "1995        0.58981                1.1504              161.0             2   \n",
       "1996        0.36132                0.4120              208.0             2   \n",
       "1997        0.60298                1.3641              143.0             2   \n",
       "1998        0.75732                2.9852               94.0             2   \n",
       "1999        0.02102                0.0144              361.0            10   \n",
       "\n",
       "      organic_linker1  organic_linker2  topology  catalog CO2/N2  \\\n",
       "0                   7               27         3             1.0   \n",
       "1                   4               26         0             1.0   \n",
       "2                  18               22         0             1.0   \n",
       "3                   8               15         0             1.0   \n",
       "4                  10               22         0             1.0   \n",
       "...               ...              ...       ...             ...   \n",
       "1995                1               14         6             0.0   \n",
       "1996               10               20         0             0.0   \n",
       "1997                7               20         0             0.0   \n",
       "1998                6               11         6             0.0   \n",
       "1999               47               50         1             1.0   \n",
       "\n",
       "      CO2/N2_selectivity  heat_adsorption_CO2_P0.15bar_T298K [kcal/mol]  \n",
       "0              14.048791                                       5.604779  \n",
       "1              20.217222                                       6.148776  \n",
       "2              33.108662                                       6.164397  \n",
       "3              12.800562                                       5.164957  \n",
       "4              23.395617                                       7.090687  \n",
       "...                  ...                                            ...  \n",
       "1995            4.778698                                       3.675003  \n",
       "1996            6.883387                                       3.732121  \n",
       "1997            5.270734                                       3.354425  \n",
       "1998            3.172914                                       2.643592  \n",
       "1999            9.704604                                       7.289342  \n",
       "\n",
       "[2000 rows x 14 columns]"
      ]
     },
     "execution_count": 6,
     "metadata": {},
     "output_type": "execute_result"
    }
   ],
   "source": [
    "generate_selectivity_catalog(df_test)"
   ]
  },
  {
   "cell_type": "markdown",
   "id": "2e295e8a-6cb2-41a3-9e09-ad775e989715",
   "metadata": {},
   "source": [
    "## Select features"
   ]
  },
  {
   "cell_type": "code",
   "execution_count": 7,
   "id": "855623c8-612b-4944-b74c-0dbd8f240fb8",
   "metadata": {},
   "outputs": [
    {
     "name": "stdout",
     "output_type": "stream",
     "text": [
      "(2000, 12)\n"
     ]
    }
   ],
   "source": [
    "X = df_test[features].values\n",
    "print(X.shape)"
   ]
  },
  {
   "cell_type": "markdown",
   "id": "912cbf38-ce48-4af7-a562-d47b3ffd941a",
   "metadata": {},
   "source": [
    "## Convert CO2/N2 selectivity by square root selectivity and multiply by heat adsorption"
   ]
  },
  {
   "cell_type": "code",
   "execution_count": 8,
   "id": "6f785f1b-6480-41b1-b612-04066c08c0a8",
   "metadata": {},
   "outputs": [],
   "source": [
    "X[:, features_idx['CO2/N2_selectivity']] = np.sqrt(X[:, features_idx['CO2/N2_selectivity']]) * X[:, features_idx['heat_adsorption_CO2_P0.15bar_T298K [kcal/mol]']]"
   ]
  },
  {
   "cell_type": "markdown",
   "id": "94da01d0-327d-40c0-a9f2-b48340976558",
   "metadata": {},
   "source": [
    "## Scale Data"
   ]
  },
  {
   "cell_type": "code",
   "execution_count": 8,
   "id": "e0cabc86-a5d5-46e4-ac37-910f62ff8170",
   "metadata": {},
   "outputs": [],
   "source": [
    "sc = pickle.load(open('data/general/standardscaler.pkl', 'rb'))\n",
    "X = sc.transform(X)"
   ]
  },
  {
   "cell_type": "markdown",
   "id": "73961045-889b-48b0-a798-b9d9bb3c1d60",
   "metadata": {},
   "source": [
    "# Model"
   ]
  },
  {
   "cell_type": "code",
   "execution_count": 9,
   "id": "ba9c99db-cf44-4604-8969-568584665d3d",
   "metadata": {},
   "outputs": [],
   "source": [
    "model = xgb.XGBRegressor()\n",
    "model.load_model('model/model.json')\n",
    "\n",
    "y = model.predict(X)"
   ]
  },
  {
   "cell_type": "code",
   "execution_count": 10,
   "id": "4333d2cf-6395-46fa-96b0-42f82a6021f0",
   "metadata": {},
   "outputs": [
    {
     "name": "stdout",
     "output_type": "stream",
     "text": [
      "(2000,)\n"
     ]
    }
   ],
   "source": [
    "print(y.shape)"
   ]
  },
  {
   "cell_type": "code",
   "execution_count": 11,
   "id": "5b831625-6db4-4c3c-8212-b13412ff43c1",
   "metadata": {},
   "outputs": [
    {
     "data": {
      "image/png": "[encoded data removed]",
      "text/plain": [
       "<Figure size 2160x720 with 1 Axes>"
      ]
     },
     "metadata": {
      "needs_background": "light"
     },
     "output_type": "display_data"
    }
   ],
   "source": [
    "plt.figure(figsize=(30, 10))\n",
    "sns.barplot(x=features, y=model.feature_importances_)\n",
    "plt.show()"
   ]
  },
  {
   "cell_type": "code",
   "execution_count": 12,
   "id": "b492640e-91e3-434b-8085-7a85749fa59b",
   "metadata": {},
   "outputs": [],
   "source": [
    "id_ = np.array(df_test['MOFname'])\n",
    "\n",
    "cut_mof_unit = lambda x: x[9:]\n",
    "id_ = np.array(list(map(cut_mof_unit, id_)))\n",
    "d = {'id': id_, 'CO2_working_capacity [mL/g]': y}\n",
    "\n",
    "df_inference = pd.DataFrame(d)"
   ]
  },
  {
   "cell_type": "code",
   "execution_count": 13,
   "id": "4706a920-a1d3-446d-92ea-03121d1e699e",
   "metadata": {},
   "outputs": [],
   "source": [
    "df_inference.to_csv('submission.csv', index=False)"
   ]
  },
  {
   "cell_type": "code",
   "execution_count": null,
   "id": "f3e64df9-0871-4539-918a-2a1e41c987c2",
   "metadata": {},
   "outputs": [],
   "source": []
  },
  {
   "cell_type": "code",
   "execution_count": null,
   "id": "ad74cd37-a067-4c43-9fe0-05db47bba15a",
   "metadata": {},
   "outputs": [],
   "source": []
  }
 ],
 "metadata": {
  "kernelspec": {
   "display_name": "TMLCC",
   "language": "python",
   "name": "tmlcc"
  },
  "language_info": {
   "codemirror_mode": {
    "name": "ipython",
    "version": 3
   },
   "file_extension": ".py",
   "mimetype": "text/x-python",
   "name": "python",
   "nbconvert_exporter": "python",
   "pygments_lexer": "ipython3",
   "version": "3.7.9"
  }
 },
 "nbformat": 4,
 "nbformat_minor": 5
}

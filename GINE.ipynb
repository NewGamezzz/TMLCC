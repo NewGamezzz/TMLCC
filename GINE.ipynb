{
 "cells": [
  {
   "cell_type": "code",
   "execution_count": 1,
   "id": "a450026a-e193-427c-93f2-bc08eff7e133",
   "metadata": {
    "id": "a450026a-e193-427c-93f2-bc08eff7e133"
   },
   "outputs": [],
   "source": [
    "from rdkit import Chem\n",
    "import pandas as pd\n",
    "import torch\n",
    "from sklearn.model_selection import train_test_split\n",
    "from torch_geometric.data import Data"
   ]
  },
  {
   "cell_type": "markdown",
   "id": "bae04383-8d79-4413-a02d-9abb8253f376",
   "metadata": {},
   "source": [
    "# Run on CUDA"
   ]
  },
  {
   "cell_type": "code",
   "execution_count": 2,
   "id": "48ad607d-16fb-4037-ab2f-afb220f9c51a",
   "metadata": {},
   "outputs": [
    {
     "data": {
      "text/plain": [
       "device(type='cuda')"
      ]
     },
     "execution_count": 2,
     "metadata": {},
     "output_type": "execute_result"
    }
   ],
   "source": [
    "def format_pytorch_version(version):\n",
    "    return version.split('+')[0]\n",
    "\n",
    "TORCH_version = torch.__version__\n",
    "TORCH = format_pytorch_version(TORCH_version)\n",
    "\n",
    "def format_cuda_version(version):\n",
    "    return 'cu' + version.replace('.', '')\n",
    "\n",
    "CUDA_version = torch.version.cuda\n",
    "CUDA = format_cuda_version(CUDA_version)\n",
    "\n",
    "device = torch.device('cuda' if torch.cuda.is_available() else 'cpu')\n",
    "device"
   ]
  },
  {
   "cell_type": "markdown",
   "id": "abeff4fd-6b02-4ea6-8865-1b4f54c99761",
   "metadata": {},
   "source": [
    "# Load Data"
   ]
  },
  {
   "cell_type": "code",
   "execution_count": 3,
   "id": "eba9b374-fdd8-44d3-ac51-13f36215ac5d",
   "metadata": {
    "id": "eba9b374-fdd8-44d3-ac51-13f36215ac5d"
   },
   "outputs": [
    {
     "name": "stdout",
     "output_type": "stream",
     "text": [
      "MOFname                                             0\n",
      "volume [A^3]                                        0\n",
      "weight [u]                                          0\n",
      "surface_area [m^2/g]                                0\n",
      "void_fraction                                       0\n",
      "void_volume [cm^3/g]                                0\n",
      "functional_groups                                 323\n",
      "metal_linker                                        0\n",
      "organic_linker1                                     0\n",
      "organic_linker2                                     0\n",
      "topology                                            0\n",
      "CO2/N2_selectivity                                  0\n",
      "heat_adsorption_CO2_P0.15bar_T298K [kcal/mol]    2087\n",
      "CO2_working_capacity [mL/g]                         0\n",
      "Smiles                                              0\n",
      "dtype: int64\n",
      "(68611, 15)\n"
     ]
    }
   ],
   "source": [
    "df = pd.read_csv('data/train/train.csv')\n",
    "smiles = pd.read_csv('data/train/smiles_train.csv')\n",
    "data = df.join(smiles.set_index('MOFname'), on='MOFname')\n",
    "\n",
    "data = data.dropna(subset=['Smiles'])\n",
    "data = data.reset_index(drop=True)\n",
    "print(data.isnull().sum())\n",
    "print(data.shape)"
   ]
  },
  {
   "cell_type": "code",
   "execution_count": 4,
   "id": "3b426ccc-42e3-4d43-a268-3772bbe2f93c",
   "metadata": {
    "id": "3b426ccc-42e3-4d43-a268-3772bbe2f93c"
   },
   "outputs": [],
   "source": [
    "x_map = {\n",
    "    'atomic_num':\n",
    "    list(range(0, 119)),\n",
    "    'chirality': [\n",
    "        'CHI_UNSPECIFIED',\n",
    "        'CHI_TETRAHEDRAL_CW',\n",
    "        'CHI_TETRAHEDRAL_CCW',\n",
    "        'CHI_OTHER',\n",
    "    ],\n",
    "    'degree':\n",
    "    list(range(0, 11)),\n",
    "    'formal_charge':\n",
    "    list(range(-5, 7)),\n",
    "    'num_hs':\n",
    "    list(range(0, 9)),\n",
    "    'num_radical_electrons':\n",
    "    list(range(0, 5)),\n",
    "    'hybridization': [\n",
    "        'UNSPECIFIED',\n",
    "        'S',\n",
    "        'SP',\n",
    "        'SP2',\n",
    "        'SP3',\n",
    "        'SP3D',\n",
    "        'SP3D2',\n",
    "        'OTHER',\n",
    "    ],\n",
    "    'is_aromatic': [False, True],\n",
    "    'is_in_ring': [False, True],\n",
    "}\n",
    "\n",
    "e_map = {\n",
    "    'bond_type': [\n",
    "        'misc',\n",
    "        'SINGLE',\n",
    "        'DOUBLE',\n",
    "        'TRIPLE',\n",
    "        'AROMATIC',\n",
    "    ],\n",
    "    'stereo': [\n",
    "        'STEREONONE',\n",
    "        'STEREOZ',\n",
    "        'STEREOE',\n",
    "        'STEREOCIS',\n",
    "        'STEREOTRANS',\n",
    "        'STEREOANY',\n",
    "    ],\n",
    "    'is_conjugated': [False, True],\n",
    "}"
   ]
  },
  {
   "cell_type": "code",
   "execution_count": null,
   "id": "f67c2d2a-e57a-40c5-933a-ae2f925ce2f1",
   "metadata": {
    "id": "f67c2d2a-e57a-40c5-933a-ae2f925ce2f1",
    "outputId": "4dbf6c82-8af0-4ea0-9a2e-48054794ca79"
   },
   "outputs": [],
   "source": [
    "data_list = []\n",
    "data_dict = []\n",
    "c = 1\n",
    "for _, line in data.iterrows():\n",
    "    mol = Chem.MolFromSmiles(line['Smiles'])\n",
    "    \n",
    "    if mol == None:\n",
    "        continue\n",
    "    \n",
    "    # Create Node Features\n",
    "    xs = []\n",
    "    for atom in mol.GetAtoms():\n",
    "        x = []\n",
    "        x.append(x_map['atomic_num'].index(atom.GetAtomicNum()))\n",
    "        x.append(x_map['chirality'].index(str(atom.GetChiralTag())))\n",
    "        x.append(x_map['degree'].index(atom.GetTotalDegree()))\n",
    "        x.append(x_map['formal_charge'].index(atom.GetFormalCharge()))\n",
    "        x.append(x_map['num_hs'].index(atom.GetTotalNumHs()))\n",
    "        x.append(x_map['num_radical_electrons'].index(atom.GetNumRadicalElectrons()))\n",
    "        x.append(x_map['hybridization'].index(str(atom.GetHybridization())))\n",
    "        x.append(x_map['is_aromatic'].index(atom.GetIsAromatic()))\n",
    "        x.append(x_map['is_in_ring'].index(atom.IsInRing()))\n",
    "        xs.append(x)\n",
    "    x = torch.tensor(xs, dtype=torch.float).view(-1, 9)\n",
    "    \n",
    "    # Create Edge Features\n",
    "    edge_indices, edge_attrs = [], []\n",
    "    for bond in mol.GetBonds():\n",
    "        i = bond.GetBeginAtomIdx()\n",
    "        j = bond.GetEndAtomIdx()\n",
    "\n",
    "        e = []\n",
    "        e.append(e_map['bond_type'].index(str(bond.GetBondType())))\n",
    "        e.append(e_map['stereo'].index(str(bond.GetStereo())))\n",
    "        e.append(e_map['is_conjugated'].index(bond.GetIsConjugated()))\n",
    "\n",
    "        edge_indices += [[i, j], [j, i]]\n",
    "        edge_attrs += [e, e]\n",
    "\n",
    "    edge_index = torch.tensor(edge_indices)\n",
    "    edge_index = edge_index.t().to(torch.long).view(2, -1)\n",
    "    edge_attr = torch.tensor(edge_attrs, dtype=torch.long).view(-1, 3)\n",
    "\n",
    "    # Sort indices.\n",
    "    if edge_index.numel() > 0:\n",
    "        perm = (edge_index[0] * x.size(0) + edge_index[1]).argsort()\n",
    "        edge_index, edge_attr = edge_index[:, perm], edge_attr[perm]\n",
    "\n",
    "    y=torch.tensor([line['CO2/N2_selectivity'], line['CO2_working_capacity [mL/g]']], dtype=torch.float).view(1, -1)\n",
    "    data_d = Data(x=x, edge_index=edge_index, edge_attr=edge_attr, y=y,smiles=line['Smiles'])\n",
    "    data_d.num_nodes = len(mol.GetAtoms())\n",
    "    data_list.append(data_d)\n",
    "    data_dict.append(line['MOFname'])\n",
    "    \n",
    "    if(c%10000==0):\n",
    "        print('done:',c)\n",
    "    c=c+1"
   ]
  },
  {
   "cell_type": "code",
   "execution_count": null,
   "id": "4ca19d13-84be-483c-a4b0-e3eb9c137e45",
   "metadata": {},
   "outputs": [],
   "source": [
    "save_data_list = False\n",
    "if save_data_list:\n",
    "    pickle.dump(data_list, open('', 'wb'))"
   ]
  },
  {
   "cell_type": "code",
   "execution_count": 18,
   "id": "d01a7909-60cf-407b-b4a2-f56621d7546d",
   "metadata": {},
   "outputs": [],
   "source": [
    "import pickle\n",
    "\n",
    "data_list = pickle.load(open('data/train/graph_concat.pkl', 'rb'))"
   ]
  },
  {
   "cell_type": "markdown",
   "id": "c027cea3-997b-46ad-90b6-902947cdbb29",
   "metadata": {},
   "source": [
    "# Train Test Split"
   ]
  },
  {
   "cell_type": "code",
   "execution_count": 19,
   "id": "395a99a3-4e96-437c-a113-ac27e1835a97",
   "metadata": {
    "id": "395a99a3-4e96-437c-a113-ac27e1835a97",
    "outputId": "94a9a6af-e87c-4b4f-de14-d25c5a1aa44a"
   },
   "outputs": [
    {
     "name": "stdout",
     "output_type": "stream",
     "text": [
      "Number of training graphs: 49218\n",
      "Number of test graphs: 16407\n"
     ]
    }
   ],
   "source": [
    "#torch.manual_seed(12345)\n",
    "#dataset = dataset.shuffle()\n",
    "\n",
    "#num_train=int(0.8*len(data_list))\n",
    "#num_test=len(data_list)-num_train\n",
    "import random\n",
    "random.seed(10)\n",
    "\n",
    "datasets = data_list\n",
    "\n",
    "train_dataset, test_dataset = train_test_split(datasets, test_size=0.25, random_state = 1, shuffle=True)\n",
    "\n",
    "print(f'Number of training graphs: {len(train_dataset)}')\n",
    "print(f'Number of test graphs: {len(test_dataset)}')"
   ]
  },
  {
   "cell_type": "code",
   "execution_count": 20,
   "id": "1d94a9d4-c4eb-4f54-b262-a742197c39d2",
   "metadata": {
    "id": "1d94a9d4-c4eb-4f54-b262-a742197c39d2"
   },
   "outputs": [],
   "source": [
    "from torch_geometric.loader import DataLoader\n",
    "import numpy as np\n",
    "\n",
    "train_loader = DataLoader(train_dataset, batch_size=128, shuffle=True)\n",
    "test_loader = DataLoader(test_dataset, batch_size=128, shuffle=False)\n",
    "data_loader = DataLoader(datasets, batch_size=128, shuffle=True)"
   ]
  },
  {
   "cell_type": "markdown",
   "id": "374c43d9-a425-4aa6-a027-5c64f6765cf9",
   "metadata": {},
   "source": [
    "# GIN Model"
   ]
  },
  {
   "cell_type": "code",
   "execution_count": 21,
   "id": "ed74dc3b-82f5-4888-8fb8-9a289e574589",
   "metadata": {
    "id": "ed74dc3b-82f5-4888-8fb8-9a289e574589"
   },
   "outputs": [],
   "source": [
    "from torch_geometric.nn import GINConv, GINEConv, global_add_pool\n",
    "from torch.nn import Sequential, Linear, BatchNorm1d, ReLU"
   ]
  },
  {
   "cell_type": "code",
   "execution_count": 60,
   "id": "3e741ed0-26ab-4581-8c9b-304227070f56",
   "metadata": {
    "id": "3e741ed0-26ab-4581-8c9b-304227070f56"
   },
   "outputs": [],
   "source": [
    "class Net(torch.nn.Module):\n",
    "    def __init__(self, in_channels, in_attr, dim, out_channels):\n",
    "        super(Net, self).__init__()\n",
    "\n",
    "        self.attr1 = Sequential(Linear(in_attr, in_channels), BatchNorm1d(in_channels), ReLU())\n",
    "        self.conv1 = GINEConv(\n",
    "            Sequential(Linear(in_channels, dim), BatchNorm1d(dim), ReLU(),\n",
    "                       Linear(dim, dim), ReLU()))\n",
    "\n",
    "        self.attr2 = Sequential(Linear(in_channels, dim), BatchNorm1d(dim), ReLU())\n",
    "        self.conv2 = GINEConv(\n",
    "            Sequential(Linear(dim, dim), BatchNorm1d(dim), ReLU(),\n",
    "                       Linear(dim, dim), ReLU()))\n",
    "\n",
    "        self.attr3 = Sequential(Linear(dim, dim), BatchNorm1d(dim), ReLU())\n",
    "        self.conv3 = GINEConv(\n",
    "            Sequential(Linear(dim, dim), BatchNorm1d(dim), ReLU(),\n",
    "                       Linear(dim, dim), ReLU()))\n",
    "\n",
    "        self.attr4 = Sequential(Linear(dim, dim), BatchNorm1d(dim), ReLU())\n",
    "        self.conv4 = GINEConv(\n",
    "            Sequential(Linear(dim, dim), BatchNorm1d(dim), ReLU(),\n",
    "                       Linear(dim, dim), ReLU()))\n",
    "\n",
    "        self.attr5 = Sequential(Linear(dim, dim), BatchNorm1d(dim), ReLU())\n",
    "        self.conv5 = GINEConv(\n",
    "            Sequential(Linear(dim, dim), BatchNorm1d(dim), ReLU(),\n",
    "                       Linear(dim, dim), ReLU()))\n",
    "\n",
    "        self.lin1 = Linear(dim, dim)\n",
    "        self.lin2 = Linear(dim, out_channels)\n",
    "\n",
    "    def forward(self, x, edge_index, edge_attr, batch):\n",
    "        edge_attr = self.attr1(edge_attr)\n",
    "        x = self.conv1(x, edge_index, edge_attr)\n",
    "        \n",
    "        edge_attr = self.attr2(edge_attr)\n",
    "        x = self.conv2(x, edge_index, edge_attr)\n",
    "        \n",
    "        edge_attr = self.attr3(edge_attr)\n",
    "        x = self.conv3(x, edge_index, edge_attr)\n",
    "        \n",
    "        edge_attr = self.attr4(edge_attr)\n",
    "        x = self.conv4(x, edge_index, edge_attr)\n",
    "        \n",
    "        edge_attr = self.attr5(edge_attr)\n",
    "        x = self.conv5(x, edge_index, edge_attr)\n",
    "        \n",
    "        x = global_add_pool(x, batch)\n",
    "        x = self.lin1(x).relu()\n",
    "        x = F.dropout(x, p=0.5, training=self.training)\n",
    "        x = self.lin2(x)\n",
    "        return x\n",
    "    \n",
    "    def latent_space(self, x, edge_index, edge_attr, batch):\n",
    "        edge_attr = self.attr1(edge_attr)\n",
    "        x = self.conv1(x, edge_index, edge_attr)\n",
    "        edge_attr = self.attr2(edge_attr)\n",
    "        x = self.conv2(x, edge_index, edge_attr)\n",
    "        edge_attr = self.attr3(edge_attr)\n",
    "        x = self.conv3(x, edge_index, edge_attr)\n",
    "        edge_attr = self.attr4(edge_attr)\n",
    "        x = self.conv4(x, edge_index, edge_attr)\n",
    "        edge_attr = self.attr5(edge_attr)\n",
    "        x = self.conv5(x, edge_index, edge_attr)\n",
    "        x = global_add_pool(x, batch)\n",
    "        x = self.lin1(x).relu()\n",
    "        return x"
   ]
  },
  {
   "cell_type": "code",
   "execution_count": 61,
   "id": "f093a444-645c-49eb-9fce-1e659c768b87",
   "metadata": {
    "id": "f093a444-645c-49eb-9fce-1e659c768b87",
    "outputId": "d02d0ba3-f45b-4675-b4af-e850c122e164"
   },
   "outputs": [
    {
     "name": "stdout",
     "output_type": "stream",
     "text": [
      "Net(\n",
      "  (attr1): Sequential(\n",
      "    (0): Linear(in_features=3, out_features=9, bias=True)\n",
      "    (1): BatchNorm1d(9, eps=1e-05, momentum=0.1, affine=True, track_running_stats=True)\n",
      "    (2): ReLU()\n",
      "  )\n",
      "  (conv1): GINEConv(nn=Sequential(\n",
      "    (0): Linear(in_features=9, out_features=256, bias=True)\n",
      "    (1): BatchNorm1d(256, eps=1e-05, momentum=0.1, affine=True, track_running_stats=True)\n",
      "    (2): ReLU()\n",
      "    (3): Linear(in_features=256, out_features=256, bias=True)\n",
      "    (4): ReLU()\n",
      "  ))\n",
      "  (attr2): Sequential(\n",
      "    (0): Linear(in_features=9, out_features=256, bias=True)\n",
      "    (1): BatchNorm1d(256, eps=1e-05, momentum=0.1, affine=True, track_running_stats=True)\n",
      "    (2): ReLU()\n",
      "  )\n",
      "  (conv2): GINEConv(nn=Sequential(\n",
      "    (0): Linear(in_features=256, out_features=256, bias=True)\n",
      "    (1): BatchNorm1d(256, eps=1e-05, momentum=0.1, affine=True, track_running_stats=True)\n",
      "    (2): ReLU()\n",
      "    (3): Linear(in_features=256, out_features=256, bias=True)\n",
      "    (4): ReLU()\n",
      "  ))\n",
      "  (attr3): Sequential(\n",
      "    (0): Linear(in_features=256, out_features=256, bias=True)\n",
      "    (1): BatchNorm1d(256, eps=1e-05, momentum=0.1, affine=True, track_running_stats=True)\n",
      "    (2): ReLU()\n",
      "  )\n",
      "  (conv3): GINEConv(nn=Sequential(\n",
      "    (0): Linear(in_features=256, out_features=256, bias=True)\n",
      "    (1): BatchNorm1d(256, eps=1e-05, momentum=0.1, affine=True, track_running_stats=True)\n",
      "    (2): ReLU()\n",
      "    (3): Linear(in_features=256, out_features=256, bias=True)\n",
      "    (4): ReLU()\n",
      "  ))\n",
      "  (attr4): Sequential(\n",
      "    (0): Linear(in_features=256, out_features=256, bias=True)\n",
      "    (1): BatchNorm1d(256, eps=1e-05, momentum=0.1, affine=True, track_running_stats=True)\n",
      "    (2): ReLU()\n",
      "  )\n",
      "  (conv4): GINEConv(nn=Sequential(\n",
      "    (0): Linear(in_features=256, out_features=256, bias=True)\n",
      "    (1): BatchNorm1d(256, eps=1e-05, momentum=0.1, affine=True, track_running_stats=True)\n",
      "    (2): ReLU()\n",
      "    (3): Linear(in_features=256, out_features=256, bias=True)\n",
      "    (4): ReLU()\n",
      "  ))\n",
      "  (attr5): Sequential(\n",
      "    (0): Linear(in_features=256, out_features=256, bias=True)\n",
      "    (1): BatchNorm1d(256, eps=1e-05, momentum=0.1, affine=True, track_running_stats=True)\n",
      "    (2): ReLU()\n",
      "  )\n",
      "  (conv5): GINEConv(nn=Sequential(\n",
      "    (0): Linear(in_features=256, out_features=256, bias=True)\n",
      "    (1): BatchNorm1d(256, eps=1e-05, momentum=0.1, affine=True, track_running_stats=True)\n",
      "    (2): ReLU()\n",
      "    (3): Linear(in_features=256, out_features=256, bias=True)\n",
      "    (4): ReLU()\n",
      "  ))\n",
      "  (lin1): Linear(in_features=256, out_features=256, bias=True)\n",
      "  (lin2): Linear(in_features=256, out_features=1, bias=True)\n",
      ")\n"
     ]
    }
   ],
   "source": [
    "from torch.nn import Linear\n",
    "import torch.nn.functional as F\n",
    "from torch_geometric.nn import GCNConv\n",
    "from torch_geometric.nn import global_mean_pool\n",
    "from torch_geometric.nn.models import GIN\n",
    "from torch.optim.lr_scheduler import ReduceLROnPlateau\n",
    "\n",
    "num_node_features = 9\n",
    "hidden_channels = 256\n",
    "num_classes = 1\n",
    "num_attr_features = 3\n",
    "\n",
    "model = Net(in_channels=num_node_features, in_attr = num_attr_features, dim=hidden_channels,out_channels=num_classes).to(device)#GCN(hidden_channels=64,num_node_features=9,num_classes=1)\n",
    "# model.load_state_dict(torch.load('model/best-model-GIN_Jack.pt')) # Load Model\n",
    "print(model)"
   ]
  },
  {
   "cell_type": "markdown",
   "id": "fcd42a28-5ec8-4e6b-a604-027e8349527f",
   "metadata": {},
   "source": [
    "# Train"
   ]
  },
  {
   "cell_type": "code",
   "execution_count": 62,
   "id": "f8bf00f7-aced-44c8-ad0c-3eb10de7ce79",
   "metadata": {},
   "outputs": [],
   "source": [
    "optimizer = torch.optim.Adam(model.parameters(), lr=0.001)\n",
    "criterion = torch.nn.L1Loss()\n",
    "scheduler = ReduceLROnPlateau(optimizer, 'min', verbose=True)"
   ]
  },
  {
   "cell_type": "code",
   "execution_count": 63,
   "id": "a755e2e6-4cb0-4e32-8462-82bda35c1c93",
   "metadata": {
    "id": "a755e2e6-4cb0-4e32-8462-82bda35c1c93",
    "outputId": "902b549c-e323-427d-ea65-57d48ca4438e"
   },
   "outputs": [],
   "source": [
    "from torch.cuda.amp import GradScaler, autocast\n",
    "\n",
    "scaler = GradScaler()\n",
    "\n",
    "def train(train_loader):\n",
    "    model.train()\n",
    "    c=0\n",
    "    correct=0\n",
    "    for data in train_loader:  # Iterate in batches over the training dataset.\n",
    "        data.to(device)\n",
    "        model.eval()\n",
    "        model.zero_grad()\n",
    "        \n",
    "        with autocast():\n",
    "            out = model(data.x, data.edge_index, data.edge_attr.float(), data.batch)  # Perform a single forward pass.\n",
    "            loss = criterion(out, data.y)  # Compute the loss.\n",
    "        \n",
    "        scaler.scale(loss).backward()  # Derive gradients.\n",
    "        scaler.step(optimizer)  # Update parameters based on gradients.\n",
    "        scaler.update()  # Clear gradients.\n",
    "        \n",
    "#         print('done:',c+1,'batch','loss:',loss)\n",
    "        c=c+1\n",
    "        correct+=loss.cpu().detach().numpy()\n",
    "        torch.cuda.empty_cache()\n",
    "    return correct/c\n",
    "\n",
    "def test(loader):\n",
    "    model.eval()\n",
    "    correct = 0\n",
    "    c=0\n",
    "    for data in loader:  # Iterate in batches over the training/test dataset.\n",
    "        data.to(device)\n",
    "        out = model(data.x, data.edge_index, data.edge_attr.float(), data.batch)  \n",
    "        loss = criterion(out, data.y)  # Compute the loss.\n",
    "        correct += loss.cpu().detach().numpy()  # Check against ground-truth labels.\n",
    "        c=c+1\n",
    "        torch.cuda.empty_cache()\n",
    "        loss.cpu().detach().numpy()\n",
    "        #print(correct)\n",
    "    return correct / c  # Derive ratio of correct predictions."
   ]
  },
  {
   "cell_type": "code",
   "execution_count": 64,
   "id": "55716d38-2990-4729-b0dc-9aefdbc98aaf",
   "metadata": {
    "tags": []
   },
   "outputs": [
    {
     "name": "stdout",
     "output_type": "stream",
     "text": [
      "start train\n",
      "Epoch: 001, Train MAE: 76.3365, Test MAE: 66.6888\n",
      "Epoch: 002, Train MAE: 66.3372, Test MAE: 61.9767\n",
      "Epoch: 003, Train MAE: 62.0007, Test MAE: 59.6642\n",
      "Epoch: 004, Train MAE: 57.9824, Test MAE: 68.3640\n",
      "Epoch: 005, Train MAE: 55.7188, Test MAE: 55.4410\n",
      "Epoch: 006, Train MAE: 53.3640, Test MAE: 57.5857\n",
      "Epoch: 007, Train MAE: 50.7031, Test MAE: 53.1708\n",
      "Epoch: 008, Train MAE: 48.6675, Test MAE: 50.2072\n",
      "Epoch: 009, Train MAE: 47.3208, Test MAE: 46.7236\n",
      "Epoch: 010, Train MAE: 45.8460, Test MAE: 45.6808\n",
      "Epoch: 011, Train MAE: 44.2956, Test MAE: 44.5174\n",
      "Epoch: 012, Train MAE: 42.9926, Test MAE: 42.7273\n",
      "Epoch: 013, Train MAE: 41.8747, Test MAE: 42.2794\n",
      "Epoch: 014, Train MAE: 41.2404, Test MAE: 40.4569\n",
      "Epoch: 015, Train MAE: 40.0456, Test MAE: 42.2885\n",
      "Epoch: 016, Train MAE: 39.2568, Test MAE: 44.1023\n",
      "Epoch: 017, Train MAE: 38.4739, Test MAE: 38.7467\n",
      "Epoch: 018, Train MAE: 37.5935, Test MAE: 39.4234\n",
      "Epoch: 019, Train MAE: 36.9610, Test MAE: 37.8216\n",
      "Epoch: 020, Train MAE: 36.7492, Test MAE: 39.9997\n",
      "Epoch: 021, Train MAE: 35.7973, Test MAE: 36.8733\n",
      "Epoch: 022, Train MAE: 35.4013, Test MAE: 36.6286\n",
      "Epoch: 023, Train MAE: 34.9683, Test MAE: 36.4338\n",
      "Epoch: 024, Train MAE: 34.4327, Test MAE: 37.7545\n",
      "Epoch: 025, Train MAE: 33.8927, Test MAE: 36.0817\n",
      "Epoch: 026, Train MAE: 33.6057, Test MAE: 36.0217\n",
      "Epoch: 027, Train MAE: 33.4869, Test MAE: 35.2053\n",
      "Epoch: 028, Train MAE: 33.1036, Test MAE: 35.5302\n",
      "Epoch: 029, Train MAE: 32.6604, Test MAE: 35.1654\n",
      "Epoch: 030, Train MAE: 32.3434, Test MAE: 34.0585\n",
      "Epoch: 031, Train MAE: 32.0372, Test MAE: 35.8294\n",
      "Epoch: 032, Train MAE: 31.8538, Test MAE: 34.1238\n",
      "Epoch: 033, Train MAE: 31.7979, Test MAE: 33.7182\n",
      "Epoch: 034, Train MAE: 31.2032, Test MAE: 33.7003\n",
      "Epoch: 035, Train MAE: 31.0057, Test MAE: 34.9722\n",
      "Epoch: 036, Train MAE: 30.9086, Test MAE: 32.6991\n",
      "Epoch: 037, Train MAE: 30.5714, Test MAE: 33.1871\n",
      "Epoch: 038, Train MAE: 30.5976, Test MAE: 32.8712\n",
      "Epoch: 039, Train MAE: 30.0879, Test MAE: 32.6855\n",
      "Epoch: 040, Train MAE: 30.0358, Test MAE: 32.5037\n",
      "Epoch: 041, Train MAE: 29.7312, Test MAE: 33.3735\n",
      "Epoch: 042, Train MAE: 29.6792, Test MAE: 33.8901\n",
      "Epoch: 043, Train MAE: 29.4670, Test MAE: 32.6570\n",
      "Epoch: 044, Train MAE: 29.2452, Test MAE: 32.0189\n",
      "Epoch: 045, Train MAE: 28.9756, Test MAE: 32.4075\n",
      "Epoch: 046, Train MAE: 28.9292, Test MAE: 32.0947\n",
      "Epoch: 047, Train MAE: 28.6224, Test MAE: 33.5388\n",
      "Epoch: 048, Train MAE: 28.6942, Test MAE: 32.7742\n",
      "Epoch: 049, Train MAE: 28.4286, Test MAE: 32.1780\n",
      "Epoch: 050, Train MAE: 28.2927, Test MAE: 33.4683\n",
      "Epoch: 051, Train MAE: 28.3542, Test MAE: 32.1786\n",
      "Epoch: 052, Train MAE: 27.9823, Test MAE: 31.5648\n",
      "Epoch: 053, Train MAE: 27.8013, Test MAE: 32.2597\n",
      "Epoch: 054, Train MAE: 27.8384, Test MAE: 31.9745\n",
      "Epoch: 055, Train MAE: 27.6735, Test MAE: 31.9813\n",
      "Epoch: 056, Train MAE: 27.4540, Test MAE: 31.6282\n",
      "Epoch: 057, Train MAE: 27.4545, Test MAE: 32.1242\n",
      "Epoch: 058, Train MAE: 27.2633, Test MAE: 31.5898\n",
      "Epoch: 059, Train MAE: 27.0514, Test MAE: 31.8022\n",
      "Epoch: 060, Train MAE: 26.9030, Test MAE: 31.4762\n",
      "Epoch: 061, Train MAE: 26.8954, Test MAE: 31.9702\n",
      "Epoch: 062, Train MAE: 26.9168, Test MAE: 31.9901\n",
      "Epoch: 063, Train MAE: 26.5223, Test MAE: 31.4537\n",
      "Epoch: 064, Train MAE: 26.4900, Test MAE: 31.8241\n",
      "Epoch: 065, Train MAE: 26.0359, Test MAE: 31.2837\n",
      "Epoch: 066, Train MAE: 26.3160, Test MAE: 31.5086\n",
      "Epoch: 067, Train MAE: 25.9401, Test MAE: 31.8140\n",
      "Epoch: 068, Train MAE: 25.7926, Test MAE: 31.4665\n",
      "Epoch: 069, Train MAE: 25.6289, Test MAE: 31.2009\n",
      "Epoch: 070, Train MAE: 25.6806, Test MAE: 31.8794\n",
      "Epoch: 071, Train MAE: 25.4211, Test MAE: 31.6359\n",
      "Epoch: 072, Train MAE: 25.4972, Test MAE: 31.4793\n",
      "Epoch: 073, Train MAE: 25.1917, Test MAE: 31.3324\n",
      "Epoch: 074, Train MAE: 25.0522, Test MAE: 31.2710\n",
      "Epoch: 075, Train MAE: 24.9698, Test MAE: 31.0973\n",
      "Epoch: 076, Train MAE: 24.9984, Test MAE: 31.3525\n",
      "Epoch: 077, Train MAE: 24.8671, Test MAE: 31.0431\n",
      "Epoch: 078, Train MAE: 24.6845, Test MAE: 31.0493\n",
      "Epoch: 079, Train MAE: 24.5621, Test MAE: 31.0187\n",
      "Epoch: 080, Train MAE: 24.4343, Test MAE: 31.3157\n",
      "Epoch: 081, Train MAE: 24.2895, Test MAE: 31.3816\n",
      "Epoch: 082, Train MAE: 24.3753, Test MAE: 31.4278\n",
      "Epoch: 083, Train MAE: 24.2746, Test MAE: 31.0977\n",
      "Epoch: 084, Train MAE: 24.1121, Test MAE: 30.9653\n",
      "Epoch: 085, Train MAE: 24.0246, Test MAE: 31.4892\n",
      "Epoch: 086, Train MAE: 23.7964, Test MAE: 31.0905\n",
      "Epoch: 087, Train MAE: 23.6101, Test MAE: 31.2759\n",
      "Epoch: 088, Train MAE: 23.7026, Test MAE: 31.1682\n",
      "Epoch: 089, Train MAE: 23.4875, Test MAE: 31.0142\n",
      "Epoch: 090, Train MAE: 23.4262, Test MAE: 31.5243\n",
      "Epoch: 091, Train MAE: 23.2677, Test MAE: 31.2525\n",
      "Epoch: 092, Train MAE: 23.0984, Test MAE: 31.3583\n",
      "Epoch: 093, Train MAE: 23.1439, Test MAE: 31.5681\n",
      "Epoch: 094, Train MAE: 23.0778, Test MAE: 30.9654\n",
      "Epoch: 095, Train MAE: 22.8737, Test MAE: 30.9093\n",
      "Epoch: 096, Train MAE: 22.9316, Test MAE: 31.1249\n",
      "Epoch: 097, Train MAE: 22.7782, Test MAE: 31.6906\n",
      "Epoch: 098, Train MAE: 22.7344, Test MAE: 31.2185\n",
      "Epoch: 099, Train MAE: 22.5098, Test MAE: 31.1308\n",
      "Epoch: 100, Train MAE: 22.4580, Test MAE: 30.8511\n"
     ]
    }
   ],
   "source": [
    "print('start train')\n",
    "train_loss = []\n",
    "test_loss = []\n",
    "epochs = 100\n",
    "\n",
    "for epoch in range(epochs):\n",
    "    train_acc = train(train_loader)\n",
    "    test_acc = test(test_loader)\n",
    "    train_loss.append(train_acc)\n",
    "    test_loss.append(test_acc)\n",
    "    scheduler.step(test_acc)\n",
    "    print(f'Epoch: {epoch+1:03d}, Train MAE: {train_acc:.4f}, Test MAE: {test_acc:.4f}')\n",
    "#     print(f'Epoch: {epoch+1:03d}, Train MAE: {train_acc:.4f}')"
   ]
  },
  {
   "cell_type": "code",
   "execution_count": 65,
   "id": "5e947fbc-9282-48ca-bc5f-646d27d1fc11",
   "metadata": {},
   "outputs": [
    {
     "data": {
      "image/png": "[encoded data removed]",
      "text/plain": [
       "<Figure size 432x288 with 1 Axes>"
      ]
     },
     "metadata": {
      "needs_background": "light"
     },
     "output_type": "display_data"
    }
   ],
   "source": [
    "import matplotlib.pyplot as plt\n",
    "\n",
    "plt.title('loss')\n",
    "plt.plot(np.arange(epochs), train_loss, label='train loss')\n",
    "plt.plot(np.arange(epochs), test_loss, label='val loss')\n",
    "plt.legend()\n",
    "plt.show()"
   ]
  },
  {
   "cell_type": "code",
   "execution_count": 47,
   "id": "2a4c2623-d5a2-400a-97d7-d518937f6558",
   "metadata": {},
   "outputs": [],
   "source": [
    "save = False\n",
    "if save:\n",
    "    torch.save(model.state_dict(), \"model/best_GINE.pt\")"
   ]
  },
  {
   "cell_type": "markdown",
   "id": "216c88c6-e318-44c2-9c69-cca856407ff7",
   "metadata": {
    "tags": []
   },
   "source": [
    "# Inference"
   ]
  },
  {
   "cell_type": "code",
   "execution_count": 22,
   "id": "d106055c-2a2c-4c5a-be33-8b09fb99f358",
   "metadata": {},
   "outputs": [],
   "source": [
    "data_list = pickle.load(open('data/test/graph_test.pkl', 'rb'))"
   ]
  },
  {
   "cell_type": "code",
   "execution_count": 23,
   "id": "6ea16a92-8fcd-4fd8-9fb7-44cf8445b282",
   "metadata": {},
   "outputs": [],
   "source": [
    "data_loader = DataLoader(data_list, batch_size=128, shuffle=False)"
   ]
  },
  {
   "cell_type": "code",
   "execution_count": 24,
   "id": "0c28f906-b107-4018-ab45-ec10bd265202",
   "metadata": {
    "id": "0c28f906-b107-4018-ab45-ec10bd265202",
    "outputId": "10c2192e-0c8a-4892-b38b-ca178218708e"
   },
   "outputs": [],
   "source": [
    "latent_space_list = []\n",
    "\n",
    "for data in data_loader:  # Iterate in batches over the training dataset.\n",
    "    data.to(device)\n",
    "    \n",
    "    latent_space = model.latent_space(data.x, data.edge_index, data.edge_attr.float(), data.batch).cpu().detach().numpy()\n",
    "    latent_space_list.append(latent_space)\n",
    "    \n",
    "    torch.cuda.empty_cache()\n",
    "    \n",
    "latent_space_list = np.concatenate(latent_space_list, axis=0)"
   ]
  },
  {
   "cell_type": "code",
   "execution_count": 25,
   "id": "2f9fbf3b-1a80-4fd8-8879-d62134652bff",
   "metadata": {},
   "outputs": [
    {
     "data": {
      "text/plain": [
       "(16237, 256)"
      ]
     },
     "execution_count": 25,
     "metadata": {},
     "output_type": "execute_result"
    }
   ],
   "source": [
    "latent_space_list.shape"
   ]
  },
  {
   "cell_type": "code",
   "execution_count": 26,
   "id": "d5dcfab1-c430-46b2-9e04-d071787c3a16",
   "metadata": {},
   "outputs": [],
   "source": [
    "pickle.dump(latent_space_list, open('data/test/latent_space_GINE.pkl', 'wb'))"
   ]
  },
  {
   "cell_type": "code",
   "execution_count": null,
   "id": "d6b1f0da-a754-469e-ae7a-f524982cf99b",
   "metadata": {},
   "outputs": [],
   "source": []
  }
 ],
 "metadata": {
  "colab": {
   "name": "pytorch_geotric.ipynb",
   "provenance": []
  },
  "kernelspec": {
   "display_name": "TMLCC_CUDA",
   "language": "python",
   "name": "tmlcc_cuda"
  },
  "language_info": {
   "codemirror_mode": {
    "name": "ipython",
    "version": 3
   },
   "file_extension": ".py",
   "mimetype": "text/x-python",
   "name": "python",
   "nbconvert_exporter": "python",
   "pygments_lexer": "ipython3",
   "version": "3.7.11"
  }
 },
 "nbformat": 4,
 "nbformat_minor": 5
}

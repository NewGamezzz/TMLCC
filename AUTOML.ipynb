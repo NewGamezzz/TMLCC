{
  "nbformat": 4,
  "nbformat_minor": 0,
  "metadata": {
    "colab": {
      "name": "Untitled1.ipynb",
      "provenance": [],
      "collapsed_sections": []
    },
    "kernelspec": {
      "name": "python3",
      "display_name": "Python 3"
    },
    "language_info": {
      "name": "python"
    }
  },
  "cells": [
    {
      "cell_type": "code",
      "metadata": {
        "id": "xvUQWuQOL4XP"
      },
      "source": [
        "from google.colab import drive\n",
        "drive.mount('/content/drive')"
      ],
      "execution_count": null,
      "outputs": []
    },
    {
      "cell_type": "code",
      "metadata": {
        "id": "2hCZhv4AL8rS"
      },
      "source": [
        "import urllib.request\n",
        "import json\n",
        "import os\n",
        "import ssl\n",
        "import pandas as pd\n",
        "import numpy as np"
      ],
      "execution_count": null,
      "outputs": []
    },
    {
      "cell_type": "code",
      "metadata": {
        "id": "4gPmxRA_MCio"
      },
      "source": [
        "def allowSelfSignedHttps(allowed):\n",
        "    # bypass the server certificate verification on client side\n",
        "    if allowed and not os.environ.get('PYTHONHTTPSVERIFY', '') and getattr(ssl, '_create_unverified_context', None):\n",
        "        ssl._create_default_https_context = ssl._create_unverified_context\n",
        "deployment1 = 'http://83f76041-cac5-4f06-b7e0-22eb771afb13.southeastasia.azurecontainer.io/score'\n",
        "deployment2 = 'http://899cab75-618f-4543-adef-85d8edc9bff1.southeastasia.azurecontainer.io/score'\n",
        "deployment3 = 'http://45f246cd-5d1a-49aa-a5e1-cf17c4539fff.southeastasia.azurecontainer.io/score' #mol2vec\n",
        "deployment4 = 'http://c709b7ea-9032-494d-bd4f-c4c4cd06f609.southeastasia.azurecontainer.io/score' #gcnconcat\n",
        "deployment5 = 'http://d0d7d9d4-aac6-4755-90c0-24a5ee50d82a.southeastasia.azurecontainer.io/score' #sageconcat\n",
        "deployment6 = 'http://324edf84-c2cc-4298-b9f3-eba05dbe657b.southeastasia.azurecontainer.io/score' #sage+gcn concat linker\n",
        "deployment7 = 'http://c4e43588-546f-4737-9a4d-6e8171838752.southeastasia.azurecontainer.io/score' #grid lasthope\n",
        "#deployment8 = 'http://1cf2cb39-65ff-4bd7-9b41-41e043bbe38c.southeastasia.azurecontainer.io/score' #sayonara\n",
        "def send(datajson):\n",
        "    allowSelfSignedHttps(True) # this line is needed if you use self-signed certificate in your scoring service.\n",
        "\n",
        "    # Request data goes here\n",
        "    data = datajson\n",
        "\n",
        "    body = str.encode(json.dumps(data))\n",
        "\n",
        "    url = deployment7\n",
        "    api_key = '' # Replace this with the API key for the web service\n",
        "    headers = {'Content-Type':'application/json', 'Authorization':('Bearer '+ api_key)}\n",
        "\n",
        "    req = urllib.request.Request(url, body, headers)\n",
        "\n",
        "    try:\n",
        "        response = urllib.request.urlopen(req)\n",
        "        print(response)\n",
        "        result = response.read()\n",
        "        res2 = json.loads(result)\n",
        "        res = json.loads(res2)\n",
        "        return res['result']\n",
        "    except urllib.error.HTTPError as error:\n",
        "        print(\"The request failed with status code: \" + str(error.code))\n",
        "\n",
        "        # Print the headers - they include the requert ID and the timestamp, which are useful for debugging the failure\n",
        "        print(error.info())\n",
        "        print(json.loads(error.read().decode(\"utf8\", 'ignore')))"
      ],
      "execution_count": null,
      "outputs": []
    },
    {
      "cell_type": "code",
      "metadata": {
        "id": "ai5EVLjzMJKA"
      },
      "source": [
        "file_path='/content/drive/MyDrive/tmlcc-2021/preprocess/auto_feat_last_hope_test.csv' #change your file path to auto_feat_last_hope_test.scv\n",
        "data = pd.read_csv(file_path)\n",
        "print(data.columns)"
      ],
      "execution_count": null,
      "outputs": []
    },
    {
      "cell_type": "code",
      "metadata": {
        "id": "5iuTnqywMYwZ"
      },
      "source": [
        "ans = pd.DataFrame()\n",
        "ans['id'] = [str(i) for i in range(68614,85614)]"
      ],
      "execution_count": null,
      "outputs": []
    },
    {
      "cell_type": "code",
      "metadata": {
        "id": "rcSt67_LMc9B"
      },
      "source": [
        "mof = data['mofname'].tolist()\n",
        "data.drop('mofname', axis=1, inplace=True)"
      ],
      "execution_count": null,
      "outputs": []
    },
    {
      "cell_type": "code",
      "metadata": {
        "id": "oUXgP3ePMjAw"
      },
      "source": [
        "datajson = {\"data\": data.iloc[0:].to_dict(orient='records')}"
      ],
      "execution_count": null,
      "outputs": []
    },
    {
      "cell_type": "code",
      "metadata": {
        "id": "dBcerFkcMkrQ"
      },
      "source": [
        "lis = send(datajson)\n",
        "len(lis)"
      ],
      "execution_count": null,
      "outputs": []
    },
    {
      "cell_type": "code",
      "metadata": {
        "id": "AJQdC8TyMnho"
      },
      "source": [
        "oldsub = pd.read_csv('/content/drive/MyDrive/tmlcc-2021/preprocess/xgboost_submission_hist.csv') #change your file path to xgboost_submission_hist.csv\n",
        "oldsub.head()"
      ],
      "execution_count": null,
      "outputs": []
    },
    {
      "cell_type": "code",
      "metadata": {
        "id": "ejhdd9IIMqly"
      },
      "source": [
        "inlist = [int(i[9:]) for i in mof]\n",
        "i=68614\n",
        "j=0\n",
        "anslis = []\n",
        "while(True):\n",
        "    if(i==85614):\n",
        "      break\n",
        "    if(i not in inlist):\n",
        "      anslis.append(float(oldsub.iloc[i-68614]['CO2_working_capacity [mL/g]']))\n",
        "    else:\n",
        "      anslis.append(lis[j])\n",
        "      j+=1\n",
        "    i+=1\n",
        "print(len(anslis))"
      ],
      "execution_count": null,
      "outputs": []
    },
    {
      "cell_type": "code",
      "metadata": {
        "id": "auhqQs4yMvgI"
      },
      "source": [
        "ans['CO2_working_capacity [mL/g]'] = anslis"
      ],
      "execution_count": null,
      "outputs": []
    },
    {
      "cell_type": "code",
      "metadata": {
        "id": "Jz_nqY0gM0K5"
      },
      "source": [
        "ans.to_csv (r'/content/drive/MyDrive/tmlcc-2021/testset/finalhuh.csv', index = False, header=True)"
      ],
      "execution_count": null,
      "outputs": []
    }
  ]
}
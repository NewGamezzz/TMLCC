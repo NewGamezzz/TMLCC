{
 "cells": [
  {
   "cell_type": "code",
   "execution_count": 16,
   "id": "a6a20283-f5c7-428d-b731-e7979b778231",
   "metadata": {},
   "outputs": [],
   "source": [
    "import pandas as pd\n",
    "import numpy as np\n",
    "import seaborn as sns\n",
    "import pandas_profiling\n",
    "import joblib\n",
    "import matplotlib.pyplot as plt\n",
    "import xgboost as xgb\n",
    "import json\n",
    "import pickle\n",
    "import category_encoders as ce\n",
    "import openbabel.pybel as pybel\n",
    "from sklearn.metrics import mean_absolute_error\n",
    "from sklearn.model_selection import train_test_split\n",
    "from sklearn.preprocessing import StandardScaler\n",
    "from utils.utils import *\n",
    "from utils.surface_area import *\n",
    "%matplotlib inline"
   ]
  },
  {
   "cell_type": "code",
   "execution_count": 21,
   "id": "93c8d5e3-9663-47f3-a65a-60a94d36960a",
   "metadata": {},
   "outputs": [],
   "source": [
    "def xyz_to_smiles(fname: str) -> str:\n",
    "    mol = next(pybel.readfile(\"xyz\", fname))\n",
    "    smi = mol.write(format=\"smi\")\n",
    "    return smi.split()[0].strip()\n",
    "\n",
    "splitdot = lambda x: x.split('.')[0]"
   ]
  },
  {
   "cell_type": "markdown",
   "id": "01430dcd-4ed9-4e8f-85d9-87d5e533a14f",
   "metadata": {},
   "source": [
    "# Metal Linker"
   ]
  },
  {
   "cell_type": "code",
   "execution_count": 36,
   "id": "50dca9c5-b502-40c7-9bb1-cb35288204e9",
   "metadata": {},
   "outputs": [],
   "source": [
    "xyz_path = 'data/additional/metal_linker'\n",
    "\n",
    "filenames = os.listdir(xyz_path)\n",
    "filenames = list(map(splitdot, filenames))"
   ]
  },
  {
   "cell_type": "code",
   "execution_count": 37,
   "id": "2e18f124-ff4a-4a36-9e0f-22095570d580",
   "metadata": {},
   "outputs": [],
   "source": [
    "smiles_metal = {}\n",
    "for filename in filenames:\n",
    "    mof_xyz = os.path.join(xyz_path, \"{}.xyz\".format(filename))\n",
    "    smi = xyz_to_smiles(mof_xyz)\n",
    "    \n",
    "    idx = int(filename.split('_')[-1])\n",
    "    smiles_metal[idx] = smi"
   ]
  },
  {
   "cell_type": "markdown",
   "id": "73f0b6ab-3e98-4941-a7da-ec93ea8a6a66",
   "metadata": {},
   "source": [
    "# Organic Linker"
   ]
  },
  {
   "cell_type": "code",
   "execution_count": 38,
   "id": "78f711b4-c0f5-46be-ab0a-bc03c195fe32",
   "metadata": {},
   "outputs": [],
   "source": [
    "xyz_path = 'data/additional/organic_linker'\n",
    "\n",
    "filenames = os.listdir(xyz_path)\n",
    "filenames = list(map(splitdot, filenames))"
   ]
  },
  {
   "cell_type": "code",
   "execution_count": 39,
   "id": "c157e0be-3906-416f-85ff-17cd23745976",
   "metadata": {},
   "outputs": [],
   "source": [
    "smiles_organic = {}\n",
    "for filename in filenames:\n",
    "    mof_xyz = os.path.join(xyz_path, \"{}.xyz\".format(filename))\n",
    "    smi = xyz_to_smiles(mof_xyz)\n",
    "    \n",
    "    idx = int(filename.split('_')[-1])\n",
    "    smiles_organic[idx] = smi"
   ]
  },
  {
   "cell_type": "markdown",
   "id": "3b0d21d5-acaa-46a5-9ccb-4d47fac15638",
   "metadata": {},
   "source": [
    "# Replace index with smiles"
   ]
  },
  {
   "cell_type": "code",
   "execution_count": 144,
   "id": "e02a973e-84be-44f4-9cda-b37804d34a6a",
   "metadata": {},
   "outputs": [],
   "source": [
    "mode = 'test'\n",
    "df = pd.read_csv('data/{}/clean_{}.csv'.format(mode, mode))\n",
    "fix_linker = pd.read_csv('data/sra_2to15.csv')\n",
    "\n",
    "mask = (fix_linker.flag == mode).values\n",
    "fix_train_linker = fix_linker[mask]\n",
    "fix_test_linker = fix_linker[~mask]\n",
    "\n",
    "df = df.set_index('MOFname')\n",
    "df.loc[fix_train_linker.MOFname.values, 'metal_linker'] = fix_train_linker.metal_linker.values\n",
    "df.loc[fix_train_linker.MOFname.values, 'organic_linker1'] = fix_train_linker.organic_linker1.values\n",
    "df.loc[fix_train_linker.MOFname.values, 'organic_linker2'] = fix_train_linker.organic_linker2.values\n",
    "df = df.replace({'metal_linker': smiles_metal, 'organic_linker1': smiles_organic, 'organic_linker2': smiles_organic})\n",
    "df = df.reset_index()"
   ]
  },
  {
   "cell_type": "code",
   "execution_count": 145,
   "id": "8b71a23d-833e-4bcb-9b18-605e2ec061f1",
   "metadata": {},
   "outputs": [],
   "source": [
    "df.to_csv('data/{}/clean_{}_linker.csv'.format(mode, mode), index=False)"
   ]
  },
  {
   "cell_type": "code",
   "execution_count": null,
   "id": "3cb8e5b8-8389-4cc6-8133-a48be3f50f80",
   "metadata": {},
   "outputs": [],
   "source": []
  }
 ],
 "metadata": {
  "kernelspec": {
   "display_name": "TMLCC_CUDA",
   "language": "python",
   "name": "tmlcc_cuda"
  },
  "language_info": {
   "codemirror_mode": {
    "name": "ipython",
    "version": 3
   },
   "file_extension": ".py",
   "mimetype": "text/x-python",
   "name": "python",
   "nbconvert_exporter": "python",
   "pygments_lexer": "ipython3",
   "version": "3.7.11"
  }
 },
 "nbformat": 4,
 "nbformat_minor": 5
}

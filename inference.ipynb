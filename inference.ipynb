{
 "cells": [
  {
   "cell_type": "markdown",
   "id": "0eaa4a4d-5bd6-4672-974f-04d9f9ed8cfc",
   "metadata": {},
   "source": [
    "# Import Library"
   ]
  },
  {
   "cell_type": "code",
   "execution_count": 1,
   "id": "57c7df4a-f5c9-4ea3-89d3-c78c57ecb218",
   "metadata": {},
   "outputs": [],
   "source": [
    "import numpy as np\n",
    "import pandas as pd\n",
    "import json\n",
    "from utils.utils import *\n",
    "\n",
    "import xgboost as xgb\n",
    "from sklearn.metrics import mean_absolute_error\n",
    "from sklearn.model_selection import train_test_split, GridSearchCV, KFold\n",
    "from sklearn.preprocessing import StandardScaler\n",
    "import pandas as pd\n",
    "import numpy as np\n",
    "import pickle\n",
    "import seaborn as sns\n",
    "import category_encoders as ce\n",
    "\n",
    "from tensorflow.keras import Model\n",
    "from tensorflow.keras.layers import Dense, Input, Dropout, BatchNormalization\n",
    "from tensorflow.keras.optimizers import Adam\n",
    "from tensorflow.keras.callbacks import *\n",
    "import tensorflow as tf\n",
    "\n",
    "import torch\n",
    "import torch.nn as nn\n",
    "import torch.nn.functional as F\n",
    "from torch.utils.data import Dataset\n",
    "from torch.utils.data import DataLoader"
   ]
  },
  {
   "cell_type": "code",
   "execution_count": 2,
   "id": "9e9e81e2-b3e8-40f2-9e6f-81bf1b3fbf7a",
   "metadata": {},
   "outputs": [
    {
     "data": {
      "text/plain": [
       "device(type='cuda')"
      ]
     },
     "execution_count": 2,
     "metadata": {},
     "output_type": "execute_result"
    }
   ],
   "source": [
    "def format_pytorch_version(version):\n",
    "    return version.split('+')[0]\n",
    "\n",
    "TORCH_version = torch.__version__\n",
    "TORCH = format_pytorch_version(TORCH_version)\n",
    "\n",
    "def format_cuda_version(version):\n",
    "    return 'cu' + version.replace('.', '')\n",
    "\n",
    "CUDA_version = torch.version.cuda\n",
    "CUDA = format_cuda_version(CUDA_version)\n",
    "\n",
    "device = torch.device('cuda' if torch.cuda.is_available() else 'cpu')\n",
    "device"
   ]
  },
  {
   "cell_type": "markdown",
   "id": "90522daf-7746-4f93-9465-7badd7dfb7e3",
   "metadata": {},
   "source": [
    "# Load Data"
   ]
  },
  {
   "cell_type": "code",
   "execution_count": 3,
   "id": "f9d435ec-1fae-42c6-99a8-be5fc1e32b11",
   "metadata": {},
   "outputs": [
    {
     "name": "stdout",
     "output_type": "stream",
     "text": [
      "MOFname                                           object\n",
      "volume [A^3]                                     float64\n",
      "weight [u]                                       float64\n",
      "surface_area [m^2/g]                             float64\n",
      "void_fraction                                    float64\n",
      "void_volume [cm^3/g]                             float64\n",
      "functional_groups                                 object\n",
      "metal_linker                                       int64\n",
      "organic_linker1                                    int64\n",
      "organic_linker2                                    int64\n",
      "topology                                          object\n",
      "CO2/N2_selectivity                               float64\n",
      "heat_adsorption_CO2_P0.15bar_T298K [kcal/mol]    float64\n",
      "0                                                float64\n",
      "1                                                float64\n",
      "2                                                float64\n",
      "3                                                float64\n",
      "4                                                float64\n",
      "5                                                float64\n",
      "6                                                float64\n",
      "7                                                float64\n",
      "8                                                float64\n",
      "9                                                float64\n",
      "10                                               float64\n",
      "11                                               float64\n",
      "dtype: object\n"
     ]
    }
   ],
   "source": [
    "df_test = pd.read_csv('data/test/test.csv')\n",
    "gridhist = pd.read_csv('data/test/last_hope_test.csv')\n",
    "df_test = df_test.join(gridhist.set_index('MOFname'), on='MOFname')\n",
    "print(df_test.dtypes)"
   ]
  },
  {
   "cell_type": "code",
   "execution_count": 5,
   "id": "2a884c38-9c92-4754-b1ab-5f953faf70d4",
   "metadata": {},
   "outputs": [
    {
     "data": {
      "text/plain": [
       "MOFname                                          0\n",
       "volume [A^3]                                     0\n",
       "weight [u]                                       0\n",
       "surface_area [m^2/g]                             0\n",
       "void_fraction                                    0\n",
       "void_volume [cm^3/g]                             0\n",
       "functional_groups                                0\n",
       "metal_linker                                     0\n",
       "organic_linker1                                  0\n",
       "organic_linker2                                  0\n",
       "topology                                         0\n",
       "CO2/N2_selectivity                               0\n",
       "heat_adsorption_CO2_P0.15bar_T298K [kcal/mol]    0\n",
       "0                                                0\n",
       "1                                                0\n",
       "2                                                0\n",
       "3                                                0\n",
       "4                                                0\n",
       "5                                                0\n",
       "6                                                0\n",
       "7                                                0\n",
       "8                                                0\n",
       "9                                                0\n",
       "10                                               0\n",
       "11                                               0\n",
       "dtype: int64"
      ]
     },
     "execution_count": 5,
     "metadata": {},
     "output_type": "execute_result"
    }
   ],
   "source": [
    "df_test.isna().sum()"
   ]
  },
  {
   "cell_type": "markdown",
   "id": "21a81435-4577-40b8-a060-8215261318d2",
   "metadata": {},
   "source": [
    "# Load dependent data"
   ]
  },
  {
   "cell_type": "code",
   "execution_count": 6,
   "id": "7e2aa3af-6886-4d4b-820b-6a196bae3b16",
   "metadata": {},
   "outputs": [],
   "source": [
    "features = json.load(open('model/general/features.json', 'r'))\n",
    "features_idx = json.load(open('model/general/features_idx.json', 'r'))\n",
    "\n",
    "topo_encoder = json.load(open('model/general/encoder/topology_encoder.json', 'r'))\n",
    "func_encoder = json.load(open('model/general/encoder/functional_groups_encoder.json', 'r'))\n",
    "hash_encoder = pickle.load(open('model/hash_encode_topology.pkl', 'rb'))"
   ]
  },
  {
   "cell_type": "markdown",
   "id": "a6872204-1bfe-4c58-8693-aa75dde71709",
   "metadata": {},
   "source": [
    "# Preprocessing Data"
   ]
  },
  {
   "cell_type": "markdown",
   "id": "2cc63106-8187-461e-b23a-e7f8ea29406c",
   "metadata": {},
   "source": [
    "## Insert Density"
   ]
  },
  {
   "cell_type": "code",
   "execution_count": 7,
   "id": "44e94295-21c3-4d64-86e1-f6c53811f760",
   "metadata": {},
   "outputs": [],
   "source": [
    "df_test.insert(loc=3, column=\"density [g/cm^3]\", value=(df_test[\"weight [u]\"] / df_test[\"volume [A^3]\"]) * 1.66054)"
   ]
  },
  {
   "cell_type": "markdown",
   "id": "5e3af768-6c7d-4224-901e-5e212004d149",
   "metadata": {
    "tags": []
   },
   "source": [
    "## Generate catalog"
   ]
  },
  {
   "cell_type": "code",
   "execution_count": 8,
   "id": "3a256e8c-fb1b-4477-9bd5-2b0b3cddb0a3",
   "metadata": {},
   "outputs": [
    {
     "data": {
      "text/html": [
       "<div>\n",
       "<style scoped>\n",
       "    .dataframe tbody tr th:only-of-type {\n",
       "        vertical-align: middle;\n",
       "    }\n",
       "\n",
       "    .dataframe tbody tr th {\n",
       "        vertical-align: top;\n",
       "    }\n",
       "\n",
       "    .dataframe thead th {\n",
       "        text-align: right;\n",
       "    }\n",
       "</style>\n",
       "<table border=\"1\" class=\"dataframe\">\n",
       "  <thead>\n",
       "    <tr style=\"text-align: right;\">\n",
       "      <th></th>\n",
       "      <th>MOFname</th>\n",
       "      <th>volume [A^3]</th>\n",
       "      <th>weight [u]</th>\n",
       "      <th>density [g/cm^3]</th>\n",
       "      <th>surface_area [m^2/g]</th>\n",
       "      <th>void_fraction</th>\n",
       "      <th>void_volume [cm^3/g]</th>\n",
       "      <th>functional_groups</th>\n",
       "      <th>metal_linker</th>\n",
       "      <th>organic_linker1</th>\n",
       "      <th>...</th>\n",
       "      <th>2</th>\n",
       "      <th>3</th>\n",
       "      <th>4</th>\n",
       "      <th>5</th>\n",
       "      <th>6</th>\n",
       "      <th>7</th>\n",
       "      <th>8</th>\n",
       "      <th>9</th>\n",
       "      <th>10</th>\n",
       "      <th>11</th>\n",
       "    </tr>\n",
       "  </thead>\n",
       "  <tbody>\n",
       "    <tr>\n",
       "      <th>0</th>\n",
       "      <td>mof_unit_68614</td>\n",
       "      <td>1208.301332</td>\n",
       "      <td>797.70936</td>\n",
       "      <td>1.096273</td>\n",
       "      <td>586.54</td>\n",
       "      <td>0.11392</td>\n",
       "      <td>0.1039</td>\n",
       "      <td>OEt</td>\n",
       "      <td>2</td>\n",
       "      <td>5</td>\n",
       "      <td>...</td>\n",
       "      <td>0.029754</td>\n",
       "      <td>0.085012</td>\n",
       "      <td>0.074386</td>\n",
       "      <td>0.052070</td>\n",
       "      <td>0.040381</td>\n",
       "      <td>0.045694</td>\n",
       "      <td>0.039318</td>\n",
       "      <td>0.042506</td>\n",
       "      <td>0.032942</td>\n",
       "      <td>0.014877</td>\n",
       "    </tr>\n",
       "    <tr>\n",
       "      <th>1</th>\n",
       "      <td>mof_unit_68615</td>\n",
       "      <td>4126.414623</td>\n",
       "      <td>3733.65779</td>\n",
       "      <td>1.502488</td>\n",
       "      <td>852.49</td>\n",
       "      <td>0.21367</td>\n",
       "      <td>0.1422</td>\n",
       "      <td>H-I</td>\n",
       "      <td>4</td>\n",
       "      <td>6</td>\n",
       "      <td>...</td>\n",
       "      <td>0.003929</td>\n",
       "      <td>0.003820</td>\n",
       "      <td>0.007750</td>\n",
       "      <td>0.035692</td>\n",
       "      <td>0.143203</td>\n",
       "      <td>0.117225</td>\n",
       "      <td>0.046061</td>\n",
       "      <td>0.034600</td>\n",
       "      <td>0.025213</td>\n",
       "      <td>0.022266</td>\n",
       "    </tr>\n",
       "    <tr>\n",
       "      <th>2</th>\n",
       "      <td>mof_unit_68616</td>\n",
       "      <td>1602.148373</td>\n",
       "      <td>747.21048</td>\n",
       "      <td>0.774443</td>\n",
       "      <td>3155.73</td>\n",
       "      <td>0.33883</td>\n",
       "      <td>0.4375</td>\n",
       "      <td>CN-OH</td>\n",
       "      <td>3</td>\n",
       "      <td>11</td>\n",
       "      <td>...</td>\n",
       "      <td>0.087671</td>\n",
       "      <td>0.119843</td>\n",
       "      <td>0.098931</td>\n",
       "      <td>0.100808</td>\n",
       "      <td>0.095982</td>\n",
       "      <td>0.053353</td>\n",
       "      <td>0.039143</td>\n",
       "      <td>0.029224</td>\n",
       "      <td>0.030832</td>\n",
       "      <td>0.023593</td>\n",
       "    </tr>\n",
       "    <tr>\n",
       "      <th>3</th>\n",
       "      <td>mof_unit_68617</td>\n",
       "      <td>2436.629312</td>\n",
       "      <td>995.80232</td>\n",
       "      <td>0.678630</td>\n",
       "      <td>3521.09</td>\n",
       "      <td>0.40464</td>\n",
       "      <td>0.5963</td>\n",
       "      <td>OMe</td>\n",
       "      <td>2</td>\n",
       "      <td>1</td>\n",
       "      <td>...</td>\n",
       "      <td>0.011544</td>\n",
       "      <td>0.036536</td>\n",
       "      <td>0.087829</td>\n",
       "      <td>0.112345</td>\n",
       "      <td>0.125912</td>\n",
       "      <td>0.153404</td>\n",
       "      <td>0.072834</td>\n",
       "      <td>0.023921</td>\n",
       "      <td>0.018923</td>\n",
       "      <td>0.014757</td>\n",
       "    </tr>\n",
       "    <tr>\n",
       "      <th>4</th>\n",
       "      <td>mof_unit_68618</td>\n",
       "      <td>3123.418006</td>\n",
       "      <td>1337.53800</td>\n",
       "      <td>0.711091</td>\n",
       "      <td>2678.46</td>\n",
       "      <td>0.38959</td>\n",
       "      <td>0.5479</td>\n",
       "      <td>NO2-Pr</td>\n",
       "      <td>3</td>\n",
       "      <td>8</td>\n",
       "      <td>...</td>\n",
       "      <td>0.006221</td>\n",
       "      <td>0.020045</td>\n",
       "      <td>0.031005</td>\n",
       "      <td>0.052432</td>\n",
       "      <td>0.072773</td>\n",
       "      <td>0.110592</td>\n",
       "      <td>0.157890</td>\n",
       "      <td>0.158877</td>\n",
       "      <td>0.048483</td>\n",
       "      <td>0.016885</td>\n",
       "    </tr>\n",
       "    <tr>\n",
       "      <th>...</th>\n",
       "      <td>...</td>\n",
       "      <td>...</td>\n",
       "      <td>...</td>\n",
       "      <td>...</td>\n",
       "      <td>...</td>\n",
       "      <td>...</td>\n",
       "      <td>...</td>\n",
       "      <td>...</td>\n",
       "      <td>...</td>\n",
       "      <td>...</td>\n",
       "      <td>...</td>\n",
       "      <td>...</td>\n",
       "      <td>...</td>\n",
       "      <td>...</td>\n",
       "      <td>...</td>\n",
       "      <td>...</td>\n",
       "      <td>...</td>\n",
       "      <td>...</td>\n",
       "      <td>...</td>\n",
       "      <td>...</td>\n",
       "      <td>...</td>\n",
       "    </tr>\n",
       "    <tr>\n",
       "      <th>16995</th>\n",
       "      <td>mof_unit_85609</td>\n",
       "      <td>32660.944605</td>\n",
       "      <td>4723.68288</td>\n",
       "      <td>0.240160</td>\n",
       "      <td>5720.14</td>\n",
       "      <td>0.77614</td>\n",
       "      <td>3.2318</td>\n",
       "      <td>OH-NO2</td>\n",
       "      <td>3</td>\n",
       "      <td>3</td>\n",
       "      <td>...</td>\n",
       "      <td>0.002510</td>\n",
       "      <td>0.005413</td>\n",
       "      <td>0.009350</td>\n",
       "      <td>0.017346</td>\n",
       "      <td>0.029882</td>\n",
       "      <td>0.047154</td>\n",
       "      <td>0.073527</td>\n",
       "      <td>0.106513</td>\n",
       "      <td>0.183388</td>\n",
       "      <td>0.411512</td>\n",
       "    </tr>\n",
       "    <tr>\n",
       "      <th>16996</th>\n",
       "      <td>mof_unit_85610</td>\n",
       "      <td>5070.998617</td>\n",
       "      <td>1499.13262</td>\n",
       "      <td>0.490903</td>\n",
       "      <td>4017.28</td>\n",
       "      <td>0.59192</td>\n",
       "      <td>1.2058</td>\n",
       "      <td>Me-OMe</td>\n",
       "      <td>3</td>\n",
       "      <td>1</td>\n",
       "      <td>...</td>\n",
       "      <td>0.002413</td>\n",
       "      <td>0.009846</td>\n",
       "      <td>0.022692</td>\n",
       "      <td>0.039352</td>\n",
       "      <td>0.083952</td>\n",
       "      <td>0.128651</td>\n",
       "      <td>0.146093</td>\n",
       "      <td>0.158157</td>\n",
       "      <td>0.167253</td>\n",
       "      <td>0.050893</td>\n",
       "    </tr>\n",
       "    <tr>\n",
       "      <th>16997</th>\n",
       "      <td>mof_unit_85611</td>\n",
       "      <td>4669.804446</td>\n",
       "      <td>1322.04892</td>\n",
       "      <td>0.470109</td>\n",
       "      <td>4288.76</td>\n",
       "      <td>0.54950</td>\n",
       "      <td>1.1689</td>\n",
       "      <td>Me-CN</td>\n",
       "      <td>2</td>\n",
       "      <td>7</td>\n",
       "      <td>...</td>\n",
       "      <td>0.004011</td>\n",
       "      <td>0.007408</td>\n",
       "      <td>0.014109</td>\n",
       "      <td>0.025434</td>\n",
       "      <td>0.049689</td>\n",
       "      <td>0.083994</td>\n",
       "      <td>0.137930</td>\n",
       "      <td>0.183136</td>\n",
       "      <td>0.210882</td>\n",
       "      <td>0.055634</td>\n",
       "    </tr>\n",
       "    <tr>\n",
       "      <th>16998</th>\n",
       "      <td>mof_unit_85612</td>\n",
       "      <td>4682.120862</td>\n",
       "      <td>1213.51148</td>\n",
       "      <td>0.430379</td>\n",
       "      <td>4331.86</td>\n",
       "      <td>0.60643</td>\n",
       "      <td>1.4091</td>\n",
       "      <td>OH-HCO</td>\n",
       "      <td>3</td>\n",
       "      <td>7</td>\n",
       "      <td>...</td>\n",
       "      <td>0.004918</td>\n",
       "      <td>0.006722</td>\n",
       "      <td>0.010738</td>\n",
       "      <td>0.026477</td>\n",
       "      <td>0.042297</td>\n",
       "      <td>0.064593</td>\n",
       "      <td>0.116071</td>\n",
       "      <td>0.173451</td>\n",
       "      <td>0.227716</td>\n",
       "      <td>0.090660</td>\n",
       "    </tr>\n",
       "    <tr>\n",
       "      <th>16999</th>\n",
       "      <td>mof_unit_85613</td>\n",
       "      <td>25702.628698</td>\n",
       "      <td>4793.21712</td>\n",
       "      <td>0.309670</td>\n",
       "      <td>5006.39</td>\n",
       "      <td>0.71730</td>\n",
       "      <td>2.3163</td>\n",
       "      <td>OMe</td>\n",
       "      <td>1</td>\n",
       "      <td>2</td>\n",
       "      <td>...</td>\n",
       "      <td>0.002160</td>\n",
       "      <td>0.005693</td>\n",
       "      <td>0.012553</td>\n",
       "      <td>0.025937</td>\n",
       "      <td>0.046041</td>\n",
       "      <td>0.077016</td>\n",
       "      <td>0.097408</td>\n",
       "      <td>0.126238</td>\n",
       "      <td>0.225996</td>\n",
       "      <td>0.257168</td>\n",
       "    </tr>\n",
       "  </tbody>\n",
       "</table>\n",
       "<p>17000 rows × 27 columns</p>\n",
       "</div>"
      ],
      "text/plain": [
       "              MOFname  volume [A^3]  weight [u]  density [g/cm^3]  \\\n",
       "0      mof_unit_68614   1208.301332   797.70936          1.096273   \n",
       "1      mof_unit_68615   4126.414623  3733.65779          1.502488   \n",
       "2      mof_unit_68616   1602.148373   747.21048          0.774443   \n",
       "3      mof_unit_68617   2436.629312   995.80232          0.678630   \n",
       "4      mof_unit_68618   3123.418006  1337.53800          0.711091   \n",
       "...               ...           ...         ...               ...   \n",
       "16995  mof_unit_85609  32660.944605  4723.68288          0.240160   \n",
       "16996  mof_unit_85610   5070.998617  1499.13262          0.490903   \n",
       "16997  mof_unit_85611   4669.804446  1322.04892          0.470109   \n",
       "16998  mof_unit_85612   4682.120862  1213.51148          0.430379   \n",
       "16999  mof_unit_85613  25702.628698  4793.21712          0.309670   \n",
       "\n",
       "       surface_area [m^2/g]  void_fraction  void_volume [cm^3/g]  \\\n",
       "0                    586.54        0.11392                0.1039   \n",
       "1                    852.49        0.21367                0.1422   \n",
       "2                   3155.73        0.33883                0.4375   \n",
       "3                   3521.09        0.40464                0.5963   \n",
       "4                   2678.46        0.38959                0.5479   \n",
       "...                     ...            ...                   ...   \n",
       "16995               5720.14        0.77614                3.2318   \n",
       "16996               4017.28        0.59192                1.2058   \n",
       "16997               4288.76        0.54950                1.1689   \n",
       "16998               4331.86        0.60643                1.4091   \n",
       "16999               5006.39        0.71730                2.3163   \n",
       "\n",
       "      functional_groups  metal_linker  organic_linker1  ...         2  \\\n",
       "0                   OEt             2                5  ...  0.029754   \n",
       "1                   H-I             4                6  ...  0.003929   \n",
       "2                 CN-OH             3               11  ...  0.087671   \n",
       "3                   OMe             2                1  ...  0.011544   \n",
       "4                NO2-Pr             3                8  ...  0.006221   \n",
       "...                 ...           ...              ...  ...       ...   \n",
       "16995            OH-NO2             3                3  ...  0.002510   \n",
       "16996            Me-OMe             3                1  ...  0.002413   \n",
       "16997             Me-CN             2                7  ...  0.004011   \n",
       "16998            OH-HCO             3                7  ...  0.004918   \n",
       "16999               OMe             1                2  ...  0.002160   \n",
       "\n",
       "              3         4         5         6         7         8         9  \\\n",
       "0      0.085012  0.074386  0.052070  0.040381  0.045694  0.039318  0.042506   \n",
       "1      0.003820  0.007750  0.035692  0.143203  0.117225  0.046061  0.034600   \n",
       "2      0.119843  0.098931  0.100808  0.095982  0.053353  0.039143  0.029224   \n",
       "3      0.036536  0.087829  0.112345  0.125912  0.153404  0.072834  0.023921   \n",
       "4      0.020045  0.031005  0.052432  0.072773  0.110592  0.157890  0.158877   \n",
       "...         ...       ...       ...       ...       ...       ...       ...   \n",
       "16995  0.005413  0.009350  0.017346  0.029882  0.047154  0.073527  0.106513   \n",
       "16996  0.009846  0.022692  0.039352  0.083952  0.128651  0.146093  0.158157   \n",
       "16997  0.007408  0.014109  0.025434  0.049689  0.083994  0.137930  0.183136   \n",
       "16998  0.006722  0.010738  0.026477  0.042297  0.064593  0.116071  0.173451   \n",
       "16999  0.005693  0.012553  0.025937  0.046041  0.077016  0.097408  0.126238   \n",
       "\n",
       "             10        11  \n",
       "0      0.032942  0.014877  \n",
       "1      0.025213  0.022266  \n",
       "2      0.030832  0.023593  \n",
       "3      0.018923  0.014757  \n",
       "4      0.048483  0.016885  \n",
       "...         ...       ...  \n",
       "16995  0.183388  0.411512  \n",
       "16996  0.167253  0.050893  \n",
       "16997  0.210882  0.055634  \n",
       "16998  0.227716  0.090660  \n",
       "16999  0.225996  0.257168  \n",
       "\n",
       "[17000 rows x 27 columns]"
      ]
     },
     "execution_count": 8,
     "metadata": {},
     "output_type": "execute_result"
    }
   ],
   "source": [
    "generate_selectivity_catalog(df_test)"
   ]
  },
  {
   "cell_type": "markdown",
   "id": "da2328c6-f2b7-4f44-b1ba-09ff93b29662",
   "metadata": {},
   "source": [
    "## Encode Data"
   ]
  },
  {
   "cell_type": "code",
   "execution_count": 9,
   "id": "df166798-a5f6-4eeb-a42d-e929a8d126b4",
   "metadata": {},
   "outputs": [
    {
     "name": "stdout",
     "output_type": "stream",
     "text": [
      "topo_0                                             int64\n",
      "topo_1                                             int64\n",
      "topo_2                                             int64\n",
      "topo_3                                             int64\n",
      "topo_4                                             int64\n",
      "topo_5                                             int64\n",
      "topo_6                                             int64\n",
      "topo_7                                             int64\n",
      "topo_8                                             int64\n",
      "topo_9                                             int64\n",
      "MOFname                                           object\n",
      "volume [A^3]                                     float64\n",
      "weight [u]                                       float64\n",
      "density [g/cm^3]                                 float64\n",
      "surface_area [m^2/g]                             float64\n",
      "void_fraction                                    float64\n",
      "void_volume [cm^3/g]                             float64\n",
      "functional_groups                                  int64\n",
      "metal_linker                                       int64\n",
      "organic_linker1                                    int64\n",
      "organic_linker2                                    int64\n",
      "catalog CO2/N2                                   float64\n",
      "CO2/N2_selectivity                               float64\n",
      "heat_adsorption_CO2_P0.15bar_T298K [kcal/mol]    float64\n",
      "0                                                float64\n",
      "1                                                float64\n",
      "2                                                float64\n",
      "3                                                float64\n",
      "4                                                float64\n",
      "5                                                float64\n",
      "6                                                float64\n",
      "7                                                float64\n",
      "8                                                float64\n",
      "9                                                float64\n",
      "10                                               float64\n",
      "11                                               float64\n",
      "dtype: object\n"
     ]
    }
   ],
   "source": [
    "encoder = {'functional_groups': func_encoder}\n",
    "df_test = df_test.replace(encoder)\n",
    "\n",
    "topo_encode = hash_encoder.transform(df_test['topology'])\n",
    "\n",
    "topo_name = list(topo_encode.columns)\n",
    "topo_rename = {}\n",
    "\n",
    "for i in range(len(topo_name)):\n",
    "    topo_rename[topo_name[i]] = \"topo_{}\".format(i)\n",
    "\n",
    "topo_encode = topo_encode.rename(columns = topo_rename)\n",
    "\n",
    "df_test = df_test.drop('topology', axis=1)\n",
    "df_test = pd.concat([topo_encode, df_test], axis=1)\n",
    "print(df_test.dtypes)"
   ]
  },
  {
   "cell_type": "markdown",
   "id": "2e295e8a-6cb2-41a3-9e09-ad775e989715",
   "metadata": {},
   "source": [
    "## Select features"
   ]
  },
  {
   "cell_type": "markdown",
   "id": "2761ab11-a03a-4a91-9433-6a25a05a4cf9",
   "metadata": {},
   "source": [
    "### Normal"
   ]
  },
  {
   "cell_type": "code",
   "execution_count": 10,
   "id": "855623c8-612b-4944-b74c-0dbd8f240fb8",
   "metadata": {},
   "outputs": [],
   "source": [
    "X = df_test[features].values\n",
    "\n",
    "# mol2vec_feat = pickle.load(open(\"data/test/mol2vec.pkl\", \"rb\"))\n",
    "# latent_space = pickle.load(open(\"data/test/latent_space_GINE.pkl\", \"rb\"))\n",
    "# nan_idx = []\n",
    "# for idx, i in enumerate(mol2vec_feat):\n",
    "#     if type(i) == float:\n",
    "#         nan_idx.append(idx)\n",
    "\n",
    "# mask = np.ones((17000,), dtype=bool)\n",
    "# mask[nan_idx] = False\n",
    "\n",
    "# X = X[mask]\n",
    "# mol2vec_feat = mol2vec_feat[mask]\n",
    "\n",
    "# expand_dim = lambda x:np.expand_dims(x, axis=0)\n",
    "# mol2vec_feat = np.concatenate(list(map(expand_dim, mol2vec_feat)), axis=0)\n",
    "\n",
    "# X = np.concatenate((X, latent_space, mol2vec_feat), axis=1)"
   ]
  },
  {
   "cell_type": "markdown",
   "id": "77cc7351-7d21-4ae9-84a0-6a25a22df432",
   "metadata": {},
   "source": [
    "### GNN concat"
   ]
  },
  {
   "cell_type": "code",
   "execution_count": 5,
   "id": "a4c1767b-c824-4c73-a712-386a89a2c2b7",
   "metadata": {},
   "outputs": [],
   "source": [
    "df_test = pd.read_csv('data/test/auto_SAGE_feat_test.csv')\n",
    "X = df_test[features].values"
   ]
  },
  {
   "cell_type": "markdown",
   "id": "912cbf38-ce48-4af7-a562-d47b3ffd941a",
   "metadata": {},
   "source": [
    "## Convert CO2/N2 selectivity by square root selectivity and multiply by heat adsorption"
   ]
  },
  {
   "cell_type": "code",
   "execution_count": 145,
   "id": "6f785f1b-6480-41b1-b612-04066c08c0a8",
   "metadata": {},
   "outputs": [],
   "source": [
    "# X[:, features_idx['CO2/N2_selectivity']] = np.sqrt(X[:, features_idx['CO2/N2_selectivity']]) * X[:, features_idx['heat_adsorption_CO2_P0.15bar_T298K [kcal/mol]']]"
   ]
  },
  {
   "cell_type": "markdown",
   "id": "94da01d0-327d-40c0-a9f2-b48340976558",
   "metadata": {},
   "source": [
    "## Scale Data"
   ]
  },
  {
   "cell_type": "code",
   "execution_count": 11,
   "id": "e0cabc86-a5d5-46e4-ac37-910f62ff8170",
   "metadata": {},
   "outputs": [],
   "source": [
    "sc = pickle.load(open('model/general/standardscaler.pkl', 'rb'))\n",
    "X = sc.transform(X)"
   ]
  },
  {
   "cell_type": "markdown",
   "id": "73961045-889b-48b0-a798-b9d9bb3c1d60",
   "metadata": {},
   "source": [
    "# Model"
   ]
  },
  {
   "cell_type": "markdown",
   "id": "154b3781-5d11-45e7-8feb-3f9ef2fce6cb",
   "metadata": {},
   "source": [
    "## MLP"
   ]
  },
  {
   "cell_type": "code",
   "execution_count": 6,
   "id": "c8fb94ef-6485-4524-90ab-a8ac25e04c98",
   "metadata": {},
   "outputs": [],
   "source": [
    "class MLP(torch.nn.Module):\n",
    "    def __init__(self, in_dim, out_dim):\n",
    "        super(MLP, self).__init__()\n",
    "        self.fc1 = nn.Linear(in_dim, 64)\n",
    "        self.bn1 = nn.BatchNorm1d(64)\n",
    "        self.relu1 = nn.ReLU() \n",
    "        \n",
    "        self.fc2 = nn.Linear(64, 128)\n",
    "        self.bn2 = nn.BatchNorm1d(128)\n",
    "        self.relu2 = nn.ReLU()\n",
    "        \n",
    "        self.fc3 = nn.Linear(128, 256)\n",
    "        self.bn3 = nn.BatchNorm1d(256)\n",
    "        self.relu3 = nn.ReLU()\n",
    "        \n",
    "        self.fc4 = nn.Linear(256, 512)\n",
    "        self.bn4 = nn.BatchNorm1d(512)\n",
    "        self.relu4 = nn.ReLU()\n",
    "        self.dropout = nn.Dropout(p=0.01)\n",
    "        \n",
    "        self.output = nn.Linear(512, 1)\n",
    "        \n",
    "    def forward(self, x, batch_norm=False):\n",
    "        x = self.fc1(x)\n",
    "        if batch_norm:\n",
    "            x = self.bn1(x)\n",
    "        x = self.relu1(x)\n",
    "        \n",
    "        x = self.fc2(x)\n",
    "        if batch_norm:\n",
    "            x = self.bn2(x)\n",
    "        x = self.relu2(x)\n",
    "        \n",
    "        x = self.fc3(x)\n",
    "        if batch_norm:\n",
    "            x = self.bn3(x)\n",
    "        x = self.relu3(x)\n",
    "        \n",
    "        x = self.fc4(x)\n",
    "        if batch_norm:\n",
    "            x = self.bn4(x)\n",
    "        x = self.relu4(x)\n",
    "        x = self.dropout(x)\n",
    "        \n",
    "        output = self.output(x)\n",
    "        return output"
   ]
  },
  {
   "cell_type": "code",
   "execution_count": 7,
   "id": "8a83cdce-6200-42d6-90cf-60ceacde400e",
   "metadata": {},
   "outputs": [
    {
     "data": {
      "text/plain": [
       "MLP(\n",
       "  (fc1): Linear(in_features=277, out_features=64, bias=True)\n",
       "  (bn1): BatchNorm1d(64, eps=1e-05, momentum=0.1, affine=True, track_running_stats=True)\n",
       "  (relu1): ReLU()\n",
       "  (fc2): Linear(in_features=64, out_features=128, bias=True)\n",
       "  (bn2): BatchNorm1d(128, eps=1e-05, momentum=0.1, affine=True, track_running_stats=True)\n",
       "  (relu2): ReLU()\n",
       "  (fc3): Linear(in_features=128, out_features=256, bias=True)\n",
       "  (bn3): BatchNorm1d(256, eps=1e-05, momentum=0.1, affine=True, track_running_stats=True)\n",
       "  (relu3): ReLU()\n",
       "  (fc4): Linear(in_features=256, out_features=512, bias=True)\n",
       "  (bn4): BatchNorm1d(512, eps=1e-05, momentum=0.1, affine=True, track_running_stats=True)\n",
       "  (relu4): ReLU()\n",
       "  (dropout): Dropout(p=0.01, inplace=False)\n",
       "  (output): Linear(in_features=512, out_features=1, bias=True)\n",
       ")"
      ]
     },
     "execution_count": 7,
     "metadata": {},
     "output_type": "execute_result"
    }
   ],
   "source": [
    "model = MLP(X.shape[1], 1).to(device)\n",
    "model.load_state_dict(torch.load(\"model/mlp.pt\"))\n",
    "model.eval()"
   ]
  },
  {
   "cell_type": "code",
   "execution_count": 8,
   "id": "56a24525-a942-47e3-95fe-a155115d4f6e",
   "metadata": {},
   "outputs": [
    {
     "data": {
      "text/plain": [
       "torch.Size([16237, 277])"
      ]
     },
     "execution_count": 8,
     "metadata": {},
     "output_type": "execute_result"
    }
   ],
   "source": [
    "torch.tensor(X).shape"
   ]
  },
  {
   "cell_type": "code",
   "execution_count": 9,
   "id": "157bd320-c215-4081-9f6a-485a80b9bfca",
   "metadata": {},
   "outputs": [],
   "source": [
    "y_mlp = model(torch.tensor(X).to(device).float())"
   ]
  },
  {
   "cell_type": "code",
   "execution_count": 10,
   "id": "ccac6893-29ce-4433-b9e3-b3148cdf96b3",
   "metadata": {},
   "outputs": [],
   "source": [
    "y_mlp = y_mlp.detach().cpu().numpy()"
   ]
  },
  {
   "cell_type": "code",
   "execution_count": 11,
   "id": "0724d1d2-428d-4a20-a966-c56b1896285a",
   "metadata": {},
   "outputs": [
    {
     "data": {
      "text/plain": [
       "(16237, 1)"
      ]
     },
     "execution_count": 11,
     "metadata": {},
     "output_type": "execute_result"
    }
   ],
   "source": [
    "y_mlp.shape"
   ]
  },
  {
   "cell_type": "code",
   "execution_count": 12,
   "id": "59a1b310-7eb4-44ae-a4f0-89dc314ecbaa",
   "metadata": {},
   "outputs": [
    {
     "data": {
      "text/plain": [
       "array([[189.37973  ],\n",
       "       [ 68.59271  ],\n",
       "       [ 67.384155 ],\n",
       "       ...,\n",
       "       [  0.4457953],\n",
       "       [ -1.3817979],\n",
       "       [ -4.8175716]], dtype=float32)"
      ]
     },
     "execution_count": 12,
     "metadata": {},
     "output_type": "execute_result"
    }
   ],
   "source": [
    "y_mlp"
   ]
  },
  {
   "cell_type": "markdown",
   "id": "bf61f1bb-e488-462a-8f5e-32667e67d949",
   "metadata": {},
   "source": [
    "## XGBoost"
   ]
  },
  {
   "cell_type": "code",
   "execution_count": 12,
   "id": "ba9c99db-cf44-4604-8969-568584665d3d",
   "metadata": {},
   "outputs": [],
   "source": [
    "model = xgb.XGBRegressor()\n",
    "model.load_model('model/model.json')\n",
    "\n",
    "y = model.predict(X)"
   ]
  },
  {
   "cell_type": "code",
   "execution_count": 13,
   "id": "5b831625-6db4-4c3c-8212-b13412ff43c1",
   "metadata": {},
   "outputs": [
    {
     "data": {
      "image/png": "[encoded data removed]",
      "text/plain": [
       "<Figure size 2160x720 with 1 Axes>"
      ]
     },
     "metadata": {
      "needs_background": "light"
     },
     "output_type": "display_data"
    }
   ],
   "source": [
    "plt.figure(figsize=(30, 10))\n",
    "sns.barplot(x=features, y=model.feature_importances_)\n",
    "plt.show()"
   ]
  },
  {
   "cell_type": "code",
   "execution_count": 13,
   "id": "3b85c390-e523-4816-aa26-fdc8547dc300",
   "metadata": {},
   "outputs": [
    {
     "ename": "NameError",
     "evalue": "name 'y_mlp' is not defined",
     "output_type": "error",
     "traceback": [
      "\u001b[1;31m---------------------------------------------------------------------------\u001b[0m",
      "\u001b[1;31mNameError\u001b[0m                                 Traceback (most recent call last)",
      "\u001b[1;32m~\\AppData\\Local\\Temp/ipykernel_16508/3927256128.py\u001b[0m in \u001b[0;36m<module>\u001b[1;34m\u001b[0m\n\u001b[1;32m----> 1\u001b[1;33m \u001b[0my\u001b[0m\u001b[1;33m[\u001b[0m\u001b[0mmask\u001b[0m\u001b[1;33m]\u001b[0m \u001b[1;33m=\u001b[0m \u001b[0my_mlp\u001b[0m\u001b[1;33m.\u001b[0m\u001b[0mflatten\u001b[0m\u001b[1;33m(\u001b[0m\u001b[1;33m)\u001b[0m\u001b[1;33m\u001b[0m\u001b[1;33m\u001b[0m\u001b[0m\n\u001b[0m",
      "\u001b[1;31mNameError\u001b[0m: name 'y_mlp' is not defined"
     ]
    }
   ],
   "source": [
    "y[mask] = y_mlp.flatten()"
   ]
  },
  {
   "cell_type": "code",
   "execution_count": 14,
   "id": "b492640e-91e3-434b-8085-7a85749fa59b",
   "metadata": {},
   "outputs": [],
   "source": [
    "id_ = np.array(df_test['MOFname'])\n",
    "\n",
    "cut_mof_unit = lambda x: x.split('_')[-1]\n",
    "id_ = np.array(list(map(cut_mof_unit, id_)))\n",
    "d = {'id': id_, 'CO2_working_capacity [mL/g]': y}\n",
    "\n",
    "df_inference = pd.DataFrame(d)"
   ]
  },
  {
   "cell_type": "code",
   "execution_count": 15,
   "id": "4706a920-a1d3-446d-92ea-03121d1e699e",
   "metadata": {},
   "outputs": [],
   "source": [
    "df_inference.to_csv('xgboost_submission_hist.csv', index=False)"
   ]
  },
  {
   "cell_type": "markdown",
   "id": "f1bda614-bb4d-4b64-a407-a73bf5c1b857",
   "metadata": {},
   "source": [
    "# Fill XGBoost prediction with MLP Prediction"
   ]
  },
  {
   "cell_type": "code",
   "execution_count": 13,
   "id": "f448d018-9b58-4f0e-ab74-6d36a3fa58e4",
   "metadata": {},
   "outputs": [],
   "source": [
    "df_inference = pd.read_csv('xgboost_submission.csv')"
   ]
  },
  {
   "cell_type": "code",
   "execution_count": 15,
   "id": "b30434a9-ea4b-429d-b81f-358e19bf9b85",
   "metadata": {},
   "outputs": [],
   "source": [
    "y = df_inference['CO2_working_capacity [mL/g]'].values\n",
    "y[mask] = y_mlp.flatten()"
   ]
  },
  {
   "cell_type": "code",
   "execution_count": 16,
   "id": "3aa5dacc-834c-424c-8795-eb70968a4fe0",
   "metadata": {},
   "outputs": [],
   "source": [
    "df_inference.to_csv('submission.csv', index=False)"
   ]
  },
  {
   "cell_type": "code",
   "execution_count": null,
   "id": "f4200818-45fa-4b0b-a8f2-16f2f6167cac",
   "metadata": {},
   "outputs": [],
   "source": []
  }
 ],
 "metadata": {
  "kernelspec": {
   "display_name": "TMLCC_CUDA",
   "language": "python",
   "name": "tmlcc_cuda"
  },
  "language_info": {
   "codemirror_mode": {
    "name": "ipython",
    "version": 3
   },
   "file_extension": ".py",
   "mimetype": "text/x-python",
   "name": "python",
   "nbconvert_exporter": "python",
   "pygments_lexer": "ipython3",
   "version": "3.7.11"
  }
 },
 "nbformat": 4,
 "nbformat_minor": 5
}

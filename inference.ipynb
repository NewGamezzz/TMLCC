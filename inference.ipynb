{
 "cells": [
  {
   "cell_type": "markdown",
   "id": "0eaa4a4d-5bd6-4672-974f-04d9f9ed8cfc",
   "metadata": {},
   "source": [
    "# Import Library"
   ]
  },
  {
   "cell_type": "code",
   "execution_count": 115,
   "id": "57c7df4a-f5c9-4ea3-89d3-c78c57ecb218",
   "metadata": {},
   "outputs": [],
   "source": [
    "import numpy as np\n",
    "import pandas as pd\n",
    "import json\n",
    "from utils.utils import *\n",
    "\n",
    "import xgboost as xgb\n",
    "from sklearn.metrics import mean_absolute_error\n",
    "from sklearn.model_selection import train_test_split, GridSearchCV, KFold\n",
    "from sklearn.preprocessing import StandardScaler\n",
    "import pandas as pd\n",
    "import numpy as np\n",
    "import pickle\n",
    "import seaborn as sns\n",
    "import category_encoders as ce"
   ]
  },
  {
   "cell_type": "markdown",
   "id": "90522daf-7746-4f93-9465-7badd7dfb7e3",
   "metadata": {},
   "source": [
    "# Load Data"
   ]
  },
  {
   "cell_type": "code",
   "execution_count": 116,
   "id": "f9d435ec-1fae-42c6-99a8-be5fc1e32b11",
   "metadata": {},
   "outputs": [
    {
     "name": "stdout",
     "output_type": "stream",
     "text": [
      "MOFname                                           object\n",
      "volume [A^3]                                     float64\n",
      "weight [u]                                       float64\n",
      "surface_area [m^2/g]                             float64\n",
      "void_fraction                                    float64\n",
      "void_volume [cm^3/g]                             float64\n",
      "functional_groups                                 object\n",
      "metal_linker                                       int64\n",
      "organic_linker1                                    int64\n",
      "organic_linker2                                    int64\n",
      "topology                                          object\n",
      "CO2/N2_selectivity                               float64\n",
      "heat_adsorption_CO2_P0.15bar_T298K [kcal/mol]    float64\n",
      "dtype: object\n"
     ]
    }
   ],
   "source": [
    "df_test = pd.read_csv('data/pretest/pretest.csv')\n",
    "print(df_test.dtypes)"
   ]
  },
  {
   "cell_type": "code",
   "execution_count": 117,
   "id": "2a884c38-9c92-4754-b1ab-5f953faf70d4",
   "metadata": {},
   "outputs": [
    {
     "data": {
      "text/plain": [
       "MOFname                                           0\n",
       "volume [A^3]                                      0\n",
       "weight [u]                                        0\n",
       "surface_area [m^2/g]                              0\n",
       "void_fraction                                     0\n",
       "void_volume [cm^3/g]                              0\n",
       "functional_groups                                21\n",
       "metal_linker                                      0\n",
       "organic_linker1                                   0\n",
       "organic_linker2                                   0\n",
       "topology                                          0\n",
       "CO2/N2_selectivity                                0\n",
       "heat_adsorption_CO2_P0.15bar_T298K [kcal/mol]     0\n",
       "dtype: int64"
      ]
     },
     "execution_count": 117,
     "metadata": {},
     "output_type": "execute_result"
    }
   ],
   "source": [
    "df_test.isna().sum()"
   ]
  },
  {
   "cell_type": "markdown",
   "id": "21a81435-4577-40b8-a060-8215261318d2",
   "metadata": {},
   "source": [
    "# Load dependent data"
   ]
  },
  {
   "cell_type": "code",
   "execution_count": 118,
   "id": "7e2aa3af-6886-4d4b-820b-6a196bae3b16",
   "metadata": {},
   "outputs": [],
   "source": [
    "features = json.load(open('model/general/features.json', 'r'))\n",
    "features_idx = json.load(open('model/general/features_idx.json', 'r'))\n",
    "\n",
    "topo_encoder = json.load(open('model/general/encoder/topology_encoder.json', 'r'))\n",
    "func_encoder = json.load(open('model/general/encoder/functional_groups_encoder.json', 'r'))\n",
    "hash_encoder = pickle.load(open('model/hash_encode_topology.pkl', 'rb'))"
   ]
  },
  {
   "cell_type": "markdown",
   "id": "a6872204-1bfe-4c58-8693-aa75dde71709",
   "metadata": {},
   "source": [
    "# Preprocessing Data"
   ]
  },
  {
   "cell_type": "markdown",
   "id": "2cc63106-8187-461e-b23a-e7f8ea29406c",
   "metadata": {},
   "source": [
    "## Insert Density"
   ]
  },
  {
   "cell_type": "code",
   "execution_count": 120,
   "id": "44e94295-21c3-4d64-86e1-f6c53811f760",
   "metadata": {},
   "outputs": [],
   "source": [
    "df_test.insert(loc=3, column=\"density [g/cm^3]\", value=(df_test[\"weight [u]\"] / df_test[\"volume [A^3]\"]) * 1.66054)"
   ]
  },
  {
   "cell_type": "markdown",
   "id": "5e3af768-6c7d-4224-901e-5e212004d149",
   "metadata": {
    "tags": []
   },
   "source": [
    "## Generate catalog"
   ]
  },
  {
   "cell_type": "code",
   "execution_count": 121,
   "id": "3a256e8c-fb1b-4477-9bd5-2b0b3cddb0a3",
   "metadata": {},
   "outputs": [
    {
     "data": {
      "text/html": [
       "<div>\n",
       "<style scoped>\n",
       "    .dataframe tbody tr th:only-of-type {\n",
       "        vertical-align: middle;\n",
       "    }\n",
       "\n",
       "    .dataframe tbody tr th {\n",
       "        vertical-align: top;\n",
       "    }\n",
       "\n",
       "    .dataframe thead th {\n",
       "        text-align: right;\n",
       "    }\n",
       "</style>\n",
       "<table border=\"1\" class=\"dataframe\">\n",
       "  <thead>\n",
       "    <tr style=\"text-align: right;\">\n",
       "      <th></th>\n",
       "      <th>MOFname</th>\n",
       "      <th>volume [A^3]</th>\n",
       "      <th>weight [u]</th>\n",
       "      <th>density [g/cm^3]</th>\n",
       "      <th>surface_area [m^2/g]</th>\n",
       "      <th>void_fraction</th>\n",
       "      <th>void_volume [cm^3/g]</th>\n",
       "      <th>functional_groups</th>\n",
       "      <th>metal_linker</th>\n",
       "      <th>organic_linker1</th>\n",
       "      <th>organic_linker2</th>\n",
       "      <th>catalog CO2/N2</th>\n",
       "      <th>topology</th>\n",
       "      <th>CO2/N2_selectivity</th>\n",
       "      <th>heat_adsorption_CO2_P0.15bar_T298K [kcal/mol]</th>\n",
       "    </tr>\n",
       "  </thead>\n",
       "  <tbody>\n",
       "    <tr>\n",
       "      <th>0</th>\n",
       "      <td>mof_unit_pretest_1</td>\n",
       "      <td>6288.293858</td>\n",
       "      <td>2271.687140</td>\n",
       "      <td>0.599881</td>\n",
       "      <td>4148.48</td>\n",
       "      <td>0.41225</td>\n",
       "      <td>0.6872</td>\n",
       "      <td>OPr</td>\n",
       "      <td>4</td>\n",
       "      <td>7</td>\n",
       "      <td>27</td>\n",
       "      <td>1.0</td>\n",
       "      <td>acs</td>\n",
       "      <td>14.048791</td>\n",
       "      <td>5.604779</td>\n",
       "    </tr>\n",
       "    <tr>\n",
       "      <th>1</th>\n",
       "      <td>mof_unit_pretest_2</td>\n",
       "      <td>1790.506437</td>\n",
       "      <td>887.747320</td>\n",
       "      <td>0.823309</td>\n",
       "      <td>2191.34</td>\n",
       "      <td>0.30231</td>\n",
       "      <td>0.3672</td>\n",
       "      <td>HCO-OPr</td>\n",
       "      <td>2</td>\n",
       "      <td>4</td>\n",
       "      <td>26</td>\n",
       "      <td>1.0</td>\n",
       "      <td>pcu</td>\n",
       "      <td>20.217222</td>\n",
       "      <td>6.148776</td>\n",
       "    </tr>\n",
       "    <tr>\n",
       "      <th>2</th>\n",
       "      <td>mof_unit_pretest_3</td>\n",
       "      <td>2348.969203</td>\n",
       "      <td>1239.765880</td>\n",
       "      <td>0.876419</td>\n",
       "      <td>2030.88</td>\n",
       "      <td>0.28533</td>\n",
       "      <td>0.3256</td>\n",
       "      <td>SO3H-OH</td>\n",
       "      <td>3</td>\n",
       "      <td>18</td>\n",
       "      <td>22</td>\n",
       "      <td>1.0</td>\n",
       "      <td>pcu</td>\n",
       "      <td>33.108662</td>\n",
       "      <td>6.164397</td>\n",
       "    </tr>\n",
       "    <tr>\n",
       "      <th>3</th>\n",
       "      <td>mof_unit_pretest_4</td>\n",
       "      <td>2941.571525</td>\n",
       "      <td>1147.951400</td>\n",
       "      <td>0.648027</td>\n",
       "      <td>3587.13</td>\n",
       "      <td>0.41963</td>\n",
       "      <td>0.6475</td>\n",
       "      <td>Et-OH</td>\n",
       "      <td>2</td>\n",
       "      <td>8</td>\n",
       "      <td>15</td>\n",
       "      <td>1.0</td>\n",
       "      <td>pcu</td>\n",
       "      <td>12.800562</td>\n",
       "      <td>5.164957</td>\n",
       "    </tr>\n",
       "    <tr>\n",
       "      <th>4</th>\n",
       "      <td>mof_unit_pretest_5</td>\n",
       "      <td>705.397601</td>\n",
       "      <td>643.270740</td>\n",
       "      <td>1.514290</td>\n",
       "      <td>0.00</td>\n",
       "      <td>0.07060</td>\n",
       "      <td>0.0466</td>\n",
       "      <td>Cl-H</td>\n",
       "      <td>3</td>\n",
       "      <td>10</td>\n",
       "      <td>22</td>\n",
       "      <td>1.0</td>\n",
       "      <td>pcu</td>\n",
       "      <td>23.395617</td>\n",
       "      <td>7.090687</td>\n",
       "    </tr>\n",
       "    <tr>\n",
       "      <th>...</th>\n",
       "      <td>...</td>\n",
       "      <td>...</td>\n",
       "      <td>...</td>\n",
       "      <td>...</td>\n",
       "      <td>...</td>\n",
       "      <td>...</td>\n",
       "      <td>...</td>\n",
       "      <td>...</td>\n",
       "      <td>...</td>\n",
       "      <td>...</td>\n",
       "      <td>...</td>\n",
       "      <td>...</td>\n",
       "      <td>...</td>\n",
       "      <td>...</td>\n",
       "      <td>...</td>\n",
       "    </tr>\n",
       "    <tr>\n",
       "      <th>1995</th>\n",
       "      <td>mof_unit_pretest_1996</td>\n",
       "      <td>5111.109714</td>\n",
       "      <td>1578.082220</td>\n",
       "      <td>0.512701</td>\n",
       "      <td>3630.31</td>\n",
       "      <td>0.58981</td>\n",
       "      <td>1.1504</td>\n",
       "      <td>COOH-NH2</td>\n",
       "      <td>2</td>\n",
       "      <td>1</td>\n",
       "      <td>14</td>\n",
       "      <td>0.0</td>\n",
       "      <td>nbo</td>\n",
       "      <td>4.778698</td>\n",
       "      <td>3.675003</td>\n",
       "    </tr>\n",
       "    <tr>\n",
       "      <th>1996</th>\n",
       "      <td>mof_unit_pretest_1997</td>\n",
       "      <td>911.269336</td>\n",
       "      <td>481.279680</td>\n",
       "      <td>0.877001</td>\n",
       "      <td>2546.02</td>\n",
       "      <td>0.36132</td>\n",
       "      <td>0.4120</td>\n",
       "      <td>CN-H</td>\n",
       "      <td>2</td>\n",
       "      <td>10</td>\n",
       "      <td>20</td>\n",
       "      <td>0.0</td>\n",
       "      <td>pcu</td>\n",
       "      <td>6.883387</td>\n",
       "      <td>3.732121</td>\n",
       "    </tr>\n",
       "    <tr>\n",
       "      <th>1997</th>\n",
       "      <td>mof_unit_pretest_1998</td>\n",
       "      <td>4236.596494</td>\n",
       "      <td>1127.792600</td>\n",
       "      <td>0.442040</td>\n",
       "      <td>4296.42</td>\n",
       "      <td>0.60298</td>\n",
       "      <td>1.3641</td>\n",
       "      <td>HCO-NH2</td>\n",
       "      <td>2</td>\n",
       "      <td>7</td>\n",
       "      <td>20</td>\n",
       "      <td>0.0</td>\n",
       "      <td>pcu</td>\n",
       "      <td>5.270734</td>\n",
       "      <td>3.354425</td>\n",
       "    </tr>\n",
       "    <tr>\n",
       "      <th>1998</th>\n",
       "      <td>mof_unit_pretest_1999</td>\n",
       "      <td>22861.645381</td>\n",
       "      <td>3492.712720</td>\n",
       "      <td>0.253691</td>\n",
       "      <td>6252.01</td>\n",
       "      <td>0.75732</td>\n",
       "      <td>2.9852</td>\n",
       "      <td>Me-OH</td>\n",
       "      <td>2</td>\n",
       "      <td>6</td>\n",
       "      <td>11</td>\n",
       "      <td>0.0</td>\n",
       "      <td>nbo</td>\n",
       "      <td>3.172914</td>\n",
       "      <td>2.643592</td>\n",
       "    </tr>\n",
       "    <tr>\n",
       "      <th>1999</th>\n",
       "      <td>mof_unit_pretest_2000</td>\n",
       "      <td>1959.675947</td>\n",
       "      <td>1725.765236</td>\n",
       "      <td>1.462335</td>\n",
       "      <td>0.00</td>\n",
       "      <td>0.02102</td>\n",
       "      <td>0.0144</td>\n",
       "      <td>Me-H</td>\n",
       "      <td>10</td>\n",
       "      <td>47</td>\n",
       "      <td>50</td>\n",
       "      <td>1.0</td>\n",
       "      <td>etb</td>\n",
       "      <td>9.704604</td>\n",
       "      <td>7.289342</td>\n",
       "    </tr>\n",
       "  </tbody>\n",
       "</table>\n",
       "<p>2000 rows × 15 columns</p>\n",
       "</div>"
      ],
      "text/plain": [
       "                    MOFname  volume [A^3]   weight [u]  density [g/cm^3]  \\\n",
       "0        mof_unit_pretest_1   6288.293858  2271.687140          0.599881   \n",
       "1        mof_unit_pretest_2   1790.506437   887.747320          0.823309   \n",
       "2        mof_unit_pretest_3   2348.969203  1239.765880          0.876419   \n",
       "3        mof_unit_pretest_4   2941.571525  1147.951400          0.648027   \n",
       "4        mof_unit_pretest_5    705.397601   643.270740          1.514290   \n",
       "...                     ...           ...          ...               ...   \n",
       "1995  mof_unit_pretest_1996   5111.109714  1578.082220          0.512701   \n",
       "1996  mof_unit_pretest_1997    911.269336   481.279680          0.877001   \n",
       "1997  mof_unit_pretest_1998   4236.596494  1127.792600          0.442040   \n",
       "1998  mof_unit_pretest_1999  22861.645381  3492.712720          0.253691   \n",
       "1999  mof_unit_pretest_2000   1959.675947  1725.765236          1.462335   \n",
       "\n",
       "      surface_area [m^2/g]  void_fraction  void_volume [cm^3/g]  \\\n",
       "0                  4148.48        0.41225                0.6872   \n",
       "1                  2191.34        0.30231                0.3672   \n",
       "2                  2030.88        0.28533                0.3256   \n",
       "3                  3587.13        0.41963                0.6475   \n",
       "4                     0.00        0.07060                0.0466   \n",
       "...                    ...            ...                   ...   \n",
       "1995               3630.31        0.58981                1.1504   \n",
       "1996               2546.02        0.36132                0.4120   \n",
       "1997               4296.42        0.60298                1.3641   \n",
       "1998               6252.01        0.75732                2.9852   \n",
       "1999                  0.00        0.02102                0.0144   \n",
       "\n",
       "     functional_groups  metal_linker  organic_linker1  organic_linker2  \\\n",
       "0                  OPr             4                7               27   \n",
       "1              HCO-OPr             2                4               26   \n",
       "2              SO3H-OH             3               18               22   \n",
       "3                Et-OH             2                8               15   \n",
       "4                 Cl-H             3               10               22   \n",
       "...                ...           ...              ...              ...   \n",
       "1995          COOH-NH2             2                1               14   \n",
       "1996              CN-H             2               10               20   \n",
       "1997           HCO-NH2             2                7               20   \n",
       "1998             Me-OH             2                6               11   \n",
       "1999              Me-H            10               47               50   \n",
       "\n",
       "      catalog CO2/N2 topology  CO2/N2_selectivity  \\\n",
       "0                1.0      acs           14.048791   \n",
       "1                1.0      pcu           20.217222   \n",
       "2                1.0      pcu           33.108662   \n",
       "3                1.0      pcu           12.800562   \n",
       "4                1.0      pcu           23.395617   \n",
       "...              ...      ...                 ...   \n",
       "1995             0.0      nbo            4.778698   \n",
       "1996             0.0      pcu            6.883387   \n",
       "1997             0.0      pcu            5.270734   \n",
       "1998             0.0      nbo            3.172914   \n",
       "1999             1.0      etb            9.704604   \n",
       "\n",
       "      heat_adsorption_CO2_P0.15bar_T298K [kcal/mol]  \n",
       "0                                          5.604779  \n",
       "1                                          6.148776  \n",
       "2                                          6.164397  \n",
       "3                                          5.164957  \n",
       "4                                          7.090687  \n",
       "...                                             ...  \n",
       "1995                                       3.675003  \n",
       "1996                                       3.732121  \n",
       "1997                                       3.354425  \n",
       "1998                                       2.643592  \n",
       "1999                                       7.289342  \n",
       "\n",
       "[2000 rows x 15 columns]"
      ]
     },
     "execution_count": 121,
     "metadata": {},
     "output_type": "execute_result"
    }
   ],
   "source": [
    "generate_selectivity_catalog(df_test)"
   ]
  },
  {
   "cell_type": "markdown",
   "id": "da2328c6-f2b7-4f44-b1ba-09ff93b29662",
   "metadata": {},
   "source": [
    "## Encode Data"
   ]
  },
  {
   "cell_type": "code",
   "execution_count": 122,
   "id": "df166798-a5f6-4eeb-a42d-e929a8d126b4",
   "metadata": {},
   "outputs": [
    {
     "name": "stdout",
     "output_type": "stream",
     "text": [
      "col_0                                              int64\n",
      "col_1                                              int64\n",
      "col_2                                              int64\n",
      "col_3                                              int64\n",
      "col_4                                              int64\n",
      "col_5                                              int64\n",
      "col_6                                              int64\n",
      "col_7                                              int64\n",
      "col_8                                              int64\n",
      "col_9                                              int64\n",
      "MOFname                                           object\n",
      "volume [A^3]                                     float64\n",
      "weight [u]                                       float64\n",
      "density [g/cm^3]                                 float64\n",
      "surface_area [m^2/g]                             float64\n",
      "void_fraction                                    float64\n",
      "void_volume [cm^3/g]                             float64\n",
      "functional_groups                                float64\n",
      "metal_linker                                       int64\n",
      "organic_linker1                                    int64\n",
      "organic_linker2                                    int64\n",
      "catalog CO2/N2                                   float64\n",
      "CO2/N2_selectivity                               float64\n",
      "heat_adsorption_CO2_P0.15bar_T298K [kcal/mol]    float64\n",
      "dtype: object\n"
     ]
    }
   ],
   "source": [
    "encoder = {'functional_groups': func_encoder}\n",
    "df_test = df_test.replace(encoder)\n",
    "\n",
    "topo_encode = hash_encoder.transform(df_test['topology'])\n",
    "df_test = df_test.drop('topology', axis=1)\n",
    "df_test = pd.concat([topo_encode, df_test], axis=1)\n",
    "print(df_test.dtypes)"
   ]
  },
  {
   "cell_type": "markdown",
   "id": "2e295e8a-6cb2-41a3-9e09-ad775e989715",
   "metadata": {},
   "source": [
    "## Select features"
   ]
  },
  {
   "cell_type": "code",
   "execution_count": 123,
   "id": "855623c8-612b-4944-b74c-0dbd8f240fb8",
   "metadata": {},
   "outputs": [
    {
     "name": "stdout",
     "output_type": "stream",
     "text": [
      "(2000, 22)\n"
     ]
    }
   ],
   "source": [
    "X = df_test[features].values\n",
    "print(X.shape)"
   ]
  },
  {
   "cell_type": "markdown",
   "id": "912cbf38-ce48-4af7-a562-d47b3ffd941a",
   "metadata": {},
   "source": [
    "## Convert CO2/N2 selectivity by square root selectivity and multiply by heat adsorption"
   ]
  },
  {
   "cell_type": "code",
   "execution_count": 124,
   "id": "6f785f1b-6480-41b1-b612-04066c08c0a8",
   "metadata": {},
   "outputs": [],
   "source": [
    "# X[:, features_idx['CO2/N2_selectivity']] = np.sqrt(X[:, features_idx['CO2/N2_selectivity']]) * X[:, features_idx['heat_adsorption_CO2_P0.15bar_T298K [kcal/mol]']]"
   ]
  },
  {
   "cell_type": "markdown",
   "id": "94da01d0-327d-40c0-a9f2-b48340976558",
   "metadata": {},
   "source": [
    "## Scale Data"
   ]
  },
  {
   "cell_type": "code",
   "execution_count": 125,
   "id": "e0cabc86-a5d5-46e4-ac37-910f62ff8170",
   "metadata": {},
   "outputs": [],
   "source": [
    "sc = pickle.load(open('model/general/standardscaler.pkl', 'rb'))\n",
    "X = sc.transform(X)"
   ]
  },
  {
   "cell_type": "markdown",
   "id": "73961045-889b-48b0-a798-b9d9bb3c1d60",
   "metadata": {},
   "source": [
    "# Model"
   ]
  },
  {
   "cell_type": "code",
   "execution_count": 126,
   "id": "ba9c99db-cf44-4604-8969-568584665d3d",
   "metadata": {},
   "outputs": [],
   "source": [
    "model = xgb.XGBRegressor()\n",
    "model.load_model('model/model.json')\n",
    "\n",
    "y = model.predict(X)"
   ]
  },
  {
   "cell_type": "code",
   "execution_count": 127,
   "id": "5b831625-6db4-4c3c-8212-b13412ff43c1",
   "metadata": {},
   "outputs": [
    {
     "data": {
      "image/png": "[encoded data removed]",
      "text/plain": [
       "<Figure size 2160x720 with 1 Axes>"
      ]
     },
     "metadata": {
      "needs_background": "light"
     },
     "output_type": "display_data"
    }
   ],
   "source": [
    "plt.figure(figsize=(30, 10))\n",
    "sns.barplot(x=features, y=model.feature_importances_)\n",
    "plt.show()"
   ]
  },
  {
   "cell_type": "code",
   "execution_count": 128,
   "id": "b492640e-91e3-434b-8085-7a85749fa59b",
   "metadata": {},
   "outputs": [],
   "source": [
    "id_ = np.array(df_test['MOFname'])\n",
    "\n",
    "cut_mof_unit = lambda x: x[9:]\n",
    "id_ = np.array(list(map(cut_mof_unit, id_)))\n",
    "d = {'id': id_, 'CO2_working_capacity [mL/g]': y}\n",
    "\n",
    "df_inference = pd.DataFrame(d)"
   ]
  },
  {
   "cell_type": "code",
   "execution_count": 129,
   "id": "4706a920-a1d3-446d-92ea-03121d1e699e",
   "metadata": {},
   "outputs": [],
   "source": [
    "df_inference.to_csv('submission.csv', index=False)"
   ]
  },
  {
   "cell_type": "code",
   "execution_count": null,
   "id": "f3e64df9-0871-4539-918a-2a1e41c987c2",
   "metadata": {},
   "outputs": [],
   "source": []
  },
  {
   "cell_type": "code",
   "execution_count": null,
   "id": "ad74cd37-a067-4c43-9fe0-05db47bba15a",
   "metadata": {},
   "outputs": [],
   "source": []
  }
 ],
 "metadata": {
  "kernelspec": {
   "display_name": "TMLCC",
   "language": "python",
   "name": "tmlcc"
  },
  "language_info": {
   "codemirror_mode": {
    "name": "ipython",
    "version": 3
   },
   "file_extension": ".py",
   "mimetype": "text/x-python",
   "name": "python",
   "nbconvert_exporter": "python",
   "pygments_lexer": "ipython3",
   "version": "3.7.9"
  }
 },
 "nbformat": 4,
 "nbformat_minor": 5
}
